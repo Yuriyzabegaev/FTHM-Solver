{
 "cells": [
  {
   "cell_type": "code",
   "execution_count": 20,
   "metadata": {},
   "outputs": [
    {
     "data": {
      "text/latex": [
       "$\\displaystyle \\frac{2 K_{i} \\nu \\left(- p_{h} + p_{l}\\right)}{\\eta_{l} a_{l}} + v$"
      ],
      "text/plain": [
       "2*K_i*\\nu*(-p_h + p_l)/(\\eta_l*a_l) + v"
      ]
     },
     "execution_count": 20,
     "metadata": {},
     "output_type": "execute_result"
    }
   ],
   "source": [
    "import sympy as sp\n",
    "\n",
    "p_h = sp.Symbol(\"p_h\")\n",
    "p_l = sp.Symbol(\"p_l\")\n",
    "v = sp.Symbol(\"v\")\n",
    "eta_l = sp.Symbol(r\"\\eta_l\")\n",
    "nu = sp.Symbol(r\"\\nu\")  # specific volume\n",
    "K_i = sp.Symbol(\"K_i\")\n",
    "a_l = sp.Symbol('a_l')\n",
    "\n",
    "eq = v + nu * K_i / eta_l * (2 / a_l * (p_l - p_h))\n",
    "eq"
   ]
  },
  {
   "cell_type": "code",
   "execution_count": 23,
   "metadata": {},
   "outputs": [
    {
     "data": {
      "text/latex": [
       "$\\displaystyle - \\frac{2 K_{h} K_{i} \\nu}{\\eta_{l} a_{l}} + 1$"
      ],
      "text/plain": [
       "-2*K_h*K_i*\\nu/(\\eta_l*a_l) + 1"
      ]
     },
     "execution_count": 23,
     "metadata": {},
     "output_type": "execute_result"
    }
   ],
   "source": [
    "K_h = sp.Symbol('K_h')\n",
    "eq = eq.subs(p_h, K_h * v)\n",
    "eq.diff(v)"
   ]
  },
  {
   "cell_type": "code",
   "execution_count": 9,
   "metadata": {},
   "outputs": [],
   "source": [
    "p_h =   # + ..."
   ]
  }
 ],
 "metadata": {
  "kernelspec": {
   "display_name": "Python 3",
   "language": "python",
   "name": "python3"
  },
  "language_info": {
   "codemirror_mode": {
    "name": "ipython",
    "version": 3
   },
   "file_extension": ".py",
   "mimetype": "text/x-python",
   "name": "python",
   "nbconvert_exporter": "python",
   "pygments_lexer": "ipython3",
   "version": "3.11.7"
  }
 },
 "nbformat": 4,
 "nbformat_minor": 2
}
