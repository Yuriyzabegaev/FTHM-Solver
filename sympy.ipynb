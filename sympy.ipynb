{
 "cells": [
  {
   "cell_type": "code",
   "execution_count": 23,
   "metadata": {},
   "outputs": [
    {
     "data": {
      "text/latex": [
       "$\\displaystyle \\left[\\begin{matrix}0 & B\\\\C & D\\end{matrix}\\right]$"
      ],
      "text/plain": [
       "Matrix([\n",
       "[0, B],\n",
       "[C, D]])"
      ]
     },
     "execution_count": 23,
     "metadata": {},
     "output_type": "execute_result"
    }
   ],
   "source": [
    "import sympy as sp\n",
    "\n",
    "COMMUTATIVE = False\n",
    "Astab, D = sp.symbols(r\"\\tilde{A} D\", commutative=COMMUTATIVE)\n",
    "B, C = sp.symbols('B C', commutative=COMMUTATIVE)\n",
    "I = 1 #sp.Symbol('I', commutatative=COMMUTATIVE)\n",
    "J = sp.Matrix([\n",
    "    [0, B],\n",
    "    [C, D]\n",
    "])\n",
    "J"
   ]
  },
  {
   "cell_type": "code",
   "execution_count": 27,
   "metadata": {},
   "outputs": [
    {
     "data": {
      "text/latex": [
       "$\\displaystyle - \\left(B D^{-1} C\\right)^{-1} B$"
      ],
      "text/plain": [
       "-(B*D**(-1)*C)**(-1)*B"
      ]
     },
     "execution_count": 27,
     "metadata": {},
     "output_type": "execute_result"
    }
   ],
   "source": [
    "sp.simplify((-B * D **-1 * C) ** -1 * B)"
   ]
  },
  {
   "cell_type": "code",
   "execution_count": 14,
   "metadata": {},
   "outputs": [
    {
     "data": {
      "text/latex": [
       "$\\displaystyle \\left[\\begin{matrix}\\tilde{A} & B\\\\C & D\\end{matrix}\\right]$"
      ],
      "text/plain": [
       "Matrix([\n",
       "[\\tilde{A}, B],\n",
       "[        C, D]])"
      ]
     },
     "execution_count": 14,
     "metadata": {},
     "output_type": "execute_result"
    }
   ],
   "source": [
    "Jstab = sp.Matrix([\n",
    "    [Astab, B],\n",
    "    [C, D]\n",
    "])\n",
    "Jstab"
   ]
  },
  {
   "cell_type": "code",
   "execution_count": 15,
   "metadata": {},
   "outputs": [
    {
     "data": {
      "text/plain": [
       "1.0"
      ]
     },
     "execution_count": 15,
     "metadata": {},
     "output_type": "execute_result"
    }
   ],
   "source": [
    "1 / I"
   ]
  },
  {
   "cell_type": "code",
   "execution_count": 16,
   "metadata": {},
   "outputs": [
    {
     "data": {
      "text/latex": [
       "$\\displaystyle \\left[\\begin{matrix}1 & 0\\\\- \\frac{C}{\\tilde{A}} & 1\\end{matrix}\\right]$"
      ],
      "text/plain": [
       "Matrix([\n",
       "[           1, 0],\n",
       "[-C/\\tilde{A}, 1]])"
      ]
     },
     "execution_count": 16,
     "metadata": {},
     "output_type": "execute_result"
    }
   ],
   "source": [
    "Lstab = sp.Matrix([\n",
    "    [I, 0],\n",
    "    [C * Astab **-1, I]\n",
    "])\n",
    "Lstab_inv = Lstab.inv()\n",
    "Lstab_inv"
   ]
  },
  {
   "cell_type": "code",
   "execution_count": 17,
   "metadata": {},
   "outputs": [
    {
     "data": {
      "text/latex": [
       "$\\displaystyle \\left[\\begin{matrix}\\frac{1}{\\tilde{A}} & 0\\\\0 & \\frac{1}{- \\frac{B C}{\\tilde{A}} + D}\\end{matrix}\\right]$"
      ],
      "text/plain": [
       "Matrix([\n",
       "[1/\\tilde{A},                      0],\n",
       "[          0, 1/(-B*C/\\tilde{A} + D)]])"
      ]
     },
     "execution_count": 17,
     "metadata": {},
     "output_type": "execute_result"
    }
   ],
   "source": [
    "SD = D - C * Astab ** -1 * B\n",
    "SD_inv = SD ** -1\n",
    "# SD_inv = sp.Symbol('S_D^{-1}', commutative=COMMUTATIVE)\n",
    "Diag_stab = sp.Matrix([\n",
    "    [Astab, 0],\n",
    "    [0, SD_inv ** -1]\n",
    "])\n",
    "Diag_stab_inv = Diag_stab.inv()\n",
    "Diag_stab_inv"
   ]
  },
  {
   "cell_type": "code",
   "execution_count": 18,
   "metadata": {},
   "outputs": [
    {
     "data": {
      "text/latex": [
       "$\\displaystyle \\left[\\begin{matrix}1 & - \\frac{B}{\\tilde{A}}\\\\0 & 1\\end{matrix}\\right]$"
      ],
      "text/plain": [
       "Matrix([\n",
       "[1, -B/\\tilde{A}],\n",
       "[0,            1]])"
      ]
     },
     "execution_count": 18,
     "metadata": {},
     "output_type": "execute_result"
    }
   ],
   "source": [
    "Ustab = sp.Matrix([\n",
    "    [I, Astab ** -1 * B],\n",
    "    [0, I]\n",
    "])\n",
    "Ustab_inv = Ustab.inv()\n",
    "Ustab_inv"
   ]
  },
  {
   "cell_type": "code",
   "execution_count": 21,
   "metadata": {},
   "outputs": [
    {
     "data": {
      "text/latex": [
       "$\\displaystyle \\left[\\begin{matrix}\\frac{B C}{B C - D \\tilde{A}} & 0\\\\- \\frac{C \\tilde{A}}{B C - D \\tilde{A}} & 1\\end{matrix}\\right]$"
      ],
      "text/plain": [
       "Matrix([\n",
       "[         B*C/(B*C - D*\\tilde{A}), 0],\n",
       "[-C*\\tilde{A}/(B*C - D*\\tilde{A}), 1]])"
      ]
     },
     "execution_count": 21,
     "metadata": {},
     "output_type": "execute_result"
    }
   ],
   "source": [
    "sp.simplify(Ustab_inv * Diag_stab_inv * Lstab_inv * J)"
   ]
  },
  {
   "cell_type": "code",
   "execution_count": 22,
   "metadata": {},
   "outputs": [
    {
     "data": {
      "text/latex": [
       "$\\displaystyle \\left[\\begin{matrix}\\frac{B C}{B C - D \\tilde{A}} & - \\frac{B \\tilde{A}}{B C - D \\tilde{A}}\\\\0 & 1\\end{matrix}\\right]$"
      ],
      "text/plain": [
       "Matrix([\n",
       "[B*C/(B*C - D*\\tilde{A}), -B*\\tilde{A}/(B*C - D*\\tilde{A})],\n",
       "[                      0,                                1]])"
      ]
     },
     "execution_count": 22,
     "metadata": {},
     "output_type": "execute_result"
    }
   ],
   "source": [
    "sp.simplify(J * Ustab_inv * Diag_stab_inv * Lstab_inv)"
   ]
  },
  {
   "cell_type": "code",
   "execution_count": null,
   "metadata": {},
   "outputs": [],
   "source": []
  },
  {
   "cell_type": "markdown",
   "metadata": {},
   "source": [
    "# Apply it to the original matrix \n",
    "## Appxoimate inv:"
   ]
  },
  {
   "cell_type": "code",
   "execution_count": 185,
   "metadata": {},
   "outputs": [
    {
     "data": {
      "text/latex": [
       "$\\displaystyle \\left[\\begin{matrix}\\tilde{A}^{-1} + \\tilde{A}^{-1} B \\left(- C \\tilde{A}^{-1} B + D\\right)^{-1} C \\tilde{A}^{-1} & - \\tilde{A}^{-1} B \\left(- C \\tilde{A}^{-1} B + D\\right)^{-1}\\\\- \\left(- C \\tilde{A}^{-1} B + D\\right)^{-1} C \\tilde{A}^{-1} & \\left(- C \\tilde{A}^{-1} B + D\\right)^{-1}\\end{matrix}\\right]$"
      ],
      "text/plain": [
       "Matrix([\n",
       "[\\tilde{A}**(-1) + \\tilde{A}**(-1)*B*(-C*\\tilde{A}**(-1)*B + D)**(-1)*C*\\tilde{A}**(-1), -\\tilde{A}**(-1)*B*(-C*\\tilde{A}**(-1)*B + D)**(-1)],\n",
       "[                                   -(-C*\\tilde{A}**(-1)*B + D)**(-1)*C*\\tilde{A}**(-1),                    (-C*\\tilde{A}**(-1)*B + D)**(-1)]])"
      ]
     },
     "execution_count": 185,
     "metadata": {},
     "output_type": "execute_result"
    }
   ],
   "source": [
    "Jstab_inv = Diag_stab_inv * Lstab_inv # Lower\n",
    "Jstab_inv = Ustab_inv * Diag_stab_inv # Upper\n",
    "Jstab_inv = Ustab_inv * Diag_stab_inv * Lstab_inv # Full\n",
    "\n",
    "Jstab_inv_approx = Jstab_inv\n",
    "Jstab_inv_approx"
   ]
  },
  {
   "cell_type": "code",
   "execution_count": 187,
   "metadata": {},
   "outputs": [
    {
     "data": {
      "text/latex": [
       "$\\displaystyle \\left[\\begin{matrix}- \\frac{C^{-1} D B^{-1}}{2} & \\frac{C^{-1}}{2}\\\\\\frac{B^{-1}}{2} & \\frac{D^{-1}}{2}\\end{matrix}\\right]$"
      ],
      "text/plain": [
       "Matrix([\n",
       "[-C**(-1)*D*B**(-1)/2, C**(-1)/2],\n",
       "[           B**(-1)/2, D**(-1)/2]])"
      ]
     },
     "execution_count": 187,
     "metadata": {},
     "output_type": "execute_result"
    }
   ],
   "source": [
    "Jstab_inv_approx = Jstab_inv.subs(Astab ** -1, -C ** -1 * D * B ** -1)\n",
    "Jstab_inv_approx"
   ]
  },
  {
   "cell_type": "markdown",
   "metadata": {},
   "source": [
    "## Left (works):"
   ]
  },
  {
   "cell_type": "code",
   "execution_count": 229,
   "metadata": {},
   "outputs": [
    {
     "data": {
      "text/latex": [
       "$\\displaystyle \\left[\\begin{matrix}\\frac{1}{2} & 0\\\\\\frac{D^{-1} C}{2} & 1\\end{matrix}\\right]$"
      ],
      "text/plain": [
       "Matrix([\n",
       "[        1/2, 0],\n",
       "[D**(-1)*C/2, 1]])"
      ]
     },
     "execution_count": 229,
     "metadata": {},
     "output_type": "execute_result"
    }
   ],
   "source": [
    "left = Jstab_inv_approx * J\n",
    "left"
   ]
  },
  {
   "cell_type": "code",
   "execution_count": 233,
   "metadata": {},
   "outputs": [
    {
     "data": {
      "text/latex": [
       "$\\displaystyle \\left[\\begin{matrix}2 & 0\\\\- D^{-1} C & 1\\end{matrix}\\right]$"
      ],
      "text/plain": [
       "Matrix([\n",
       "[         2, 0],\n",
       "[-D**(-1)*C, 1]])"
      ]
     },
     "execution_count": 233,
     "metadata": {},
     "output_type": "execute_result"
    }
   ],
   "source": [
    "left.inv()"
   ]
  },
  {
   "cell_type": "code",
   "execution_count": 242,
   "metadata": {},
   "outputs": [
    {
     "data": {
      "text/latex": [
       "$\\displaystyle \\left[\\begin{matrix}1 & 0\\\\0 & 1\\end{matrix}\\right]$"
      ],
      "text/plain": [
       "Matrix([\n",
       "[1, 0],\n",
       "[0, 1]])"
      ]
     },
     "execution_count": 242,
     "metadata": {},
     "output_type": "execute_result"
    }
   ],
   "source": [
    "left.inv() * Jstab_inv_approx * J"
   ]
  },
  {
   "cell_type": "markdown",
   "metadata": {},
   "source": [
    "## Right (doesn't work):"
   ]
  },
  {
   "cell_type": "code",
   "execution_count": 235,
   "metadata": {},
   "outputs": [
    {
     "data": {
      "text/latex": [
       "$\\displaystyle \\left[\\begin{matrix}\\frac{1}{2} & \\frac{B D^{-1}}{2}\\\\0 & 1\\end{matrix}\\right]$"
      ],
      "text/plain": [
       "Matrix([\n",
       "[1/2, B*D**(-1)/2],\n",
       "[  0,           1]])"
      ]
     },
     "execution_count": 235,
     "metadata": {},
     "output_type": "execute_result"
    }
   ],
   "source": [
    "right = J * Jstab_inv_approx\n",
    "right"
   ]
  },
  {
   "cell_type": "code",
   "execution_count": 238,
   "metadata": {},
   "outputs": [
    {
     "data": {
      "text/latex": [
       "$\\displaystyle \\left[\\begin{matrix}2 & - B D^{-1}\\\\0 & 1\\end{matrix}\\right]$"
      ],
      "text/plain": [
       "Matrix([\n",
       "[2, -B*D**(-1)],\n",
       "[0,          1]])"
      ]
     },
     "execution_count": 238,
     "metadata": {},
     "output_type": "execute_result"
    }
   ],
   "source": [
    "M_inv = right.inv()\n",
    "M_inv"
   ]
  },
  {
   "cell_type": "code",
   "execution_count": 240,
   "metadata": {},
   "outputs": [
    {
     "data": {
      "text/latex": [
       "$\\displaystyle \\left[\\begin{matrix}1 & 0\\\\0 & 1\\end{matrix}\\right]$"
      ],
      "text/plain": [
       "Matrix([\n",
       "[1, 0],\n",
       "[0, 1]])"
      ]
     },
     "execution_count": 240,
     "metadata": {},
     "output_type": "execute_result"
    }
   ],
   "source": [
    "J * Jstab_inv_approx * M_inv "
   ]
  },
  {
   "cell_type": "markdown",
   "metadata": {},
   "source": [
    "## What does this $M^{-1}$ do?"
   ]
  },
  {
   "cell_type": "code",
   "execution_count": 207,
   "metadata": {},
   "outputs": [
    {
     "data": {
      "text/latex": [
       "$\\displaystyle \\left[\\begin{matrix}\\frac{1}{2} & \\frac{B D^{-1}}{2}\\\\0 & 1\\end{matrix}\\right]$"
      ],
      "text/plain": [
       "Matrix([\n",
       "[1/2, B*D**(-1)/2],\n",
       "[  0,           1]])"
      ]
     },
     "execution_count": 207,
     "metadata": {},
     "output_type": "execute_result"
    }
   ],
   "source": [
    "M = M_inv.inv()\n",
    "M"
   ]
  },
  {
   "cell_type": "code",
   "execution_count": 211,
   "metadata": {},
   "outputs": [
    {
     "data": {
      "text/latex": [
       "$\\displaystyle \\left[\\begin{matrix}- \\frac{C^{-1} D B^{-1}}{2} & \\frac{C^{-1}}{2}\\\\\\frac{B^{-1}}{2} & \\frac{D^{-1}}{2}\\end{matrix}\\right]$"
      ],
      "text/plain": [
       "Matrix([\n",
       "[-C**(-1)*D*B**(-1)/2, C**(-1)/2],\n",
       "[           B**(-1)/2, D**(-1)/2]])"
      ]
     },
     "execution_count": 211,
     "metadata": {},
     "output_type": "execute_result"
    }
   ],
   "source": [
    "Jstab_inv_approx "
   ]
  },
  {
   "cell_type": "code",
   "execution_count": 217,
   "metadata": {},
   "outputs": [
    {
     "data": {
      "text/latex": [
       "$\\displaystyle \\left[\\begin{matrix}1 & 0\\\\0 & 1\\end{matrix}\\right]$"
      ],
      "text/plain": [
       "Matrix([\n",
       "[1, 0],\n",
       "[0, 1]])"
      ]
     },
     "execution_count": 217,
     "metadata": {},
     "output_type": "execute_result"
    }
   ],
   "source": [
    "J"
   ]
  },
  {
   "cell_type": "markdown",
   "metadata": {},
   "source": [
    "$M$ seems to be a bridge between $\\tilde{J}$ and $J$:\n",
    "\n",
    "$\n",
    "    J = M \\cdot \\tilde{J}\n",
    "$\n",
    "\n",
    "$\n",
    "    J^{-1} = \\tilde{J}^{-1} \\cdot M^{-1} \n",
    "$"
   ]
  },
  {
   "cell_type": "code",
   "execution_count": 219,
   "metadata": {},
   "outputs": [
    {
     "data": {
      "text/latex": [
       "$\\displaystyle \\left[\\begin{matrix}- C^{-1} D B^{-1} & C^{-1}\\\\B^{-1} & 0\\end{matrix}\\right]$"
      ],
      "text/plain": [
       "Matrix([\n",
       "[-C**(-1)*D*B**(-1), C**(-1)],\n",
       "[           B**(-1),       0]])"
      ]
     },
     "execution_count": 219,
     "metadata": {},
     "output_type": "execute_result"
    }
   ],
   "source": [
    "Jstab_inv_approx * M_inv"
   ]
  },
  {
   "cell_type": "code",
   "execution_count": 227,
   "metadata": {},
   "outputs": [
    {
     "data": {
      "text/latex": [
       "$\\displaystyle \\left[\\begin{matrix}0 & B\\\\C & D\\end{matrix}\\right]$"
      ],
      "text/plain": [
       "Matrix([\n",
       "[0, B],\n",
       "[C, D]])"
      ]
     },
     "execution_count": 227,
     "metadata": {},
     "output_type": "execute_result"
    }
   ],
   "source": [
    "(M * Jstab).subs(Astab, -B * D **-1 * C)"
   ]
  },
  {
   "cell_type": "code",
   "execution_count": 223,
   "metadata": {},
   "outputs": [
    {
     "data": {
      "text/latex": [
       "$\\displaystyle \\left[\\begin{matrix}- B^{-1} D C^{-1} & C^{-1}\\\\B^{-1} & 0\\end{matrix}\\right]$"
      ],
      "text/plain": [
       "Matrix([\n",
       "[-B**(-1)*D*C**(-1), C**(-1)],\n",
       "[           B**(-1),       0]])"
      ]
     },
     "execution_count": 223,
     "metadata": {},
     "output_type": "execute_result"
    }
   ],
   "source": [
    "J.inv(method='LU')"
   ]
  },
  {
   "cell_type": "code",
   "execution_count": null,
   "metadata": {},
   "outputs": [],
   "source": [
    "class Minv:\n",
    "    def __init__(self, J55_inv, J45):\n",
    "        self.J55_inv = J55_inv\n",
    "        self.J45 = J45\n",
    "        nd = J55_inv.shape[1] + J45.shape[1]\n",
    "        self.shape = nd, nd\n",
    "\n",
    "    def dot(self, x):\n",
    "        sep = self.J45.shape[0]\n",
    "        x4 = x[:sep]\n",
    "        x5 = x[sep:]\n",
    "        res4 = 2 * x4 - self.J45 @ self.J55_inv.dot(x5)\n",
    "        return np.concatenate([res4, x5])"
   ]
  }
 ],
 "metadata": {
  "kernelspec": {
   "display_name": "Python 3",
   "language": "python",
   "name": "python3"
  },
  "language_info": {
   "codemirror_mode": {
    "name": "ipython",
    "version": 3
   },
   "file_extension": ".py",
   "mimetype": "text/x-python",
   "name": "python",
   "nbconvert_exporter": "python",
   "pygments_lexer": "ipython3",
   "version": "3.11.7"
  }
 },
 "nbformat": 4,
 "nbformat_minor": 2
}
