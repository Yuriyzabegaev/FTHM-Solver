{
 "cells": [
  {
   "cell_type": "code",
   "execution_count": 1,
   "metadata": {},
   "outputs": [
    {
     "data": {
      "text/latex": [
       "$\\displaystyle \\left[\\begin{matrix}0 & B_{1} & 0\\\\C_{1} & D_{1} & B_{2}\\\\0 & C_{2} & D_{2}\\end{matrix}\\right]$"
      ],
      "text/plain": [
       "Matrix([\n",
       "[  0, B_1,   0],\n",
       "[C_1,  D1, B_2],\n",
       "[  0, C_2,  D2]])"
      ]
     },
     "execution_count": 1,
     "metadata": {},
     "output_type": "execute_result"
    }
   ],
   "source": [
    "import sympy as sp\n",
    "\n",
    "COMMUTATIVE = True\n",
    "Astab, D1, D2 = sp.symbols(r\"\\tilde{A} D1 D2\", commutative=COMMUTATIVE)\n",
    "B1, C1, B2, C2 = sp.symbols('B_1 C_1 B_2 C_2', commutative=COMMUTATIVE)\n",
    "I = 1 #sp.Symbol('I', commutatative=COMMUTATIVE)\n",
    "J = sp.Matrix([\n",
    "    [0, B1, 0],\n",
    "    [C1, D1, B2],\n",
    "    [0, C2, D2]\n",
    "])\n",
    "J"
   ]
  },
  {
   "cell_type": "code",
   "execution_count": 2,
   "metadata": {},
   "outputs": [
    {
     "data": {
      "text/latex": [
       "$\\displaystyle \\left[\\begin{matrix}\\tilde{A} & B_{1} & 0\\\\C_{1} & D_{1} & B_{2}\\\\0 & C_{2} & D_{2}\\end{matrix}\\right]$"
      ],
      "text/plain": [
       "Matrix([\n",
       "[\\tilde{A}, B_1,   0],\n",
       "[      C_1,  D1, B_2],\n",
       "[        0, C_2,  D2]])"
      ]
     },
     "execution_count": 2,
     "metadata": {},
     "output_type": "execute_result"
    }
   ],
   "source": [
    "Jstab = sp.Matrix([\n",
    "    [Astab, B1, 0],\n",
    "    [C1, D1, B2],\n",
    "    [0, C2, D2]\n",
    "])\n",
    "Jstab"
   ]
  },
  {
   "cell_type": "code",
   "execution_count": 3,
   "metadata": {},
   "outputs": [
    {
     "data": {
      "text/latex": [
       "$\\displaystyle \\left[\\begin{matrix}1 & 0 & 0\\\\- \\frac{C_{1}}{\\tilde{A}} & 1 & 0\\\\0 & 0 & 1\\end{matrix}\\right]$"
      ],
      "text/plain": [
       "Matrix([\n",
       "[             1, 0, 0],\n",
       "[-C_1/\\tilde{A}, 1, 0],\n",
       "[             0, 0, 1]])"
      ]
     },
     "execution_count": 3,
     "metadata": {},
     "output_type": "execute_result"
    }
   ],
   "source": [
    "Lstab = sp.Matrix([\n",
    "    [I, 0, 0],\n",
    "    [C1 * Astab **-1, I, 0],\n",
    "    [0, 0, I],\n",
    "])\n",
    "Lstab_inv = Lstab.inv()\n",
    "Lstab_inv"
   ]
  },
  {
   "cell_type": "code",
   "execution_count": 4,
   "metadata": {},
   "outputs": [
    {
     "data": {
      "text/latex": [
       "$\\displaystyle \\left[\\begin{matrix}\\frac{B_{1} C_{1} D_{2}}{D_{1} \\left(- \\frac{B_{1} B_{2} C_{1} C_{2}}{D_{1}} + 2 B_{1} C_{1} D_{2}\\right)} & - \\frac{B_{1} B_{2} C_{1}}{D_{1} \\left(- \\frac{B_{1} B_{2} C_{1} C_{2}}{D_{1}} + 2 B_{1} C_{1} D_{2}\\right)}\\\\- \\frac{B_{1} C_{1} C_{2}}{D_{1} \\left(- \\frac{B_{1} B_{2} C_{1} C_{2}}{D_{1}} + 2 B_{1} C_{1} D_{2}\\right)} & \\frac{2 B_{1} C_{1}}{- \\frac{B_{1} B_{2} C_{1} C_{2}}{D_{1}} + 2 B_{1} C_{1} D_{2}}\\end{matrix}\\right]$"
      ],
      "text/plain": [
       "Matrix([\n",
       "[  B_1*C_1*D2/(D1*(-B_1*B_2*C_1*C_2/D1 + 2*B_1*C_1*D2)), -B_1*B_2*C_1/(D1*(-B_1*B_2*C_1*C_2/D1 + 2*B_1*C_1*D2))],\n",
       "[-B_1*C_1*C_2/(D1*(-B_1*B_2*C_1*C_2/D1 + 2*B_1*C_1*D2)),         2*B_1*C_1/(-B_1*B_2*C_1*C_2/D1 + 2*B_1*C_1*D2)]])"
      ]
     },
     "execution_count": 4,
     "metadata": {},
     "output_type": "execute_result"
    }
   ],
   "source": [
    "D = sp.Matrix([\n",
    "    [D1, B2],\n",
    "    [C2, D2]\n",
    "])\n",
    "C = sp.Matrix([\n",
    "    [C1],\n",
    "    [0]\n",
    "])\n",
    "B = sp.Matrix([\n",
    "    [B1, 0]\n",
    "])\n",
    "SD = D - C * Astab ** -1 * B\n",
    "SD_inv = SD ** -1\n",
    "# SD_inv = sp.Symbol('S_D^{-1}', commutative=COMMUTATIVE)\n",
    "SD_inv\n",
    "\n",
    "# APPROXIMATE\n",
    "subs = -C1 ** -1 * D1 * B1 ** -1\n",
    "SD_inv = SD_inv.subs(Astab ** -1, subs)\n",
    "SD_inv"
   ]
  },
  {
   "cell_type": "code",
   "execution_count": 5,
   "metadata": {},
   "outputs": [
    {
     "data": {
      "text/latex": [
       "$\\displaystyle \\left[\\begin{matrix}\\frac{1}{\\tilde{A}} & 0 & 0\\\\0 & - \\frac{D_{2}}{B_{2} C_{2} - 2 D_{1} D_{2}} & \\frac{B_{2}}{B_{2} C_{2} - 2 D_{1} D_{2}}\\\\0 & \\frac{C_{2}}{B_{2} C_{2} - 2 D_{1} D_{2}} & - \\frac{2 D_{1}}{B_{2} C_{2} - 2 D_{1} D_{2}}\\end{matrix}\\right]$"
      ],
      "text/plain": [
       "Matrix([\n",
       "[1/\\tilde{A},                       0,                         0],\n",
       "[          0, -D2/(B_2*C_2 - 2*D1*D2),   B_2/(B_2*C_2 - 2*D1*D2)],\n",
       "[          0, C_2/(B_2*C_2 - 2*D1*D2), -2*D1/(B_2*C_2 - 2*D1*D2)]])"
      ]
     },
     "execution_count": 5,
     "metadata": {},
     "output_type": "execute_result"
    }
   ],
   "source": [
    "SD = SD_inv ** -1\n",
    "Diag_stab = sp.Matrix([\n",
    "    [Astab, 0, 0],\n",
    "    [0, SD[0, 0], SD[0, 1]],\n",
    "    [0, SD[1, 0], SD[1,1]]\n",
    "])\n",
    "Diag_stab\n",
    "Diag_stab_inv = Diag_stab.inv()\n",
    "Diag_stab_inv"
   ]
  },
  {
   "cell_type": "code",
   "execution_count": 6,
   "metadata": {},
   "outputs": [
    {
     "data": {
      "text/latex": [
       "$\\displaystyle \\left[\\begin{matrix}1 & - \\frac{B_{1}}{\\tilde{A}} & 0\\\\0 & 1 & 0\\\\0 & 0 & 1\\end{matrix}\\right]$"
      ],
      "text/plain": [
       "Matrix([\n",
       "[1, -B_1/\\tilde{A}, 0],\n",
       "[0,              1, 0],\n",
       "[0,              0, 1]])"
      ]
     },
     "execution_count": 6,
     "metadata": {},
     "output_type": "execute_result"
    }
   ],
   "source": [
    "Ustab = sp.Matrix([\n",
    "    [I, Astab ** -1 * B1, 0],\n",
    "    [0, I, 0],\n",
    "    [0, 0, I],\n",
    "])\n",
    "Ustab_inv = Ustab.inv()\n",
    "Ustab_inv"
   ]
  },
  {
   "cell_type": "code",
   "execution_count": 7,
   "metadata": {},
   "outputs": [
    {
     "data": {
      "text/latex": [
       "$\\displaystyle \\left[\\begin{matrix}\\tilde{A} & B_{1} & 0\\\\C_{1} & \\frac{B_{1} C_{1}}{\\tilde{A}} + 2 D_{1} & B_{2}\\\\0 & C_{2} & D_{2}\\end{matrix}\\right]$"
      ],
      "text/plain": [
       "Matrix([\n",
       "[\\tilde{A},                      B_1,   0],\n",
       "[      C_1, B_1*C_1/\\tilde{A} + 2*D1, B_2],\n",
       "[        0,                      C_2,  D2]])"
      ]
     },
     "execution_count": 7,
     "metadata": {},
     "output_type": "execute_result"
    }
   ],
   "source": [
    "Lstab * Diag_stab * Ustab"
   ]
  },
  {
   "cell_type": "code",
   "execution_count": 8,
   "metadata": {},
   "outputs": [
    {
     "data": {
      "text/latex": [
       "$\\displaystyle \\left[\\begin{matrix}1 & \\frac{B_{1} D_{2} \\left(- B_{1} C_{1} - D_{1} \\tilde{A}\\right)}{\\tilde{A}^{2} \\left(B_{2} C_{2} - 2 D_{1} D_{2}\\right)} & 0\\\\0 & \\frac{B_{1} C_{1} D_{2} + \\tilde{A} \\left(B_{2} C_{2} - D_{1} D_{2}\\right)}{\\tilde{A} \\left(B_{2} C_{2} - 2 D_{1} D_{2}\\right)} & 0\\\\0 & \\frac{C_{2} \\left(- B_{1} C_{1} - D_{1} \\tilde{A}\\right)}{\\tilde{A} \\left(B_{2} C_{2} - 2 D_{1} D_{2}\\right)} & 1\\end{matrix}\\right]$"
      ],
      "text/plain": [
       "Matrix([\n",
       "[1,        B_1*D2*(-B_1*C_1 - D1*\\tilde{A})/(\\tilde{A}**2*(B_2*C_2 - 2*D1*D2)), 0],\n",
       "[0, (B_1*C_1*D2 + \\tilde{A}*(B_2*C_2 - D1*D2))/(\\tilde{A}*(B_2*C_2 - 2*D1*D2)), 0],\n",
       "[0,              C_2*(-B_1*C_1 - D1*\\tilde{A})/(\\tilde{A}*(B_2*C_2 - 2*D1*D2)), 1]])"
      ]
     },
     "execution_count": 8,
     "metadata": {},
     "output_type": "execute_result"
    }
   ],
   "source": [
    "sp.simplify(Ustab_inv * Diag_stab_inv * Lstab_inv * Jstab)"
   ]
  },
  {
   "cell_type": "code",
   "execution_count": 9,
   "metadata": {},
   "outputs": [
    {
     "data": {
      "text/latex": [
       "$\\displaystyle \\left[\\begin{matrix}1 & 0 & 0\\\\\\frac{C_{1} D_{2} \\left(- B_{1} C_{1} - D_{1} \\tilde{A}\\right)}{\\tilde{A}^{2} \\left(B_{2} C_{2} - 2 D_{1} D_{2}\\right)} & \\frac{B_{2} C_{2} \\tilde{A} + D_{2} \\left(B_{1} C_{1} - D_{1} \\tilde{A}\\right)}{\\tilde{A} \\left(B_{2} C_{2} - 2 D_{1} D_{2}\\right)} & \\frac{B_{2} \\left(- B_{1} C_{1} - D_{1} \\tilde{A}\\right)}{\\tilde{A} \\left(B_{2} C_{2} - 2 D_{1} D_{2}\\right)}\\\\0 & 0 & 1\\end{matrix}\\right]$"
      ],
      "text/plain": [
       "Matrix([\n",
       "[                                                                  1,                                                                                 0,                                                             0],\n",
       "[C_1*D2*(-B_1*C_1 - D1*\\tilde{A})/(\\tilde{A}**2*(B_2*C_2 - 2*D1*D2)), (B_2*C_2*\\tilde{A} + D2*(B_1*C_1 - D1*\\tilde{A}))/(\\tilde{A}*(B_2*C_2 - 2*D1*D2)), B_2*(-B_1*C_1 - D1*\\tilde{A})/(\\tilde{A}*(B_2*C_2 - 2*D1*D2))],\n",
       "[                                                                  0,                                                                                 0,                                                             1]])"
      ]
     },
     "execution_count": 9,
     "metadata": {},
     "output_type": "execute_result"
    }
   ],
   "source": [
    "sp.simplify(Jstab * Ustab_inv * Diag_stab_inv * Lstab_inv)"
   ]
  },
  {
   "cell_type": "markdown",
   "metadata": {},
   "source": [
    "# Apply it to the original matrix \n",
    "## Appxoimate inv:"
   ]
  },
  {
   "cell_type": "code",
   "execution_count": 10,
   "metadata": {},
   "outputs": [
    {
     "data": {
      "text/latex": [
       "$\\displaystyle \\left[\\begin{matrix}- \\frac{B_{1} C_{1} D_{2}}{\\tilde{A}^{2} \\left(B_{2} C_{2} - 2 D_{1} D_{2}\\right)} + \\frac{1}{\\tilde{A}} & \\frac{B_{1} D_{2}}{\\tilde{A} \\left(B_{2} C_{2} - 2 D_{1} D_{2}\\right)} & - \\frac{B_{1} B_{2}}{\\tilde{A} \\left(B_{2} C_{2} - 2 D_{1} D_{2}\\right)}\\\\\\frac{C_{1} D_{2}}{\\tilde{A} \\left(B_{2} C_{2} - 2 D_{1} D_{2}\\right)} & - \\frac{D_{2}}{B_{2} C_{2} - 2 D_{1} D_{2}} & \\frac{B_{2}}{B_{2} C_{2} - 2 D_{1} D_{2}}\\\\- \\frac{C_{1} C_{2}}{\\tilde{A} \\left(B_{2} C_{2} - 2 D_{1} D_{2}\\right)} & \\frac{C_{2}}{B_{2} C_{2} - 2 D_{1} D_{2}} & - \\frac{2 D_{1}}{B_{2} C_{2} - 2 D_{1} D_{2}}\\end{matrix}\\right]$"
      ],
      "text/plain": [
       "Matrix([\n",
       "[-B_1*C_1*D2/(\\tilde{A}**2*(B_2*C_2 - 2*D1*D2)) + 1/\\tilde{A}, B_1*D2/(\\tilde{A}*(B_2*C_2 - 2*D1*D2)), -B_1*B_2/(\\tilde{A}*(B_2*C_2 - 2*D1*D2))],\n",
       "[                      C_1*D2/(\\tilde{A}*(B_2*C_2 - 2*D1*D2)),                -D2/(B_2*C_2 - 2*D1*D2),                  B_2/(B_2*C_2 - 2*D1*D2)],\n",
       "[                    -C_1*C_2/(\\tilde{A}*(B_2*C_2 - 2*D1*D2)),                C_2/(B_2*C_2 - 2*D1*D2),                -2*D1/(B_2*C_2 - 2*D1*D2)]])"
      ]
     },
     "execution_count": 10,
     "metadata": {},
     "output_type": "execute_result"
    }
   ],
   "source": [
    "Jstab_inv = Diag_stab_inv * Lstab_inv # Lower\n",
    "Jstab_inv = Ustab_inv * Diag_stab_inv # Upper\n",
    "Jstab_inv = Ustab_inv * Diag_stab_inv * Lstab_inv # Full\n",
    "\n",
    "Jstab_inv_approx = Jstab_inv\n",
    "Jstab_inv_approx"
   ]
  },
  {
   "cell_type": "markdown",
   "metadata": {},
   "source": [
    "Here instead of $D_1$ we should substitute $D_1 - B_2 \\cdot D_2^{-1} \\cdot C_2$. But we do just $D_1$"
   ]
  },
  {
   "cell_type": "code",
   "execution_count": 11,
   "metadata": {},
   "outputs": [
    {
     "data": {
      "text/latex": [
       "$\\displaystyle \\left[\\begin{matrix}- \\frac{D_{1}^{2} D_{2}}{B_{1} C_{1} \\left(B_{2} C_{2} - 2 D_{1} D_{2}\\right)} - \\frac{D_{1}}{B_{1} C_{1}} & - \\frac{D_{1} D_{2}}{C_{1} \\left(B_{2} C_{2} - 2 D_{1} D_{2}\\right)} & \\frac{B_{2} D_{1}}{C_{1} \\left(B_{2} C_{2} - 2 D_{1} D_{2}\\right)}\\\\- \\frac{D_{1} D_{2}}{B_{1} \\left(B_{2} C_{2} - 2 D_{1} D_{2}\\right)} & - \\frac{D_{2}}{B_{2} C_{2} - 2 D_{1} D_{2}} & \\frac{B_{2}}{B_{2} C_{2} - 2 D_{1} D_{2}}\\\\\\frac{C_{2} D_{1}}{B_{1} \\left(B_{2} C_{2} - 2 D_{1} D_{2}\\right)} & \\frac{C_{2}}{B_{2} C_{2} - 2 D_{1} D_{2}} & - \\frac{2 D_{1}}{B_{2} C_{2} - 2 D_{1} D_{2}}\\end{matrix}\\right]$"
      ],
      "text/plain": [
       "Matrix([\n",
       "[-D1**2*D2/(B_1*C_1*(B_2*C_2 - 2*D1*D2)) - D1/(B_1*C_1), -D1*D2/(C_1*(B_2*C_2 - 2*D1*D2)), B_2*D1/(C_1*(B_2*C_2 - 2*D1*D2))],\n",
       "[                      -D1*D2/(B_1*(B_2*C_2 - 2*D1*D2)),          -D2/(B_2*C_2 - 2*D1*D2),          B_2/(B_2*C_2 - 2*D1*D2)],\n",
       "[                      C_2*D1/(B_1*(B_2*C_2 - 2*D1*D2)),          C_2/(B_2*C_2 - 2*D1*D2),        -2*D1/(B_2*C_2 - 2*D1*D2)]])"
      ]
     },
     "execution_count": 11,
     "metadata": {},
     "output_type": "execute_result"
    }
   ],
   "source": [
    "subs = -C1 ** -1 * D1 * B1 ** -1\n",
    "# subs = -C1 ** -1 * (D1 - B2 * D2 ** -1 * C2) * B1 ** -1\n",
    "Jstab_inv_approx = Jstab_inv.subs(Astab ** -1, subs)\n",
    "Jstab_inv_approx"
   ]
  },
  {
   "cell_type": "markdown",
   "metadata": {},
   "source": [
    "## Left (works):"
   ]
  },
  {
   "cell_type": "code",
   "execution_count": 24,
   "metadata": {},
   "outputs": [
    {
     "data": {
      "text/latex": [
       "$\\displaystyle \\left[\\begin{matrix}- \\frac{D_{1} D_{2}}{B_{2} C_{2} - 2 D_{1} D_{2}} & 0 & 0\\\\- \\frac{C_{1} D_{2}}{B_{2} C_{2} - 2 D_{1} D_{2}} & 1 & 0\\\\\\frac{C_{1} C_{2}}{B_{2} C_{2} - 2 D_{1} D_{2}} & 0 & 1\\end{matrix}\\right]$"
      ],
      "text/plain": [
       "Matrix([\n",
       "[ -D1*D2/(B_2*C_2 - 2*D1*D2), 0, 0],\n",
       "[-C_1*D2/(B_2*C_2 - 2*D1*D2), 1, 0],\n",
       "[C_1*C_2/(B_2*C_2 - 2*D1*D2), 0, 1]])"
      ]
     },
     "execution_count": 24,
     "metadata": {},
     "output_type": "execute_result"
    }
   ],
   "source": [
    "left = Jstab_inv_approx * J\n",
    "sp.simplify(left)"
   ]
  },
  {
   "cell_type": "markdown",
   "metadata": {},
   "source": [
    "## Right (doesn't work):"
   ]
  },
  {
   "cell_type": "code",
   "execution_count": 25,
   "metadata": {},
   "outputs": [
    {
     "data": {
      "text/latex": [
       "$\\displaystyle \\left[\\begin{matrix}- \\frac{D_{1} D_{2}}{B_{2} C_{2} - 2 D_{1} D_{2}} & - \\frac{B_{1} D_{2}}{B_{2} C_{2} - 2 D_{1} D_{2}} & \\frac{B_{1} B_{2}}{B_{2} C_{2} - 2 D_{1} D_{2}}\\\\0 & 1 & 0\\\\0 & 0 & 1\\end{matrix}\\right]$"
      ],
      "text/plain": [
       "Matrix([\n",
       "[-D1*D2/(B_2*C_2 - 2*D1*D2), -B_1*D2/(B_2*C_2 - 2*D1*D2), B_1*B_2/(B_2*C_2 - 2*D1*D2)],\n",
       "[                         0,                           1,                           0],\n",
       "[                         0,                           0,                           1]])"
      ]
     },
     "execution_count": 25,
     "metadata": {},
     "output_type": "execute_result"
    }
   ],
   "source": [
    "right = J * Jstab_inv_approx\n",
    "sp.simplify(right)"
   ]
  },
  {
   "cell_type": "code",
   "execution_count": 14,
   "metadata": {},
   "outputs": [
    {
     "data": {
      "text/latex": [
       "$\\displaystyle \\left[\\begin{matrix}- \\frac{B_{2} C_{2}}{D_{1} D_{2}} + 2 & - \\frac{B_{1}}{D_{1}} & \\frac{B_{1} B_{2}}{D_{1} D_{2}}\\\\0 & 1 & 0\\\\0 & 0 & 1\\end{matrix}\\right]$"
      ],
      "text/plain": [
       "Matrix([\n",
       "[-B_2*C_2/(D1*D2) + 2, -B_1/D1, B_1*B_2/(D1*D2)],\n",
       "[                   0,       1,               0],\n",
       "[                   0,       0,               1]])"
      ]
     },
     "execution_count": 14,
     "metadata": {},
     "output_type": "execute_result"
    }
   ],
   "source": [
    "right.inv()"
   ]
  },
  {
   "cell_type": "code",
   "execution_count": 15,
   "metadata": {},
   "outputs": [
    {
     "data": {
      "text/latex": [
       "$\\displaystyle \\left[\\begin{matrix}2 & - \\frac{B_{1}}{D_{1}} & - \\frac{B_{2}}{D_{2}}\\\\0 & 1 & 0\\\\0 & 0 & 1\\end{matrix}\\right]$"
      ],
      "text/plain": [
       "Matrix([\n",
       "[2, -B_1/D1, -B_2/D2],\n",
       "[0,       1,       0],\n",
       "[0,       0,       1]])"
      ]
     },
     "execution_count": 15,
     "metadata": {},
     "output_type": "execute_result"
    }
   ],
   "source": [
    "M_inv = sp.Matrix([\n",
    "    [2, -B1 * D1**-1, -B2 * D2 ** -1],\n",
    "    [0, 1, 0],\n",
    "    [0, 0, 1]\n",
    "])\n",
    "M_inv"
   ]
  },
  {
   "cell_type": "code",
   "execution_count": 16,
   "metadata": {},
   "outputs": [
    {
     "data": {
      "text/latex": [
       "$\\displaystyle \\left[\\begin{matrix}- \\frac{2 D_{1} D_{2}}{B_{2} C_{2} - 2 D_{1} D_{2}} & 0 & \\frac{B_{2} \\left(B_{1} + D_{1}\\right)}{B_{2} C_{2} - 2 D_{1} D_{2}}\\\\0 & 1 & 0\\\\0 & 0 & 1\\end{matrix}\\right]$"
      ],
      "text/plain": [
       "Matrix([\n",
       "[-2*D1*D2/(B_2*C_2 - 2*D1*D2), 0, B_2*(B_1 + D1)/(B_2*C_2 - 2*D1*D2)],\n",
       "[                           0, 1,                                  0],\n",
       "[                           0, 0,                                  1]])"
      ]
     },
     "execution_count": 16,
     "metadata": {},
     "output_type": "execute_result"
    }
   ],
   "source": [
    "right = J * Jstab_inv_approx * M_inv\n",
    "\n",
    "sp.simplify(right)"
   ]
  },
  {
   "cell_type": "markdown",
   "metadata": {},
   "source": [
    "## What does this $M^{-1}$ do?"
   ]
  },
  {
   "cell_type": "code",
   "execution_count": 17,
   "metadata": {},
   "outputs": [
    {
     "data": {
      "text/latex": [
       "$\\displaystyle \\left[\\begin{matrix}\\frac{1}{2} & \\frac{B_{1}}{2 D_{1}} & \\frac{B_{2}}{2 D_{2}}\\\\0 & 1 & 0\\\\0 & 0 & 1\\end{matrix}\\right]$"
      ],
      "text/plain": [
       "Matrix([\n",
       "[1/2, B_1/(2*D1), B_2/(2*D2)],\n",
       "[  0,          1,          0],\n",
       "[  0,          0,          1]])"
      ]
     },
     "execution_count": 17,
     "metadata": {},
     "output_type": "execute_result"
    }
   ],
   "source": [
    "M = M_inv.inv()\n",
    "M"
   ]
  },
  {
   "cell_type": "code",
   "execution_count": 18,
   "metadata": {},
   "outputs": [
    {
     "data": {
      "text/latex": [
       "$\\displaystyle \\left[\\begin{matrix}- \\frac{D_{1}^{2} D_{2}}{B_{1} C_{1} \\left(B_{2} C_{2} - 2 D_{1} D_{2}\\right)} - \\frac{D_{1}}{B_{1} C_{1}} & - \\frac{D_{1} D_{2}}{C_{1} \\left(B_{2} C_{2} - 2 D_{1} D_{2}\\right)} & \\frac{B_{2} D_{1}}{C_{1} \\left(B_{2} C_{2} - 2 D_{1} D_{2}\\right)}\\\\- \\frac{D_{1} D_{2}}{B_{1} \\left(B_{2} C_{2} - 2 D_{1} D_{2}\\right)} & - \\frac{D_{2}}{B_{2} C_{2} - 2 D_{1} D_{2}} & \\frac{B_{2}}{B_{2} C_{2} - 2 D_{1} D_{2}}\\\\\\frac{C_{2} D_{1}}{B_{1} \\left(B_{2} C_{2} - 2 D_{1} D_{2}\\right)} & \\frac{C_{2}}{B_{2} C_{2} - 2 D_{1} D_{2}} & - \\frac{2 D_{1}}{B_{2} C_{2} - 2 D_{1} D_{2}}\\end{matrix}\\right]$"
      ],
      "text/plain": [
       "Matrix([\n",
       "[-D1**2*D2/(B_1*C_1*(B_2*C_2 - 2*D1*D2)) - D1/(B_1*C_1), -D1*D2/(C_1*(B_2*C_2 - 2*D1*D2)), B_2*D1/(C_1*(B_2*C_2 - 2*D1*D2))],\n",
       "[                      -D1*D2/(B_1*(B_2*C_2 - 2*D1*D2)),          -D2/(B_2*C_2 - 2*D1*D2),          B_2/(B_2*C_2 - 2*D1*D2)],\n",
       "[                      C_2*D1/(B_1*(B_2*C_2 - 2*D1*D2)),          C_2/(B_2*C_2 - 2*D1*D2),        -2*D1/(B_2*C_2 - 2*D1*D2)]])"
      ]
     },
     "execution_count": 18,
     "metadata": {},
     "output_type": "execute_result"
    }
   ],
   "source": [
    "Jstab_inv_approx "
   ]
  },
  {
   "cell_type": "code",
   "execution_count": 19,
   "metadata": {},
   "outputs": [
    {
     "data": {
      "text/latex": [
       "$\\displaystyle \\left[\\begin{matrix}0 & B_{1} & 0\\\\C_{1} & D_{1} & B_{2}\\\\0 & C_{2} & D_{2}\\end{matrix}\\right]$"
      ],
      "text/plain": [
       "Matrix([\n",
       "[  0, B_1,   0],\n",
       "[C_1,  D1, B_2],\n",
       "[  0, C_2,  D2]])"
      ]
     },
     "execution_count": 19,
     "metadata": {},
     "output_type": "execute_result"
    }
   ],
   "source": [
    "J"
   ]
  },
  {
   "cell_type": "markdown",
   "metadata": {},
   "source": [
    "$M$ seems to be a bridge between $\\tilde{J}$ and $J$:\n",
    "\n",
    "$\n",
    "    J = M \\cdot \\tilde{J}\n",
    "$\n",
    "\n",
    "$\n",
    "    J^{-1} = \\tilde{J}^{-1} \\cdot M^{-1} \n",
    "$"
   ]
  },
  {
   "cell_type": "code",
   "execution_count": 20,
   "metadata": {},
   "outputs": [
    {
     "data": {
      "text/latex": [
       "$\\displaystyle \\left[\\begin{matrix}- \\frac{2 D_{1}^{2} D_{2}}{B_{1} C_{1} \\left(B_{2} C_{2} - 2 D_{1} D_{2}\\right)} - \\frac{2 D_{1}}{B_{1} C_{1}} & - \\frac{B_{1} \\left(- \\frac{D_{1}^{2} D_{2}}{B_{1} C_{1} \\left(B_{2} C_{2} - 2 D_{1} D_{2}\\right)} - \\frac{D_{1}}{B_{1} C_{1}}\\right)}{D_{1}} - \\frac{D_{1} D_{2}}{C_{1} \\left(B_{2} C_{2} - 2 D_{1} D_{2}\\right)} & - \\frac{B_{2} \\left(- \\frac{D_{1}^{2} D_{2}}{B_{1} C_{1} \\left(B_{2} C_{2} - 2 D_{1} D_{2}\\right)} - \\frac{D_{1}}{B_{1} C_{1}}\\right)}{D_{2}} + \\frac{B_{2} D_{1}}{C_{1} \\left(B_{2} C_{2} - 2 D_{1} D_{2}\\right)}\\\\- \\frac{2 D_{1} D_{2}}{B_{1} \\left(B_{2} C_{2} - 2 D_{1} D_{2}\\right)} & 0 & \\frac{B_{2}}{B_{2} C_{2} - 2 D_{1} D_{2}} + \\frac{B_{2} D_{1}}{B_{1} \\left(B_{2} C_{2} - 2 D_{1} D_{2}\\right)}\\\\\\frac{2 C_{2} D_{1}}{B_{1} \\left(B_{2} C_{2} - 2 D_{1} D_{2}\\right)} & 0 & - \\frac{2 D_{1}}{B_{2} C_{2} - 2 D_{1} D_{2}} - \\frac{B_{2} C_{2} D_{1}}{B_{1} D_{2} \\left(B_{2} C_{2} - 2 D_{1} D_{2}\\right)}\\end{matrix}\\right]$"
      ],
      "text/plain": [
       "Matrix([\n",
       "[-2*D1**2*D2/(B_1*C_1*(B_2*C_2 - 2*D1*D2)) - 2*D1/(B_1*C_1), -B_1*(-D1**2*D2/(B_1*C_1*(B_2*C_2 - 2*D1*D2)) - D1/(B_1*C_1))/D1 - D1*D2/(C_1*(B_2*C_2 - 2*D1*D2)), -B_2*(-D1**2*D2/(B_1*C_1*(B_2*C_2 - 2*D1*D2)) - D1/(B_1*C_1))/D2 + B_2*D1/(C_1*(B_2*C_2 - 2*D1*D2))],\n",
       "[                        -2*D1*D2/(B_1*(B_2*C_2 - 2*D1*D2)),                                                                                                  0,                                          B_2/(B_2*C_2 - 2*D1*D2) + B_2*D1/(B_1*(B_2*C_2 - 2*D1*D2))],\n",
       "[                        2*C_2*D1/(B_1*(B_2*C_2 - 2*D1*D2)),                                                                                                  0,                                 -2*D1/(B_2*C_2 - 2*D1*D2) - B_2*C_2*D1/(B_1*D2*(B_2*C_2 - 2*D1*D2))]])"
      ]
     },
     "execution_count": 20,
     "metadata": {},
     "output_type": "execute_result"
    }
   ],
   "source": [
    "Jstab_inv_approx * M_inv"
   ]
  },
  {
   "cell_type": "code",
   "execution_count": 21,
   "metadata": {},
   "outputs": [
    {
     "data": {
      "text/latex": [
       "$\\displaystyle \\left[\\begin{matrix}\\frac{B_{1} C_{1}}{2 D_{1}} + \\left[\\begin{matrix}\\frac{B_{1} C_{1} D_{2}}{2 \\left(B_{2} C_{2} - D_{1} D_{2}\\right)}\\end{matrix}\\right] & B_{1} + \\frac{B_{2} C_{2}}{2 D_{2}} & \\frac{B_{1} B_{2}}{2 D_{1}} + \\frac{B_{2}}{2}\\\\C_{1} & D_{1} & B_{2}\\\\0 & C_{2} & D_{2}\\end{matrix}\\right]$"
      ],
      "text/plain": [
       "Matrix([\n",
       "[B_1*C_1/(2*D1) + Matrix([[B_1*C_1*D2/(2*(B_2*C_2 - D1*D2))]]), B_1 + B_2*C_2/(2*D2), B_1*B_2/(2*D1) + B_2/2],\n",
       "[                                                          C_1,                   D1,                    B_2],\n",
       "[                                                            0,                  C_2,                     D2]])"
      ]
     },
     "execution_count": 21,
     "metadata": {},
     "output_type": "execute_result"
    }
   ],
   "source": [
    "(M * Jstab).subs(Astab, -B * D **-1 * C)"
   ]
  },
  {
   "cell_type": "code",
   "execution_count": 22,
   "metadata": {},
   "outputs": [
    {
     "data": {
      "text/latex": [
       "$\\displaystyle \\left[\\begin{matrix}\\frac{\\frac{B_{2} C_{2}}{B_{1} D_{2}} - \\frac{D_{1}}{B_{1}}}{C_{1}} & \\frac{1}{C_{1}} & - \\frac{B_{2}}{C_{1} D_{2}}\\\\\\frac{1}{B_{1}} & 0 & 0\\\\- \\frac{C_{2}}{B_{1} D_{2}} & 0 & \\frac{1}{D_{2}}\\end{matrix}\\right]$"
      ],
      "text/plain": [
       "Matrix([\n",
       "[(B_2*C_2/(B_1*D2) - D1/B_1)/C_1, 1/C_1, -B_2/(C_1*D2)],\n",
       "[                          1/B_1,     0,             0],\n",
       "[                  -C_2/(B_1*D2),     0,          1/D2]])"
      ]
     },
     "execution_count": 22,
     "metadata": {},
     "output_type": "execute_result"
    }
   ],
   "source": [
    "J.inv(method='LU')"
   ]
  },
  {
   "cell_type": "code",
   "execution_count": 23,
   "metadata": {},
   "outputs": [],
   "source": [
    "class Minv:\n",
    "    def __init__(self, J55_inv, J45):\n",
    "        self.J55_inv = J55_inv\n",
    "        self.J45 = J45\n",
    "        nd = J55_inv.shape[1] + J45.shape[1]\n",
    "        self.shape = nd, nd\n",
    "\n",
    "    def dot(self, x):\n",
    "        sep = self.J45.shape[0]\n",
    "        x4 = x[:sep]\n",
    "        x5 = x[sep:]\n",
    "        res4 = 2 * x4 - self.J45 @ self.J55_inv.dot(x5)\n",
    "        return np.concatenate([res4, x5])"
   ]
  }
 ],
 "metadata": {
  "kernelspec": {
   "display_name": "Python 3",
   "language": "python",
   "name": "python3"
  },
  "language_info": {
   "codemirror_mode": {
    "name": "ipython",
    "version": 3
   },
   "file_extension": ".py",
   "mimetype": "text/x-python",
   "name": "python",
   "nbconvert_exporter": "python",
   "pygments_lexer": "ipython3",
   "version": "3.11.7"
  }
 },
 "nbformat": 4,
 "nbformat_minor": 2
}
