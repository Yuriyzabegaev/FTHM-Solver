{
 "cells": [
  {
   "cell_type": "code",
   "execution_count": 7,
   "metadata": {},
   "outputs": [],
   "source": [
    "import pandas as pd\n",
    "import numpy as np\n",
    "from matplotlib import pyplot as plt\n",
    "from plot_utils import *"
   ]
  },
  {
   "cell_type": "code",
   "execution_count": 8,
   "metadata": {},
   "outputs": [
    {
     "data": {
      "text/html": [
       "<div>\n",
       "<style scoped>\n",
       "    .dataframe tbody tr th:only-of-type {\n",
       "        vertical-align: middle;\n",
       "    }\n",
       "\n",
       "    .dataframe tbody tr th {\n",
       "        vertical-align: top;\n",
       "    }\n",
       "\n",
       "    .dataframe thead th {\n",
       "        text-align: right;\n",
       "    }\n",
       "</style>\n",
       "<table border=\"1\" class=\"dataframe\">\n",
       "  <thead>\n",
       "    <tr style=\"text-align: right;\">\n",
       "      <th></th>\n",
       "      <th>$h$ refinement</th>\n",
       "      <th>Momentum</th>\n",
       "      <th>Fluid mass</th>\n",
       "      <th>Others</th>\n",
       "      <th>Total</th>\n",
       "    </tr>\n",
       "  </thead>\n",
       "  <tbody>\n",
       "    <tr>\n",
       "      <th>0</th>\n",
       "      <td>0.25</td>\n",
       "      <td>1392</td>\n",
       "      <td>519</td>\n",
       "      <td>558</td>\n",
       "      <td>2469</td>\n",
       "    </tr>\n",
       "    <tr>\n",
       "      <th>1</th>\n",
       "      <td>0.50</td>\n",
       "      <td>2433</td>\n",
       "      <td>866</td>\n",
       "      <td>558</td>\n",
       "      <td>3857</td>\n",
       "    </tr>\n",
       "    <tr>\n",
       "      <th>2</th>\n",
       "      <td>1.00</td>\n",
       "      <td>16146</td>\n",
       "      <td>5563</td>\n",
       "      <td>1902</td>\n",
       "      <td>23611</td>\n",
       "    </tr>\n",
       "    <tr>\n",
       "      <th>3</th>\n",
       "      <td>2.00</td>\n",
       "      <td>109521</td>\n",
       "      <td>37060</td>\n",
       "      <td>5910</td>\n",
       "      <td>152491</td>\n",
       "    </tr>\n",
       "    <tr>\n",
       "      <th>4</th>\n",
       "      <td>3.00</td>\n",
       "      <td>364215</td>\n",
       "      <td>122540</td>\n",
       "      <td>12228</td>\n",
       "      <td>498983</td>\n",
       "    </tr>\n",
       "  </tbody>\n",
       "</table>\n",
       "</div>"
      ],
      "text/plain": [
       "   $h$ refinement  Momentum  Fluid mass  Others   Total\n",
       "0            0.25      1392         519     558    2469\n",
       "1            0.50      2433         866     558    3857\n",
       "2            1.00     16146        5563    1902   23611\n",
       "3            2.00    109521       37060    5910  152491\n",
       "4            3.00    364215      122540   12228  498983"
      ]
     },
     "execution_count": 8,
     "metadata": {},
     "output_type": "execute_result"
    }
   ],
   "source": [
    "data = load_data('../stats/dofs_info_fpm_6_3d.json')\n",
    "df = pd.DataFrame.from_dict(data)\n",
    "del df['cell_volumes']\n",
    "df = df.rename(columns={'cell_size_multiplier': r'$h$ refinement'})\n",
    "# df[r'Contact'] = df['block 4']\n",
    "# df[r'Intf. flow'] = df['block 3']\n",
    "# df[r'Intf. force'] = df['block 5']\n",
    "df[r'Momentum'] = df['block 1']\n",
    "df[r'Fluid mass'] = df['block 0'] + df['block 2']\n",
    "df['Others'] = df['block 3'] + df['block 4'] + df['block 5']\n",
    "\n",
    "df['Total'] = df[[f'block {i}' for i in [0, 1,2,3,4,5]]].sum(axis=1)\n",
    "\n",
    "del df['block 0']\n",
    "del df['block 1']\n",
    "del df['block 2']\n",
    "del df['block 3']\n",
    "del df['block 4']\n",
    "del df['block 5']\n",
    "\n",
    "# df = df.set_index('Cell size refinement', drop=True)\n",
    "df.reset_index()\n",
    "\n",
    "df"
   ]
  },
  {
   "cell_type": "code",
   "execution_count": 9,
   "metadata": {},
   "outputs": [
    {
     "name": "stdout",
     "output_type": "stream",
     "text": [
      "\\begin{tabular}{r | rrrr}\n",
      "\\toprule\n",
      "$h$ refinement & Momentum & Fluid mass & Others & Total \\\\\n",
      "\\midrule\n",
      "0.250000 & 1392 & 519 & 558 & 2469 \\\\\n",
      "0.500000 & 2433 & 866 & 558 & 3857 \\\\\n",
      "1.000000 & 16146 & 5563 & 1902 & 23611 \\\\\n",
      "2.000000 & 109521 & 37060 & 5910 & 152491 \\\\\n",
      "3.000000 & 364215 & 122540 & 12228 & 498983 \\\\\n",
      "\\bottomrule\n",
      "\\end{tabular}\n",
      "\n"
     ]
    }
   ],
   "source": [
    "print(df.style.format_index().hide().to_latex(column_format='r | rrrr', hrules=True))"
   ]
  },
  {
   "cell_type": "code",
   "execution_count": null,
   "metadata": {},
   "outputs": [],
   "source": []
  },
  {
   "cell_type": "code",
   "execution_count": null,
   "metadata": {},
   "outputs": [],
   "source": []
  }
 ],
 "metadata": {
  "kernelspec": {
   "display_name": "Python 3",
   "language": "python",
   "name": "python3"
  },
  "language_info": {
   "codemirror_mode": {
    "name": "ipython",
    "version": 3
   },
   "file_extension": ".py",
   "mimetype": "text/x-python",
   "name": "python",
   "nbconvert_exporter": "python",
   "pygments_lexer": "ipython3",
   "version": "3.11.7"
  }
 },
 "nbformat": 4,
 "nbformat_minor": 2
}
