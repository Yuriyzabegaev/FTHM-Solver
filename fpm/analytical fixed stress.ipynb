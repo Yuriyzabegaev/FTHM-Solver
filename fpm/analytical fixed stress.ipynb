{
 "cells": [
  {
   "cell_type": "markdown",
   "metadata": {},
   "source": [
    "* Fixed Stress matrix: $\\dfrac{\\alpha^2}{\\lambda}$\n",
    "\n",
    "* $\\lambda$ - Lame bulk modulus\n",
    "\n",
    "* $\\alpha$ - Biot coefficient"
   ]
  },
  {
   "cell_type": "markdown",
   "metadata": {},
   "source": [
    "* Fixed Stress in fractures: $\\dfrac{M c_f \\alpha^2}{\\lambda + M c_f \\phi_0}$ (seems that there's a typo here, check the units)\n",
    "* $M$ - Biot constant (how porosity depends on pressure)\n",
    "* $\\phi_0$ - (reference?) porosity\n",
    "* $c_f$ - fluid compressibility"
   ]
  },
  {
   "cell_type": "markdown",
   "metadata": {},
   "source": [
    "* $\\gamma_c = \\dfrac{c_{fc}}{\\lambda\\beta - 1}$\n",
    "* $c_{fc}$ - fluid compressibility in fracture\n",
    "* $\\beta = \\dfrac{1}{M \\alpha^2} + \\dfrac{c_f}{\\alpha^2}\\varphi_0 + \\dfrac{1}{\\lambda}$\n",
    "* $\\phi_0 = \\varphi_0$ - seems like yes"
   ]
  },
  {
   "cell_type": "markdown",
   "metadata": {},
   "source": [
    "* Correct expression: $\\dfrac{M c_f \\alpha^2}{\\lambda + \\lambda M c_f \\phi_0}$"
   ]
  }
 ],
 "metadata": {
  "kernelspec": {
   "display_name": "Python 3",
   "language": "python",
   "name": "python3"
  },
  "language_info": {
   "name": "python",
   "version": "3.11.7"
  }
 },
 "nbformat": 4,
 "nbformat_minor": 2
}
