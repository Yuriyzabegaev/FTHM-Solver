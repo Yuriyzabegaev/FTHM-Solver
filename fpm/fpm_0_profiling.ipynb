{
 "cells": [
  {
   "cell_type": "code",
   "execution_count": 1,
   "metadata": {},
   "outputs": [
    {
     "name": "stderr",
     "output_type": "stream",
     "text": [
      "/home/porepy/porepy/src/porepy/numerics/nonlinear/nonlinear_solvers.py:14: TqdmWarning: IProgress not found. Please update jupyter and ipywidgets. See https://ipywidgets.readthedocs.io/en/stable/user_install.html\n",
      "  from tqdm.autonotebook import trange  # type: ignore\n"
     ]
    },
    {
     "name": "stdout",
     "output_type": "stream",
     "text": [
      "\n"
     ]
    }
   ],
   "source": [
    "import porepy as pp\n",
    "import numpy as np\n",
    "from mat_utils import *\n",
    "from plot_utils import *\n",
    "from fpm_0 import make_model\n",
    "import scipy.sparse\n",
    "\n",
    "model = make_model(cell_size=(1/20))\n",
    "model.prepare_simulation()\n",
    "# pp.run_time_dependent_model(\n",
    "#     model, {\"prepare_simulation\": False, \"progressbars\": True}\n",
    "# )\n",
    "\n",
    "# pp.plot_grid(\n",
    "#     model.mdg,\n",
    "#     cell_value=model.pressure_variable,\n",
    "#     vector_value=model.displacement_variable,\n",
    "#     alpha=0.5,\n",
    "# )\n",
    "\n",
    "model.time_manager.increase_time()\n",
    "model.time_manager.increase_time_index()\n",
    "model.before_nonlinear_loop()\n",
    "model.before_nonlinear_iteration()\n",
    "\n",
    "model.assemble_linear_system()\n",
    "mat, rhs = model.linear_system\n",
    "# spy(mat)\n",
    "# plt.show()\n",
    "# plot_mat(mat)\n",
    "# plt.show()"
   ]
  },
  {
   "cell_type": "code",
   "execution_count": 2,
   "metadata": {},
   "outputs": [
    {
     "name": "stderr",
     "output_type": "stream",
     "text": [
      "/home/porepy/.local/lib/python3.11/site-packages/scipy/sparse/linalg/_dsolve/linsolve.py:412: SparseEfficiencyWarning: splu converted its input to CSC format\n",
      "  warn('splu converted its input to CSC format', SparseEfficiencyWarning)\n",
      "/home/porepy/.local/lib/python3.11/site-packages/scipy/sparse/linalg/_dsolve/linsolve.py:302: SparseEfficiencyWarning: spsolve is more efficient when sparse b is in the CSC matrix format\n",
      "  warn('spsolve is more efficient when sparse b '\n"
     ]
    },
    {
     "name": "stdout",
     "output_type": "stream",
     "text": [
      "Timer unit: 1e-09 s\n",
      "\n",
      "Total time: 0.0852822 s\n",
      "File: /home/porepy/simulations/mat_utils.py\n",
      "Function: _prepare_solver at line 369\n",
      "\n",
      "Line #      Hits         Time  Per Hit   % Time  Line Contents\n",
      "==============================================================\n",
      "   369                                               def _prepare_solver(self):\n",
      "   370         2       8265.0   4132.5      0.0          with TimerContext() as t_prepare_solver:\n",
      "   371         1        750.0    750.0      0.0              if not self._solver_initialized:\n",
      "   372         1    1502662.0    2e+06      1.8                  self._initialize_solver()\n",
      "   373         1       7010.0   7010.0      0.0              self._stats = SolverStats()\n",
      "   374         1       1608.0   1608.0      0.0              mat, _ = self.linear_system\n",
      "   375         2   13494509.0    7e+06     15.8              block_matrix = _make_block_mat(\n",
      "   376         1        384.0    384.0      0.0                  mat, row_dofs=self.eq_dofs, col_dofs=self.var_dofs\n",
      "   377                                                       )\n",
      "   378                                           \n",
      "   379         1       1633.0   1633.0      0.0              eq_blocks = self._equations_indices\n",
      "   380         1        389.0    389.0      0.0              var_blocks = self._variables_indices\n",
      "   381                                           \n",
      "   382         1     158315.0 158315.0      0.2              A = concatenate_blocks(block_matrix, eq_blocks[0], var_blocks[0])\n",
      "   383         1      95541.0  95541.0      0.1              C1 = concatenate_blocks(block_matrix, eq_blocks[0], var_blocks[1])\n",
      "   384         1     103883.0 103883.0      0.1              C2 = concatenate_blocks(block_matrix, eq_blocks[1], var_blocks[0])\n",
      "   385         1     123538.0 123538.0      0.1              B = concatenate_blocks(block_matrix, eq_blocks[1], var_blocks[1])\n",
      "   386         1     193976.0 193976.0      0.2              D1 = concatenate_blocks(block_matrix, eq_blocks[0], var_blocks[2])\n",
      "   387         1     162837.0 162837.0      0.2              E1 = concatenate_blocks(block_matrix, eq_blocks[1], var_blocks[2])\n",
      "   388         1      98107.0  98107.0      0.1              D2 = concatenate_blocks(block_matrix, eq_blocks[2], var_blocks[0])\n",
      "   389         1      93170.0  93170.0      0.1              E2 = concatenate_blocks(block_matrix, eq_blocks[2], var_blocks[1])\n",
      "   390         1     527630.0 527630.0      0.6              F = concatenate_blocks(block_matrix, eq_blocks[2], var_blocks[2])\n",
      "   391         1     137969.0 137969.0      0.2              Phi = bmat([[E2, D2]])\n",
      "   392                                           \n",
      "   393         2      13847.0   6923.5      0.0              with TimerContext() as t:\n",
      "   394         1   33347491.0    3e+07     39.1                  F_inv = self.invert_F(F)\n",
      "   395         1       2325.0   2325.0      0.0              self._stats.time_invert_F = t.elapsed_time\n",
      "   396                                           \n",
      "   397         1    1277285.0    1e+06      1.5              D1_Finv_D2 = D1 @ F_inv @ D2\n",
      "   398         1    1445764.0    1e+06      1.7              E1_Finv_D2 = E1 @ F_inv @ D2\n",
      "   399         1    1022875.0    1e+06      1.2              D1_Finv_E2 = D1 @ F_inv @ E2\n",
      "   400         1    1596745.0    2e+06      1.9              E1_Finv_E2 = E1 @ F_inv @ E2\n",
      "   401                                           \n",
      "   402         1     247562.0 247562.0      0.3              Ap = A - D1_Finv_D2\n",
      "   403         1     621223.0 621223.0      0.7              Bp = B - E1_Finv_E2\n",
      "   404         1     387922.0 387922.0      0.5              C1p = C1 - D1_Finv_E2\n",
      "   405         1     393276.0 393276.0      0.5              C2p = C2 - E1_Finv_D2\n",
      "   406                                           \n",
      "   407         2      14582.0   7291.0      0.0              with TimerContext() as t:\n",
      "   408         1   15398527.0    2e+07     18.1                  Bp_inv = self.prepare_solve_momentum(Bp)\n",
      "   409         1       2142.0   2142.0      0.0              self._stats.time_prepare_momentum = t.elapsed_time\n",
      "   410                                           \n",
      "   411         1    1412570.0    1e+06      1.7              S_Ap_fs = Ap + get_fixed_stress_stabilization(self)\n",
      "   412                                           \n",
      "   413         2      13570.0   6785.0      0.0              with TimerContext() as t:\n",
      "   414         1    4103353.0    4e+06      4.8                  S_Ap_fs_inv = self.prepare_solve_mass(S_Ap_fs)\n",
      "   415         1       2698.0   2698.0      0.0              self._stats.time_prepare_mass = t.elapsed_time\n",
      "   416                                           \n",
      "   417         2      18698.0   9349.0      0.0              Omega_p_inv_fstress = OmegaInv(\n",
      "   418         1        236.0    236.0      0.0                  solve_momentum=Bp_inv, solve_mass=S_Ap_fs_inv, C1=C1p, C2=C2p\n",
      "   419                                                       )\n",
      "   420                                           \n",
      "   421         2      13166.0   6583.0      0.0              preconditioner = UpperBlockPreconditioner(\n",
      "   422         1        391.0    391.0      0.0                  F_inv=F_inv, Omega_inv=Omega_p_inv_fstress, Phi=Phi\n",
      "   423                                                       )\n",
      "   424         2    2463902.0    1e+06      2.9              reordered_mat = concatenate_blocks(\n",
      "   425         1        212.0    212.0      0.0                  block_matrix,\n",
      "   426         1       2686.0   2686.0      0.0                  eq_blocks[2] + eq_blocks[1] + eq_blocks[0],\n",
      "   427         1       1217.0   1217.0      0.0                  var_blocks[2] + var_blocks[1] + var_blocks[0],\n",
      "   428                                                       )\n",
      "   429                                           \n",
      "   430         1    3771390.0    4e+06      4.4              permuted_mat = self.permutation @ mat @ self.permutation.T\n",
      "   431         1     992826.0 992826.0      1.2              assert (reordered_mat - permuted_mat).data.size == 0\n",
      "   432                                           \n",
      "   433         1       1237.0   1237.0      0.0          self._stats.time_prepare_solver = t_prepare_solver.elapsed_time\n",
      "   434         1        292.0    292.0      0.0          return reordered_mat, preconditioner"
     ]
    }
   ],
   "source": [
    "%reload_ext line_profiler\n",
    "%lprun -f model._prepare_solver model.solve_linear_system()"
   ]
  },
  {
   "cell_type": "code",
   "execution_count": null,
   "metadata": {},
   "outputs": [],
   "source": []
  }
 ],
 "metadata": {
  "kernelspec": {
   "display_name": "Python 3",
   "language": "python",
   "name": "python3"
  },
  "language_info": {
   "codemirror_mode": {
    "name": "ipython",
    "version": 3
   },
   "file_extension": ".py",
   "mimetype": "text/x-python",
   "name": "python",
   "nbconvert_exporter": "python",
   "pygments_lexer": "ipython3",
   "version": "3.11.7"
  }
 },
 "nbformat": 4,
 "nbformat_minor": 2
}
