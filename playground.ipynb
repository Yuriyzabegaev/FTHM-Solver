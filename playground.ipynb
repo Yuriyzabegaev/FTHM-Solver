{
 "cells": [
  {
   "cell_type": "code",
   "execution_count": 2,
   "metadata": {},
   "outputs": [
    {
     "data": {
      "text/latex": [
       "$\\displaystyle \\left[\\begin{matrix}J_{11} & 0 & J_{15}\\\\0 & J_{44} & J_{45}\\\\J_{51} & J_{54} & J_{55}\\end{matrix}\\right]$"
      ],
      "text/plain": [
       "Matrix([\n",
       "[J_{11},      0, J_{15}],\n",
       "[     0, J_{44}, J_{45}],\n",
       "[J_{51}, J_{54}, J_{55}]])"
      ]
     },
     "execution_count": 2,
     "metadata": {},
     "output_type": "execute_result"
    }
   ],
   "source": [
    "import sympy as sp\n",
    "commutative = False\n",
    "\n",
    "J11, J15, J44, J45, J51, J54, J55 = sp.symbols('J_{11} J_{15} J_{44} J_{45} J_{51} J_{54} J_{55}', commutative=commutative)\n",
    "# J44 = 0\n",
    "J = sp.Matrix([[J11, 0, J15], [0, J44, J45], [J51, J54, J55]])\n",
    "J"
   ]
  },
  {
   "cell_type": "code",
   "execution_count": 3,
   "metadata": {},
   "outputs": [
    {
     "data": {
      "text/latex": [
       "$\\displaystyle \\left[\\begin{matrix}J_{11} & J_{15}\\\\J_{51} & - J_{54} J_{44}^{-1} J_{45} + J_{55}\\end{matrix}\\right]$"
      ],
      "text/plain": [
       "Matrix([\n",
       "[J_{11},                               J_{15}],\n",
       "[J_{51}, -J_{54}*J_{44}**(-1)*J_{45} + J_{55}]])"
      ]
     },
     "execution_count": 3,
     "metadata": {},
     "output_type": "execute_result"
    }
   ],
   "source": [
    "def make_schur(J):\n",
    "    J15 = J[[0, 2], [0, 2]]\n",
    "    J_15_4 = J[[0, 2], 1]\n",
    "    J_4_15 = J[1, [0, 2]]\n",
    "    J44 = J[1, 1]\n",
    "    return J15 - J_15_4 * (1 / J44) * J_4_15\n",
    "S15 = make_schur(J)\n",
    "S15"
   ]
  },
  {
   "cell_type": "markdown",
   "metadata": {},
   "source": [
    "exact Q"
   ]
  },
  {
   "cell_type": "code",
   "execution_count": 4,
   "metadata": {},
   "outputs": [
    {
     "data": {
      "text/latex": [
       "$\\displaystyle \\left[\\begin{matrix}1 & 0 & 0\\\\0 & 1 & 0\\\\0 & - J_{55}^{-1} J_{54} & 1\\end{matrix}\\right]$"
      ],
      "text/plain": [
       "Matrix([\n",
       "[1,                    0, 0],\n",
       "[0,                    1, 0],\n",
       "[0, -J_{55}**(-1)*J_{54}, 1]])"
      ]
     },
     "execution_count": 4,
     "metadata": {},
     "output_type": "execute_result"
    }
   ],
   "source": [
    "alpha = sp.Symbol(r'\\alpha')\n",
    "alpha = 1\n",
    "\n",
    "# S55 = J55 - J51 * J11 ** -1 * J15\n",
    "\n",
    "Qleft = sp.Matrix([[1, 0, 0], [0, 1, alpha * -J45 * J55 ** -1], [0, 0, 1]])\n",
    "Qright = sp.Matrix([[1, 0, 0], [0, 1, 0], [0, -J55 ** -1 * J54, 1]])\n",
    "\n",
    "Qright"
   ]
  },
  {
   "cell_type": "code",
   "execution_count": 5,
   "metadata": {},
   "outputs": [
    {
     "data": {
      "text/latex": [
       "$\\displaystyle \\left[\\begin{matrix}1 & 0 & 0\\\\0 & 1 & - J_{45} J_{55}^{-1}\\\\0 & 0 & 1\\end{matrix}\\right]$"
      ],
      "text/plain": [
       "Matrix([\n",
       "[1, 0,                    0],\n",
       "[0, 1, -J_{45}*J_{55}**(-1)],\n",
       "[0, 0,                    1]])"
      ]
     },
     "execution_count": 5,
     "metadata": {},
     "output_type": "execute_result"
    }
   ],
   "source": [
    "Qleft"
   ]
  },
  {
   "cell_type": "code",
   "execution_count": 6,
   "metadata": {},
   "outputs": [
    {
     "data": {
      "text/latex": [
       "$\\displaystyle \\left[\\begin{matrix}J_{11} & - J_{15} J_{55}^{-1} J_{54} & J_{15}\\\\0 & J_{44} - J_{45} J_{55}^{-1} J_{54} & J_{45}\\\\J_{51} & 0 & J_{55}\\end{matrix}\\right]$"
      ],
      "text/plain": [
       "Matrix([\n",
       "[J_{11},         -J_{15}*J_{55}**(-1)*J_{54}, J_{15}],\n",
       "[     0, J_{44} - J_{45}*J_{55}**(-1)*J_{54}, J_{45}],\n",
       "[J_{51},                                   0, J_{55}]])"
      ]
     },
     "execution_count": 6,
     "metadata": {},
     "output_type": "execute_result"
    }
   ],
   "source": [
    "QJ = J * Qright\n",
    "# QJ = J * Qright\n",
    "# QJ = Qleft * J\n",
    "\n",
    "QJ"
   ]
  },
  {
   "cell_type": "code",
   "execution_count": 7,
   "metadata": {},
   "outputs": [],
   "source": [
    "K41 = QJ[1,0]\n",
    "K14 = QJ[0,1]\n",
    "K44 = QJ[1,1]"
   ]
  },
  {
   "cell_type": "code",
   "execution_count": 8,
   "metadata": {},
   "outputs": [
    {
     "data": {
      "text/latex": [
       "$\\displaystyle \\left[\\begin{matrix}J_{11} & K_{14} & J_{15}\\\\0 & K_{44} & J_{45}\\\\J_{51} & 0 & J_{55}\\end{matrix}\\right]$"
      ],
      "text/plain": [
       "Matrix([\n",
       "[J_{11}, K_{14}, J_{15}],\n",
       "[     0, K_{44}, J_{45}],\n",
       "[J_{51},      0, J_{55}]])"
      ]
     },
     "execution_count": 8,
     "metadata": {},
     "output_type": "execute_result"
    }
   ],
   "source": [
    "# QJ[1,0] = sp.Symbol(r'K_{41}', commutative=commutative)\n",
    "QJ[0,1] = sp.Symbol(r'K_{14}', commutative=commutative)\n",
    "QJ[1,1] = sp.Symbol(r'K_{44}', commutative=commutative)\n",
    "QJ"
   ]
  },
  {
   "cell_type": "code",
   "execution_count": 9,
   "metadata": {},
   "outputs": [
    {
     "data": {
      "text/latex": [
       "$\\displaystyle \\left[\\begin{matrix}J_{11} & J_{15} - K_{14} K_{44}^{-1} J_{45}\\\\J_{51} & J_{55}\\end{matrix}\\right]$"
      ],
      "text/plain": [
       "Matrix([\n",
       "[J_{11}, J_{15} - K_{14}*K_{44}**(-1)*J_{45}],\n",
       "[J_{51},                              J_{55}]])"
      ]
     },
     "execution_count": 9,
     "metadata": {},
     "output_type": "execute_result"
    }
   ],
   "source": [
    "make_schur(QJ)"
   ]
  },
  {
   "cell_type": "markdown",
   "metadata": {},
   "source": [
    "$\\lambda - p I\\cdot n = \\Pi \\sigma$"
   ]
  },
  {
   "cell_type": "markdown",
   "metadata": {},
   "source": [
    "$\\sigma = \\frac{\\partial}{\\partial{x}} u_{intf}$"
   ]
  },
  {
   "cell_type": "markdown",
   "metadata": {},
   "source": [
    "inexact Q"
   ]
  },
  {
   "cell_type": "code",
   "execution_count": 10,
   "metadata": {},
   "outputs": [
    {
     "data": {
      "text/latex": [
       "$\\displaystyle \\left[\\begin{matrix}1 & 0 & 0\\\\0 & 1 & - J_{45} B_{55}^{-1}\\\\0 & 0 & 1\\end{matrix}\\right]$"
      ],
      "text/plain": [
       "Matrix([\n",
       "[1, 0,                    0],\n",
       "[0, 1, -J_{45}*B_{55}**(-1)],\n",
       "[0, 0,                    1]])"
      ]
     },
     "execution_count": 10,
     "metadata": {},
     "output_type": "execute_result"
    }
   ],
   "source": [
    "B55 = sp.Symbol('B_{55}', commutative=commutative)\n",
    "alpha, beta = sp.symbols(r'\\alpha_{l} \\alpha_r')\n",
    "alpha = beta = 1\n",
    "Qtilde_left = sp.Matrix([[1, 0, 0], [0, 1, alpha * -J45 * B55 ** -1], [0, 0, 1]])\n",
    "Qtilde_right = sp.Matrix([[1, 0, 0], [0, 1, 0], [0, beta * -B55 ** -1 * J54, 1]])\n",
    "Qtilde_left"
   ]
  },
  {
   "cell_type": "code",
   "execution_count": 11,
   "metadata": {},
   "outputs": [
    {
     "data": {
      "text/latex": [
       "$\\displaystyle \\left[\\begin{matrix}1 & 0 & 0\\\\0 & 1 & 0\\\\0 & - B_{55}^{-1} J_{54} & 1\\end{matrix}\\right]$"
      ],
      "text/plain": [
       "Matrix([\n",
       "[1,                    0, 0],\n",
       "[0,                    1, 0],\n",
       "[0, -B_{55}**(-1)*J_{54}, 1]])"
      ]
     },
     "execution_count": 11,
     "metadata": {},
     "output_type": "execute_result"
    }
   ],
   "source": [
    "Qtilde_right"
   ]
  },
  {
   "cell_type": "code",
   "execution_count": 12,
   "metadata": {},
   "outputs": [
    {
     "data": {
      "text/latex": [
       "$\\displaystyle \\left[\\begin{matrix}J_{11} & - J_{15} B_{55}^{-1} J_{54} & J_{15}\\\\- J_{45} B_{55}^{-1} J_{51} & J_{44} - J_{45} B_{55}^{-1} J_{54} - \\left(J_{45} - J_{45} B_{55}^{-1} J_{55}\\right) B_{55}^{-1} J_{54} & J_{45} - J_{45} B_{55}^{-1} J_{55}\\\\J_{51} & J_{54} - J_{55} B_{55}^{-1} J_{54} & J_{55}\\end{matrix}\\right]$"
      ],
      "text/plain": [
       "Matrix([\n",
       "[                     J_{11},                                                                     -J_{15}*B_{55}**(-1)*J_{54},                              J_{15}],\n",
       "[-J_{45}*B_{55}**(-1)*J_{51}, J_{44} - J_{45}*B_{55}**(-1)*J_{54} - (J_{45} - J_{45}*B_{55}**(-1)*J_{55})*B_{55}**(-1)*J_{54}, J_{45} - J_{45}*B_{55}**(-1)*J_{55}],\n",
       "[                     J_{51},                                                             J_{54} - J_{55}*B_{55}**(-1)*J_{54},                              J_{55}]])"
      ]
     },
     "execution_count": 12,
     "metadata": {},
     "output_type": "execute_result"
    }
   ],
   "source": [
    "QJtilde = Qtilde_left * J * Qtilde_right\n",
    "# QJtilde = J * Qtilde_right\n",
    "K41tilde = QJtilde[1,0]\n",
    "K14tilde = QJtilde[0,1]\n",
    "K44tilde = QJtilde[1,1]\n",
    "QJtilde"
   ]
  },
  {
   "cell_type": "code",
   "execution_count": 13,
   "metadata": {},
   "outputs": [
    {
     "data": {
      "text/latex": [
       "$\\displaystyle \\left[\\begin{matrix}J_{11} & K_{14} & J_{15}\\\\K_{41} & K_{44} & J_{45} - J_{45} B_{55}^{-1} J_{55}\\\\J_{51} & J_{54} - J_{55} B_{55}^{-1} J_{54} & J_{55}\\end{matrix}\\right]$"
      ],
      "text/plain": [
       "Matrix([\n",
       "[J_{11},                              K_{14},                              J_{15}],\n",
       "[K_{41},                              K_{44}, J_{45} - J_{45}*B_{55}**(-1)*J_{55}],\n",
       "[J_{51}, J_{54} - J_{55}*B_{55}**(-1)*J_{54},                              J_{55}]])"
      ]
     },
     "execution_count": 13,
     "metadata": {},
     "output_type": "execute_result"
    }
   ],
   "source": [
    "QJtilde[1,0] = sp.Symbol(r'K_{41}', commutative=commutative)\n",
    "QJtilde[0,1] = sp.Symbol(r'K_{14}', commutative=commutative)\n",
    "QJtilde[1,1] = sp.Symbol(r'K_{44}', commutative=commutative)\n",
    "# QJtilde[1,2]=0\n",
    "QJtilde"
   ]
  },
  {
   "cell_type": "code",
   "execution_count": 14,
   "metadata": {},
   "outputs": [
    {
     "data": {
      "text/latex": [
       "$\\displaystyle \\left[\\begin{matrix}J_{11} - K_{14} K_{44}^{-1} K_{41} & J_{15} - K_{14} K_{44}^{-1} \\left(J_{45} - J_{45} B_{55}^{-1} J_{55}\\right)\\\\J_{51} - \\left(J_{54} - J_{55} B_{55}^{-1} J_{54}\\right) K_{44}^{-1} K_{41} & J_{55} - \\left(J_{54} - J_{55} B_{55}^{-1} J_{54}\\right) K_{44}^{-1} \\left(J_{45} - J_{45} B_{55}^{-1} J_{55}\\right)\\end{matrix}\\right]$"
      ],
      "text/plain": [
       "Matrix([\n",
       "[                               J_{11} - K_{14}*K_{44}**(-1)*K_{41},                                J_{15} - K_{14}*K_{44}**(-1)*(J_{45} - J_{45}*B_{55}**(-1)*J_{55})],\n",
       "[J_{51} - (J_{54} - J_{55}*B_{55}**(-1)*J_{54})*K_{44}**(-1)*K_{41}, J_{55} - (J_{54} - J_{55}*B_{55}**(-1)*J_{54})*K_{44}**(-1)*(J_{45} - J_{45}*B_{55}**(-1)*J_{55})]])"
      ]
     },
     "execution_count": 14,
     "metadata": {},
     "output_type": "execute_result"
    }
   ],
   "source": [
    "make_schur(QJtilde)"
   ]
  },
  {
   "cell_type": "markdown",
   "metadata": {},
   "source": [
    "# Fixed stress"
   ]
  },
  {
   "cell_type": "code",
   "execution_count": 15,
   "metadata": {},
   "outputs": [
    {
     "data": {
      "text/latex": [
       "$\\displaystyle \\left[\\begin{matrix}J_{00} & J_{02} & J_{01} & 0 & J_{05}\\\\J_{20} & J_{22} & 0 & 0 & J_{25}\\\\J_{10} & 0 & J_{11} & 0 & J_{15}\\\\0 & 0 & 0 & J_{44} & J_{45}\\\\J_{50} & J_{52} & J_{51} & J_{54} & J_{55}\\end{matrix}\\right]$"
      ],
      "text/plain": [
       "Matrix([\n",
       "[J_00, J_02, J_01,    0, J_05],\n",
       "[J_20, J_22,    0,    0, J_25],\n",
       "[J_10,    0, J_11,    0, J_15],\n",
       "[   0,    0,    0, J_44, J_45],\n",
       "[J_50, J_52, J_51, J_54, J_55]])"
      ]
     },
     "execution_count": 15,
     "metadata": {},
     "output_type": "execute_result"
    }
   ],
   "source": [
    "import numpy as np\n",
    "j = np.array([sp.symbols(' '.join([f'J_{i}{j}'for j in [0,2,1,4,5]]), commutative=commutative) for i in [0,2,1,4,5]])\n",
    "j[1, 2] = 0\n",
    "j[2, 1] = 0\n",
    "j[3,0] = j[3,1] = j[3,2] = j[0,3] = j[1,3] = j[2,3] = 0\n",
    "J = sp.Matrix(j)\n",
    "J"
   ]
  },
  {
   "cell_type": "code",
   "execution_count": 16,
   "metadata": {},
   "outputs": [
    {
     "data": {
      "text/latex": [
       "$\\displaystyle \\left[\\begin{matrix}1 & 0 & 0 & 0 & 0\\\\0 & 1 & 0 & 0 & 0\\\\0 & 0 & 1 & 0 & 0\\\\0 & 0 & 0 & 1 & - J_{45} J_{55}^{-1}\\\\0 & 0 & 0 & 0 & 1\\end{matrix}\\right]$"
      ],
      "text/plain": [
       "Matrix([\n",
       "[1, 0, 0, 0,                    0],\n",
       "[0, 1, 0, 0,                    0],\n",
       "[0, 0, 1, 0,                    0],\n",
       "[0, 0, 0, 1, -J_{45}*J_{55}**(-1)],\n",
       "[0, 0, 0, 0,                    1]])"
      ]
     },
     "execution_count": 16,
     "metadata": {},
     "output_type": "execute_result"
    }
   ],
   "source": [
    "Qleft = sp.Matrix(np.eye(5, dtype=int))\n",
    "Qright = sp.Matrix(np.eye(5, dtype=int))\n",
    "Qleft[3, 4] = -J45 * J55 ** -1\n",
    "Qright[4,3] = -J55 ** -1 * J54\n",
    "\n",
    "Qleft"
   ]
  },
  {
   "cell_type": "code",
   "execution_count": 17,
   "metadata": {},
   "outputs": [
    {
     "data": {
      "text/latex": [
       "$\\displaystyle \\left[\\begin{matrix}J_{00} & J_{02} & J_{01} & - J_{05} J_{55}^{-1} J_{54} & J_{05}\\\\J_{20} & J_{22} & 0 & - J_{25} J_{55}^{-1} J_{54} & J_{25}\\\\J_{10} & 0 & J_{11} & - J_{15} J_{55}^{-1} J_{54} & J_{15}\\\\0 & 0 & 0 & J_{44} - J_{45} J_{55}^{-1} J_{54} & J_{45}\\\\J_{50} & J_{52} & J_{51} & J_{54} - J_{55} J_{55}^{-1} J_{54} & J_{55}\\end{matrix}\\right]$"
      ],
      "text/plain": [
       "Matrix([\n",
       "[J_00, J_02, J_01,       -J_05*J_{55}**(-1)*J_{54}, J_05],\n",
       "[J_20, J_22,    0,       -J_25*J_{55}**(-1)*J_{54}, J_25],\n",
       "[J_10,    0, J_11,       -J_15*J_{55}**(-1)*J_{54}, J_15],\n",
       "[   0,    0,    0, J_44 - J_45*J_{55}**(-1)*J_{54}, J_45],\n",
       "[J_50, J_52, J_51, J_54 - J_55*J_{55}**(-1)*J_{54}, J_55]])"
      ]
     },
     "execution_count": 17,
     "metadata": {},
     "output_type": "execute_result"
    }
   ],
   "source": [
    "QJ = (J * Qright).subs(J55 ** -1 * J55, 1)\n",
    "QJ"
   ]
  },
  {
   "cell_type": "code",
   "execution_count": 18,
   "metadata": {},
   "outputs": [
    {
     "data": {
      "text/latex": [
       "$\\displaystyle \\left[\\begin{matrix}J_{00} & J_{02} & J_{01} & - J_{05} J_{55}^{-1} J_{54} & J_{05}\\\\J_{20} & J_{22} & 0 & - J_{25} J_{55}^{-1} J_{54} & J_{25}\\\\J_{10} & 0 & J_{11} & - J_{15} J_{55}^{-1} J_{54} & J_{15}\\\\0 & 0 & 0 & J_{44} - J_{45} J_{55}^{-1} J_{54} & J_{45}\\\\J_{50} & J_{52} & J_{51} & 0 & J_{55}\\end{matrix}\\right]$"
      ],
      "text/plain": [
       "Matrix([\n",
       "[J_00, J_02, J_01,           -J_05*J_{55}**(-1)*J_{54}, J_05],\n",
       "[J_20, J_22,    0,           -J_25*J_{55}**(-1)*J_{54}, J_25],\n",
       "[J_10,    0, J_11,           -J_15*J_{55}**(-1)*J_{54}, J_15],\n",
       "[   0,    0,    0, J_{44} - J_{45}*J_{55}**(-1)*J_{54}, J_45],\n",
       "[J_50, J_52, J_51,                                   0, J_55]])"
      ]
     },
     "execution_count": 18,
     "metadata": {},
     "output_type": "execute_result"
    }
   ],
   "source": [
    "QJ[3,3]= J44 - J45 * J55 ** -1 * J54\n",
    "QJ[4,3] = 0\n",
    "# QJ[3,4] = 0\n",
    "QJ"
   ]
  },
  {
   "cell_type": "code",
   "execution_count": 19,
   "metadata": {},
   "outputs": [
    {
     "data": {
      "text/latex": [
       "$\\displaystyle \\left[\\begin{matrix}J_{00} & J_{02} & J_{01} & K_{04} & J_{05}\\\\J_{20} & J_{22} & 0 & K_{24} & J_{25}\\\\J_{10} & 0 & J_{11} & K_{14} & J_{15}\\\\0 & 0 & 0 & K_{44} & J_{45}\\\\J_{50} & J_{52} & J_{51} & 0 & J_{55}\\end{matrix}\\right]$"
      ],
      "text/plain": [
       "Matrix([\n",
       "[J_00, J_02, J_01, K_{04}, J_05],\n",
       "[J_20, J_22,    0, K_{24}, J_25],\n",
       "[J_10,    0, J_11, K_{14}, J_15],\n",
       "[   0,    0,    0, K_{44}, J_45],\n",
       "[J_50, J_52, J_51,      0, J_55]])"
      ]
     },
     "execution_count": 19,
     "metadata": {},
     "output_type": "execute_result"
    }
   ],
   "source": [
    "# K40 = QJ[3,0]\n",
    "# K42 = QJ[3,1]\n",
    "# K41 = QJ[3,2]\n",
    "K04 = QJ[0,3]\n",
    "K24 = QJ[1,3]\n",
    "K14 = QJ[2,3]\n",
    "K44 = QJ[3,3]\n",
    "\n",
    "# QJ[3,0] = sp.Symbol('K_{40}', commutative=commutative)\n",
    "# QJ[3,1] = sp.Symbol('K_{42}', commutative=commutative)\n",
    "# QJ[3,2] = sp.Symbol('K_{41}', commutative=commutative)\n",
    "QJ[0,3] = sp.Symbol('K_{04}', commutative=commutative)\n",
    "QJ[1,3] = sp.Symbol('K_{24}', commutative=commutative)\n",
    "QJ[2,3] = sp.Symbol('K_{14}', commutative=commutative)\n",
    "QJ[3,3] = sp.Symbol('K_{44}', commutative=commutative)\n",
    "QJ"
   ]
  },
  {
   "cell_type": "code",
   "execution_count": 20,
   "metadata": {},
   "outputs": [
    {
     "data": {
      "text/latex": [
       "$\\displaystyle \\left[\\begin{matrix}J_{00} & J_{02} & J_{01} & J_{05} - K_{04} K_{44}^{-1} J_{45}\\\\J_{20} & J_{22} & 0 & J_{25} - K_{24} K_{44}^{-1} J_{45}\\\\J_{10} & 0 & J_{11} & J_{15} - K_{14} K_{44}^{-1} J_{45}\\\\J_{50} & J_{52} & J_{51} & J_{55}\\end{matrix}\\right]$"
      ],
      "text/plain": [
       "Matrix([\n",
       "[J_00, J_02, J_01, J_05 - K_{04}*K_{44}**(-1)*J_45],\n",
       "[J_20, J_22,    0, J_25 - K_{24}*K_{44}**(-1)*J_45],\n",
       "[J_10,    0, J_11, J_15 - K_{14}*K_{44}**(-1)*J_45],\n",
       "[J_50, J_52, J_51,                            J_55]])"
      ]
     },
     "execution_count": 20,
     "metadata": {},
     "output_type": "execute_result"
    }
   ],
   "source": [
    "def make_schur_4(J):\n",
    "    keep = [0,1,2,4]\n",
    "    elim = [3]\n",
    "    Jkk = J[keep, keep]\n",
    "    Jke = J[keep, elim]\n",
    "    Jek = J[elim, keep]\n",
    "    Jee = J[elim, elim]\n",
    "    return Jkk - Jke * (Jee ** -1) * Jek\n",
    "S4 = make_schur_4(QJ)\n",
    "S4"
   ]
  },
  {
   "cell_type": "code",
   "execution_count": 21,
   "metadata": {},
   "outputs": [
    {
     "data": {
      "text/latex": [
       "$\\displaystyle 0$"
      ],
      "text/plain": [
       "0"
      ]
     },
     "execution_count": 21,
     "metadata": {},
     "output_type": "execute_result"
    }
   ],
   "source": [
    "K14 * K44 ** -1 * K41"
   ]
  },
  {
   "cell_type": "code",
   "execution_count": 22,
   "metadata": {},
   "outputs": [
    {
     "data": {
      "text/latex": [
       "$\\displaystyle \\left[\\begin{matrix}J_{00} & J_{02} & J_{01} & 0 & J_{05}\\\\J_{20} & J_{22} & 0 & 0 & J_{25}\\\\J_{10} & 0 & J_{11} & 0 & J_{15}\\\\0 & 0 & 0 & J_{44} & J_{45}\\\\J_{50} & J_{52} & J_{51} & J_{54} & J_{55}\\end{matrix}\\right]$"
      ],
      "text/plain": [
       "Matrix([\n",
       "[J_00, J_02, J_01,    0, J_05],\n",
       "[J_20, J_22,    0,    0, J_25],\n",
       "[J_10,    0, J_11,    0, J_15],\n",
       "[   0,    0,    0, J_44, J_45],\n",
       "[J_50, J_52, J_51, J_54, J_55]])"
      ]
     },
     "execution_count": 22,
     "metadata": {},
     "output_type": "execute_result"
    }
   ],
   "source": [
    "J"
   ]
  },
  {
   "cell_type": "code",
   "execution_count": 38,
   "metadata": {},
   "outputs": [
    {
     "data": {
      "text/latex": [
       "$\\displaystyle \\left[\\begin{matrix}J_{00} & J_{01}\\\\J_{10} & J_{11}\\end{matrix}\\right]$"
      ],
      "text/plain": [
       "Matrix([\n",
       "[J_00, J_01],\n",
       "[J_10, J_11]])"
      ]
     },
     "execution_count": 38,
     "metadata": {},
     "output_type": "execute_result"
    }
   ],
   "source": [
    "j = np.array(\n",
    "    [\n",
    "        sp.symbols(\" \".join([f\"J_{i}{j}\" for j in [0, 1,]]), commutative=False)\n",
    "        for i in [0, 1,]\n",
    "    ]\n",
    ")\n",
    "J = sp.Matrix(j)\n",
    "\n",
    "\n",
    "def make_ldu(mat):\n",
    "    A = mat[0, 0]\n",
    "    B = mat[0, 1]\n",
    "    C = mat[1, 0]\n",
    "    D = mat[1, 1]\n",
    "\n",
    "    l = C * A**-1\n",
    "    d = D - C * A**-1 * B\n",
    "    u = A**-1 * B\n",
    "\n",
    "    L = sp.Matrix(\n",
    "        [\n",
    "            [1, 0],\n",
    "            [l, 1],\n",
    "        ]\n",
    "    )\n",
    "    D = sp.Matrix(\n",
    "        [\n",
    "            [A, 0],\n",
    "            [0, d],\n",
    "        ]\n",
    "    )\n",
    "    U = sp.Matrix(\n",
    "        [\n",
    "            [1, u],\n",
    "            [0, 1,],\n",
    "        ]\n",
    "    )\n",
    "    return L, D, U\n",
    "\n",
    "\n",
    "L, D, U = make_ldu(J)\n",
    "\n",
    "L * D * U"
   ]
  },
  {
   "cell_type": "code",
   "execution_count": 39,
   "metadata": {},
   "outputs": [
    {
     "data": {
      "text/latex": [
       "$\\displaystyle \\left[\\begin{matrix}1 & 0\\\\0 & 1\\end{matrix}\\right]$"
      ],
      "text/plain": [
       "Matrix([\n",
       "[1, 0],\n",
       "[0, 1]])"
      ]
     },
     "execution_count": 39,
     "metadata": {},
     "output_type": "execute_result"
    }
   ],
   "source": [
    "L * D * U * U.inv() * D.inv() * L.inv()"
   ]
  },
  {
   "cell_type": "code",
   "execution_count": 40,
   "metadata": {},
   "outputs": [
    {
     "data": {
      "text/latex": [
       "$\\displaystyle \\left[\\begin{matrix}1 & - J_{00}^{-1} J_{01}\\\\0 & 1\\end{matrix}\\right]$"
      ],
      "text/plain": [
       "Matrix([\n",
       "[1, -J_00**(-1)*J_01],\n",
       "[0,                1]])"
      ]
     },
     "execution_count": 40,
     "metadata": {},
     "output_type": "execute_result"
    }
   ],
   "source": [
    "U.inv()"
   ]
  },
  {
   "cell_type": "code",
   "execution_count": 26,
   "metadata": {},
   "outputs": [
    {
     "data": {
      "text/latex": [
       "$\\displaystyle \\left[\\begin{matrix}J_{00} & 0 & 0\\\\0 & J_{11} - \\frac{J_{01} J_{10}}{J_{00}} & J_{12} - \\frac{J_{02} J_{10}}{J_{00}}\\\\0 & J_{21} - \\frac{J_{01} J_{20}}{J_{00}} & J_{22} - \\frac{J_{02} J_{20}}{J_{00}}\\end{matrix}\\right]$"
      ],
      "text/plain": [
       "Matrix([\n",
       "[J_00,                     0,                     0],\n",
       "[   0, J_11 - J_01*J_10/J_00, J_12 - J_02*J_10/J_00],\n",
       "[   0, J_21 - J_01*J_20/J_00, J_22 - J_02*J_20/J_00]])"
      ]
     },
     "execution_count": 26,
     "metadata": {},
     "output_type": "execute_result"
    }
   ],
   "source": [
    "D"
   ]
  },
  {
   "cell_type": "markdown",
   "metadata": {},
   "source": [
    "- LD is preferred for left preconditioning\n",
    "- DU is preferred for right preconditioning"
   ]
  },
  {
   "cell_type": "markdown",
   "metadata": {},
   "source": [
    "How to represent the full preconditioner in a matrix form:\n",
    "1. $J_1 = J \\cdot Q_r$"
   ]
  },
  {
   "cell_type": "markdown",
   "metadata": {},
   "source": [
    "$P \\cdot x \\approx J^{-1} \\cdot x$"
   ]
  },
  {
   "cell_type": "markdown",
   "metadata": {},
   "source": [
    "$P = U_0^{-1} \\cdot D_0^{-1} \\cdot L_0^{-1} $\n",
    "\n",
    "$L^{-1} = \\begin{bmatrix} \n",
    "1 & \n",
    "\\\\\n",
    "-C \\cdot A^{-1}&\n",
    "1\n",
    "\\end{bmatrix}$\n",
    "\n",
    "$D^{-1} = \\begin{bmatrix} \n",
    "A^{-1} \\\\\n",
    "&\n",
    "D^{-1}\n",
    " \\end{bmatrix}$\n",
    "\n",
    " $U^{-1} = \\begin{bmatrix} \n",
    "1 & \n",
    "\\\\\n",
    "-C \\cdot A^{-1}&\n",
    "1\n",
    "\\end{bmatrix}$"
   ]
  },
  {
   "cell_type": "markdown",
   "metadata": {},
   "source": [
    "# Nested Schur complements - only upper"
   ]
  },
  {
   "cell_type": "code",
   "execution_count": 27,
   "metadata": {},
   "outputs": [
    {
     "data": {
      "text/latex": [
       "$\\displaystyle \\left[\\begin{matrix}J_{00} & J_{01} & J_{02}\\\\J_{10} & J_{11} & J_{12}\\\\J_{20} & J_{21} & J_{22}\\end{matrix}\\right]$"
      ],
      "text/plain": [
       "Matrix([\n",
       "[J_00, J_01, J_02],\n",
       "[J_10, J_11, J_12],\n",
       "[J_20, J_21, J_22]])"
      ]
     },
     "execution_count": 27,
     "metadata": {},
     "output_type": "execute_result"
    }
   ],
   "source": [
    "import sympy as sp\n",
    "import numpy as np\n",
    "\n",
    "j = np.array(\n",
    "    [\n",
    "        sp.symbols(\" \".join([f\"J_{i}{j}\" for j in [0, 1, 2]]), commutative=False)\n",
    "        for i in [0, 1, 2]\n",
    "    ]\n",
    ")\n",
    "J = sp.Matrix(j)\n",
    "J"
   ]
  },
  {
   "cell_type": "code",
   "execution_count": 28,
   "metadata": {},
   "outputs": [
    {
     "data": {
      "text/latex": [
       "$\\displaystyle \\left[\\begin{matrix}J_{00} & J_{01} & J_{02}\\\\J_{10} & J_{11} & J_{12}\\\\J_{20} & J_{21} & J_{22}\\end{matrix}\\right]$"
      ],
      "text/plain": [
       "Matrix([\n",
       "[J_00, J_01, J_02],\n",
       "[J_10, J_11, J_12],\n",
       "[J_20, J_21, J_22]])"
      ]
     },
     "execution_count": 28,
     "metadata": {},
     "output_type": "execute_result"
    }
   ],
   "source": [
    "L0 = sp.Matrix(\n",
    "    [\n",
    "        [1, 0, 0],\n",
    "        [j[1,0] * j[0,0] ** -1, 1, 0],\n",
    "        [j[2,0] * j[0,0] ** -1, 0, 1],\n",
    "    ]\n",
    ")\n",
    "D0 = sp.Matrix([\n",
    "    [j[0,0], 0, 0],\n",
    "    [0, j[1,1] - j[1,0] * j[0,0] ** -1 * j[0, 1], j[1,2] - j[1,0] * j[0,0] ** -1 * j[0, 2]],\n",
    "    [0, j[2,1] - j[2,0] * j[0,0] ** -1 * j[0, 1], j[2,2] - j[2,0] * j[0,0] ** -1 * j[0, 2]]\n",
    "\n",
    "])\n",
    "U0 = sp.Matrix([\n",
    "    [1, j[0,0] ** -1 * j[0, 1], j[0,0] ** -1 * j[0, 2]],\n",
    "    [0, 1, 0],\n",
    "    [0, 0, 1],\n",
    "])\n",
    "L0 * D0 * U0"
   ]
  },
  {
   "cell_type": "code",
   "execution_count": 29,
   "metadata": {},
   "outputs": [
    {
     "data": {
      "text/latex": [
       "$\\displaystyle \\left[\\begin{matrix}J_{00} & 0 & 0\\\\0 & - J_{10} J_{00}^{-1} J_{01} + J_{11} & - J_{10} J_{00}^{-1} J_{02} + J_{12}\\\\0 & - J_{20} J_{00}^{-1} J_{01} + J_{21} & - J_{20} J_{00}^{-1} J_{02} + J_{22}\\end{matrix}\\right]$"
      ],
      "text/plain": [
       "Matrix([\n",
       "[J_00,                            0,                            0],\n",
       "[   0, -J_10*J_00**(-1)*J_01 + J_11, -J_10*J_00**(-1)*J_02 + J_12],\n",
       "[   0, -J_20*J_00**(-1)*J_01 + J_21, -J_20*J_00**(-1)*J_02 + J_22]])"
      ]
     },
     "execution_count": 29,
     "metadata": {},
     "output_type": "execute_result"
    }
   ],
   "source": [
    "L1 = sp.Matrix(\n",
    "    [\n",
    "        [1, 0, 0],\n",
    "        [0, 1, 0],\n",
    "        [0, D0[2, 1] * D0[1, 1] ** -1, 1],\n",
    "    ]\n",
    ")\n",
    "D1 = sp.Matrix(\n",
    "    [\n",
    "        [j[0,0], 0, 0],\n",
    "        [0, D0[1, 1], 0],\n",
    "        [0, 0, D0[2, 2] - D0[2, 1] * D0[1, 1] ** -1 * D0[1, 2]],\n",
    "    ]\n",
    ")\n",
    "U1 = sp.Matrix(\n",
    "    [\n",
    "        [1, 0, 0],\n",
    "        [0, 1, D0[1, 1] ** -1 * D0[1, 2]],\n",
    "        [0, 0, 1]\n",
    "    ]\n",
    ")\n",
    "L1 * D1 * U1"
   ]
  },
  {
   "cell_type": "code",
   "execution_count": 30,
   "metadata": {},
   "outputs": [
    {
     "data": {
      "text/latex": [
       "$\\displaystyle \\left[\\begin{matrix}J_{00} & J_{01} & J_{02}\\\\J_{10} & J_{11} & J_{12}\\\\J_{20} & J_{21} & J_{22}\\end{matrix}\\right]$"
      ],
      "text/plain": [
       "Matrix([\n",
       "[J_00, J_01, J_02],\n",
       "[J_10, J_11, J_12],\n",
       "[J_20, J_21, J_22]])"
      ]
     },
     "execution_count": 30,
     "metadata": {},
     "output_type": "execute_result"
    }
   ],
   "source": [
    "L0 * L1 * D1 * U1 * U0"
   ]
  },
  {
   "cell_type": "markdown",
   "metadata": {},
   "source": [
    "applying only DU"
   ]
  },
  {
   "cell_type": "code",
   "execution_count": 31,
   "metadata": {},
   "outputs": [
    {
     "data": {
      "text/latex": [
       "$\\displaystyle \\left[\\begin{matrix}1 & 0 & 0\\\\J_{10} J_{00}^{-1} & 1 & 0\\\\J_{20} J_{00}^{-1} & \\left(- J_{20} J_{00}^{-1} J_{01} + J_{21}\\right) \\left(- J_{10} J_{00}^{-1} J_{01} + J_{11}\\right)^{-1} & 1\\end{matrix}\\right]$"
      ],
      "text/plain": [
       "Matrix([\n",
       "[              1,                                                                   0, 0],\n",
       "[J_10*J_00**(-1),                                                                   1, 0],\n",
       "[J_20*J_00**(-1), (-J_20*J_00**(-1)*J_01 + J_21)*(-J_10*J_00**(-1)*J_01 + J_11)**(-1), 1]])"
      ]
     },
     "execution_count": 31,
     "metadata": {},
     "output_type": "execute_result"
    }
   ],
   "source": [
    "sp.simplify(L0 * L1 * D1 * U1 * U0 * U0.inv() * U1.inv() * D1.inv())"
   ]
  },
  {
   "cell_type": "code",
   "execution_count": 32,
   "metadata": {},
   "outputs": [
    {
     "data": {
      "text/latex": [
       "$\\displaystyle \\left[\\begin{matrix}J_{00}^{-1} & - \\left(- J_{10} + J_{11} J_{01}^{-1} J_{00}\\right)^{-1} & - \\left(\\left(- J_{20} J_{00}^{-1} J_{01} \\left(- J_{10} J_{00}^{-1} J_{01} + J_{11}\\right)^{-1} J_{10} J_{00}^{-1} J_{02} + J_{20} J_{00}^{-1} J_{01} \\left(- J_{10} J_{00}^{-1} J_{01} + J_{11}\\right)^{-1} J_{12} - J_{20} J_{00}^{-1} J_{02} + J_{21} \\left(- J_{10} J_{00}^{-1} J_{01} + J_{11}\\right)^{-1} J_{10} J_{00}^{-1} J_{02} - J_{21} \\left(- J_{10} J_{00}^{-1} J_{01} + J_{11}\\right)^{-1} J_{12} + J_{22}\\right) \\left(J_{01} \\left(- J_{10} J_{00}^{-1} J_{01} + J_{11}\\right)^{-1} \\left(J_{10} J_{00}^{-1} J_{02} - J_{12}\\right) + J_{02}\\right)^{-1} J_{00}\\right)^{-1}\\\\0 & \\left(- J_{10} J_{00}^{-1} J_{01} + J_{11}\\right)^{-1} & \\left(\\left(- J_{20} J_{00}^{-1} J_{01} \\left(- J_{10} J_{00}^{-1} J_{01} + J_{11}\\right)^{-1} J_{10} J_{00}^{-1} J_{02} + J_{20} J_{00}^{-1} J_{01} \\left(- J_{10} J_{00}^{-1} J_{01} + J_{11}\\right)^{-1} J_{12} - J_{20} J_{00}^{-1} J_{02} + J_{21} \\left(- J_{10} J_{00}^{-1} J_{01} + J_{11}\\right)^{-1} J_{10} J_{00}^{-1} J_{02} - J_{21} \\left(- J_{10} J_{00}^{-1} J_{01} + J_{11}\\right)^{-1} J_{12} + J_{22}\\right) \\left(J_{10} J_{00}^{-1} J_{02} - J_{12}\\right)^{-1} \\left(- J_{10} J_{00}^{-1} J_{01} + J_{11}\\right)\\right)^{-1}\\\\0 & 0 & \\left(- J_{20} J_{00}^{-1} J_{01} \\left(- J_{10} J_{00}^{-1} J_{01} + J_{11}\\right)^{-1} J_{10} J_{00}^{-1} J_{02} + J_{20} J_{00}^{-1} J_{01} \\left(- J_{10} J_{00}^{-1} J_{01} + J_{11}\\right)^{-1} J_{12} - J_{20} J_{00}^{-1} J_{02} + J_{21} \\left(- J_{10} J_{00}^{-1} J_{01} + J_{11}\\right)^{-1} J_{10} J_{00}^{-1} J_{02} - J_{21} \\left(- J_{10} J_{00}^{-1} J_{01} + J_{11}\\right)^{-1} J_{12} + J_{22}\\right)^{-1}\\end{matrix}\\right]$"
      ],
      "text/plain": [
       "Matrix([\n",
       "[J_00**(-1), -(-J_10 + J_11*J_01**(-1)*J_00)**(-1), -((-J_20*J_00**(-1)*J_01*(-J_10*J_00**(-1)*J_01 + J_11)**(-1)*J_10*J_00**(-1)*J_02 + J_20*J_00**(-1)*J_01*(-J_10*J_00**(-1)*J_01 + J_11)**(-1)*J_12 - J_20*J_00**(-1)*J_02 + J_21*(-J_10*J_00**(-1)*J_01 + J_11)**(-1)*J_10*J_00**(-1)*J_02 - J_21*(-J_10*J_00**(-1)*J_01 + J_11)**(-1)*J_12 + J_22)*(J_01*(-J_10*J_00**(-1)*J_01 + J_11)**(-1)*(J_10*J_00**(-1)*J_02 - J_12) + J_02)**(-1)*J_00)**(-1)],\n",
       "[         0,  (-J_10*J_00**(-1)*J_01 + J_11)**(-1),                           ((-J_20*J_00**(-1)*J_01*(-J_10*J_00**(-1)*J_01 + J_11)**(-1)*J_10*J_00**(-1)*J_02 + J_20*J_00**(-1)*J_01*(-J_10*J_00**(-1)*J_01 + J_11)**(-1)*J_12 - J_20*J_00**(-1)*J_02 + J_21*(-J_10*J_00**(-1)*J_01 + J_11)**(-1)*J_10*J_00**(-1)*J_02 - J_21*(-J_10*J_00**(-1)*J_01 + J_11)**(-1)*J_12 + J_22)*(J_10*J_00**(-1)*J_02 - J_12)**(-1)*(-J_10*J_00**(-1)*J_01 + J_11))**(-1)],\n",
       "[         0,                                     0,                                                                                                (-J_20*J_00**(-1)*J_01*(-J_10*J_00**(-1)*J_01 + J_11)**(-1)*J_10*J_00**(-1)*J_02 + J_20*J_00**(-1)*J_01*(-J_10*J_00**(-1)*J_01 + J_11)**(-1)*J_12 - J_20*J_00**(-1)*J_02 + J_21*(-J_10*J_00**(-1)*J_01 + J_11)**(-1)*J_10*J_00**(-1)*J_02 - J_21*(-J_10*J_00**(-1)*J_01 + J_11)**(-1)*J_12 + J_22)**(-1)]])"
      ]
     },
     "execution_count": 32,
     "metadata": {},
     "output_type": "execute_result"
    }
   ],
   "source": [
    "sp.simplify(U0.inv() * U1.inv() * D1.inv(), )"
   ]
  },
  {
   "cell_type": "markdown",
   "metadata": {},
   "source": [
    "* Full: U D L\n",
    "* Upper: U D\n",
    "* Lower: D L"
   ]
  }
 ],
 "metadata": {
  "kernelspec": {
   "display_name": "Python 3",
   "language": "python",
   "name": "python3"
  },
  "language_info": {
   "codemirror_mode": {
    "name": "ipython",
    "version": 3
   },
   "file_extension": ".py",
   "mimetype": "text/x-python",
   "name": "python",
   "nbconvert_exporter": "python",
   "pygments_lexer": "ipython3",
   "version": "3.11.7"
  }
 },
 "nbformat": 4,
 "nbformat_minor": 2
}
