{
 "cells": [
  {
   "cell_type": "code",
   "execution_count": 16,
   "metadata": {},
   "outputs": [
    {
     "data": {
      "text/latex": [
       "$\\displaystyle \\left[\\begin{matrix}J_{11} & J_{14} & 0\\\\J_{41} & J_{44} & J_{4\\star}\\\\0 & J_{\\star4} & J_{\\star\\star}\\end{matrix}\\right]$"
      ],
      "text/plain": [
       "Matrix([\n",
       "[J_{11},     J_{14},              0],\n",
       "[J_{41},     J_{44},     J_{4\\star}],\n",
       "[     0, J_{\\star4}, J_{\\star\\star}]])"
      ]
     },
     "execution_count": 16,
     "metadata": {},
     "output_type": "execute_result"
    }
   ],
   "source": [
    "import sympy as sp\n",
    "commutative = False\n",
    "\n",
    "J11, J14, J44, J41, J4s, Js1, Js4, Jss = sp.symbols(r'J_{11} J_{14} J_{44} J_{41} J_{4\\star} J_{\\star1} J_{\\star4} J_{\\star\\star}', commutative=commutative)\n",
    "# J11 = 0\n",
    "J = sp.Matrix([[J11, J14, 0], [J41, J44, J4s], [0, Js4, Jss]])\n",
    "J"
   ]
  },
  {
   "cell_type": "code",
   "execution_count": 17,
   "metadata": {},
   "outputs": [
    {
     "data": {
      "text/latex": [
       "$\\displaystyle \\left[\\begin{matrix}- J_{41} J_{11}^{-1} J_{14} + J_{44} & J_{4\\star}\\\\J_{\\star4} & J_{\\star\\star}\\end{matrix}\\right]$"
      ],
      "text/plain": [
       "Matrix([\n",
       "[-J_{41}*J_{11}**(-1)*J_{14} + J_{44},     J_{4\\star}],\n",
       "[                          J_{\\star4}, J_{\\star\\star}]])"
      ]
     },
     "execution_count": 17,
     "metadata": {},
     "output_type": "execute_result"
    }
   ],
   "source": [
    "def make_schur(J, e=[0], k=[1,2]):\n",
    "    Jee = J[e, e]\n",
    "    Jek = J[e, k]\n",
    "    Jke = J[k, e]\n",
    "    Jkk = J[k, k]\n",
    "    return Jkk - Jke * Jee ** -1 * Jek\n",
    "S15 = make_schur(J)\n",
    "S15"
   ]
  },
  {
   "cell_type": "markdown",
   "metadata": {},
   "source": [
    "exact Q"
   ]
  },
  {
   "cell_type": "code",
   "execution_count": 18,
   "metadata": {},
   "outputs": [
    {
     "data": {
      "text/latex": [
       "$\\displaystyle \\left[\\begin{matrix}1 & 0 & 0\\\\- J_{44}^{-1} J_{41} & 1 & 0\\\\0 & 0 & 1\\end{matrix}\\right]$"
      ],
      "text/plain": [
       "Matrix([\n",
       "[                   1, 0, 0],\n",
       "[-J_{44}**(-1)*J_{41}, 1, 0],\n",
       "[                   0, 0, 1]])"
      ]
     },
     "execution_count": 18,
     "metadata": {},
     "output_type": "execute_result"
    }
   ],
   "source": [
    "alpha = sp.Symbol(r'\\alpha')\n",
    "alpha = 1\n",
    "\n",
    "Qleft = sp.Matrix([[1, -J14 * J44 **-1, 0], [0, 1, 0], [0, 0, 1]])\n",
    "Qright = sp.Matrix([[1, 0, 0], [-J44 ** -1 * J41, 1, 0], [0, 0, 1]])\n",
    "\n",
    "Qright"
   ]
  },
  {
   "cell_type": "code",
   "execution_count": 19,
   "metadata": {},
   "outputs": [
    {
     "data": {
      "text/latex": [
       "$\\displaystyle \\left[\\begin{matrix}1 & - J_{14} J_{44}^{-1} & 0\\\\0 & 1 & 0\\\\0 & 0 & 1\\end{matrix}\\right]$"
      ],
      "text/plain": [
       "Matrix([\n",
       "[1, -J_{14}*J_{44}**(-1), 0],\n",
       "[0,                    1, 0],\n",
       "[0,                    0, 1]])"
      ]
     },
     "execution_count": 19,
     "metadata": {},
     "output_type": "execute_result"
    }
   ],
   "source": [
    "Qleft"
   ]
  },
  {
   "cell_type": "code",
   "execution_count": 20,
   "metadata": {},
   "outputs": [
    {
     "data": {
      "text/latex": [
       "$\\displaystyle \\left[\\begin{matrix}J_{11} - J_{14} J_{44}^{-1} J_{41} & 0 & - J_{14} J_{44}^{-1} J_{4\\star}\\\\J_{41} & J_{44} & J_{4\\star}\\\\0 & J_{\\star4} & J_{\\star\\star}\\end{matrix}\\right]$"
      ],
      "text/plain": [
       "Matrix([\n",
       "[J_{11} - J_{14}*J_{44}**(-1)*J_{41},          0, -J_{14}*J_{44}**(-1)*J_{4\\star}],\n",
       "[                             J_{41},     J_{44},                      J_{4\\star}],\n",
       "[                                  0, J_{\\star4},                  J_{\\star\\star}]])"
      ]
     },
     "execution_count": 20,
     "metadata": {},
     "output_type": "execute_result"
    }
   ],
   "source": [
    "QJ = Qleft * J * Qright\n",
    "# QJ = J * Qright\n",
    "QJ = Qleft * J\n",
    "\n",
    "QJ"
   ]
  },
  {
   "cell_type": "code",
   "execution_count": 21,
   "metadata": {},
   "outputs": [
    {
     "data": {
      "text/latex": [
       "$\\displaystyle \\left[\\begin{matrix}\\tilde{J}_{11} & 0 & - J_{14} J_{44}^{-1} J_{4\\star}\\\\J_{41} & J_{44} & J_{4\\star}\\\\\\tilde{J}_{\\star4} & J_{\\star4} & J_{\\star\\star}\\end{matrix}\\right]$"
      ],
      "text/plain": [
       "Matrix([\n",
       "[    \\tilde{J}_{11},          0, -J_{14}*J_{44}**(-1)*J_{4\\star}],\n",
       "[            J_{41},     J_{44},                      J_{4\\star}],\n",
       "[\\tilde{J}_{\\star4}, J_{\\star4},                  J_{\\star\\star}]])"
      ]
     },
     "execution_count": 21,
     "metadata": {},
     "output_type": "execute_result"
    }
   ],
   "source": [
    "# QJ[0,2] = sp.Symbol(r'\\tilde{J}_{4\\star}', commutative=commutative)\n",
    "QJ[0,0] = sp.Symbol(r'\\tilde{J}_{11}', commutative=commutative)\n",
    "QJ[2,0] = sp.Symbol(r'\\tilde{J}_{\\star4}', commutative=commutative)\n",
    "QJ"
   ]
  },
  {
   "cell_type": "code",
   "execution_count": 22,
   "metadata": {},
   "outputs": [
    {
     "data": {
      "text/latex": [
       "$\\displaystyle \\left[\\begin{matrix}J_{44} & J_{41} \\tilde{J}_{11}^{-1} J_{14} J_{44}^{-1} J_{4\\star} + J_{4\\star}\\\\J_{\\star4} & J_{\\star\\star} + \\tilde{J}_{\\star4} \\tilde{J}_{11}^{-1} J_{14} J_{44}^{-1} J_{4\\star}\\end{matrix}\\right]$"
      ],
      "text/plain": [
       "Matrix([\n",
       "[    J_{44},                 J_{41}*\\tilde{J}_{11}**(-1)*J_{14}*J_{44}**(-1)*J_{4\\star} + J_{4\\star}],\n",
       "[J_{\\star4}, J_{\\star\\star} + \\tilde{J}_{\\star4}*\\tilde{J}_{11}**(-1)*J_{14}*J_{44}**(-1)*J_{4\\star}]])"
      ]
     },
     "execution_count": 22,
     "metadata": {},
     "output_type": "execute_result"
    }
   ],
   "source": [
    "make_schur(QJ)"
   ]
  },
  {
   "cell_type": "markdown",
   "metadata": {},
   "source": [
    "inexact Q"
   ]
  },
  {
   "cell_type": "code",
   "execution_count": 23,
   "metadata": {},
   "outputs": [
    {
     "data": {
      "text/latex": [
       "$\\displaystyle \\left[\\begin{matrix}1 & 0 & 0\\\\- D_{44}^{-1} J_{41} & 1 & 0\\\\0 & 0 & 1\\end{matrix}\\right]$"
      ],
      "text/plain": [
       "Matrix([\n",
       "[                  1, 0, 0],\n",
       "[-D_{44}^{-1}*J_{41}, 1, 0],\n",
       "[                  0, 0, 1]])"
      ]
     },
     "execution_count": 23,
     "metadata": {},
     "output_type": "execute_result"
    }
   ],
   "source": [
    "alpha = sp.Symbol(r'\\alpha')\n",
    "alpha = 1\n",
    "\n",
    "D44_inv = sp.Symbol('D_{44}^{-1}', commutative=False)\n",
    "\n",
    "Qleft = sp.Matrix([[1, -J14 * D44_inv, 0], [0, 1, 0], [0, 0, 1]])\n",
    "Qright = sp.Matrix([[1, 0, 0], [-D44_inv * J41, 1, 0], [0, 0, 1]])\n",
    "\n",
    "Qright"
   ]
  },
  {
   "cell_type": "code",
   "execution_count": 24,
   "metadata": {},
   "outputs": [
    {
     "data": {
      "text/latex": [
       "$\\displaystyle \\left[\\begin{matrix}1 & - J_{14} D_{44}^{-1} & 0\\\\0 & 1 & 0\\\\0 & 0 & 1\\end{matrix}\\right]$"
      ],
      "text/plain": [
       "Matrix([\n",
       "[1, -J_{14}*D_{44}^{-1}, 0],\n",
       "[0,                   1, 0],\n",
       "[0,                   0, 1]])"
      ]
     },
     "execution_count": 24,
     "metadata": {},
     "output_type": "execute_result"
    }
   ],
   "source": [
    "Qleft"
   ]
  },
  {
   "cell_type": "code",
   "execution_count": 25,
   "metadata": {},
   "outputs": [],
   "source": [
    "QJ = Qleft * J"
   ]
  },
  {
   "cell_type": "code",
   "execution_count": 26,
   "metadata": {},
   "outputs": [
    {
     "data": {
      "text/latex": [
       "$\\displaystyle \\left[\\begin{matrix}J_{11} - J_{14} D_{44}^{-1} J_{41} & J_{14} - J_{14} D_{44}^{-1} J_{44} & - J_{14} D_{44}^{-1} J_{4\\star}\\\\J_{41} & J_{44} & J_{4\\star}\\\\0 & J_{\\star4} & J_{\\star\\star}\\end{matrix}\\right]$"
      ],
      "text/plain": [
       "Matrix([\n",
       "[J_{11} - J_{14}*D_{44}^{-1}*J_{41}, J_{14} - J_{14}*D_{44}^{-1}*J_{44}, -J_{14}*D_{44}^{-1}*J_{4\\star}],\n",
       "[                            J_{41},                             J_{44},                     J_{4\\star}],\n",
       "[                                 0,                         J_{\\star4},                 J_{\\star\\star}]])"
      ]
     },
     "execution_count": 26,
     "metadata": {},
     "output_type": "execute_result"
    }
   ],
   "source": [
    "# QJ = Qleft * J * Qright\n",
    "# QJ = J * Qright\n",
    "QJ = Qleft * J\n",
    "\n",
    "QJ"
   ]
  },
  {
   "cell_type": "code",
   "execution_count": 27,
   "metadata": {},
   "outputs": [
    {
     "data": {
      "text/latex": [
       "$\\displaystyle \\left[\\begin{matrix}\\tilde{J}_{11} & J_{14} - J_{14} D_{44}^{-1} J_{44} & - J_{14} D_{44}^{-1} J_{4\\star}\\\\E_{41} & J_{44} & J_{4\\star}\\\\\\tilde{J}_{\\star4} & J_{\\star4} & J_{\\star\\star}\\end{matrix}\\right]$"
      ],
      "text/plain": [
       "Matrix([\n",
       "[    \\tilde{J}_{11}, J_{14} - J_{14}*D_{44}^{-1}*J_{44}, -J_{14}*D_{44}^{-1}*J_{4\\star}],\n",
       "[            E_{41},                             J_{44},                     J_{4\\star}],\n",
       "[\\tilde{J}_{\\star4},                         J_{\\star4},                 J_{\\star\\star}]])"
      ]
     },
     "execution_count": 27,
     "metadata": {},
     "output_type": "execute_result"
    }
   ],
   "source": [
    "# QJ[0,2] = sp.Symbol(r'\\tilde{J}_{4\\star}', commutative=commutative)\n",
    "QJ[0,0] = sp.Symbol(r'\\tilde{J}_{11}', commutative=commutative)\n",
    "QJ[2,0] = sp.Symbol(r'\\tilde{J}_{\\star4}', commutative=commutative)\n",
    "QJ[1,0] = sp.Symbol(r'E_{41}', commutative=commutative)\n",
    "QJ"
   ]
  },
  {
   "cell_type": "code",
   "execution_count": 28,
   "metadata": {},
   "outputs": [
    {
     "data": {
      "text/latex": [
       "$\\displaystyle \\left[\\begin{matrix}- E_{41} \\tilde{J}_{11}^{-1} \\left(J_{14} - J_{14} D_{44}^{-1} J_{44}\\right) + J_{44} & E_{41} \\tilde{J}_{11}^{-1} J_{14} D_{44}^{-1} J_{4\\star} + J_{4\\star}\\\\J_{\\star4} - \\tilde{J}_{\\star4} \\tilde{J}_{11}^{-1} \\left(J_{14} - J_{14} D_{44}^{-1} J_{44}\\right) & J_{\\star\\star} + \\tilde{J}_{\\star4} \\tilde{J}_{11}^{-1} J_{14} D_{44}^{-1} J_{4\\star}\\end{matrix}\\right]$"
      ],
      "text/plain": [
       "Matrix([\n",
       "[               -E_{41}*\\tilde{J}_{11}**(-1)*(J_{14} - J_{14}*D_{44}^{-1}*J_{44}) + J_{44},                 E_{41}*\\tilde{J}_{11}**(-1)*J_{14}*D_{44}^{-1}*J_{4\\star} + J_{4\\star}],\n",
       "[J_{\\star4} - \\tilde{J}_{\\star4}*\\tilde{J}_{11}**(-1)*(J_{14} - J_{14}*D_{44}^{-1}*J_{44}), J_{\\star\\star} + \\tilde{J}_{\\star4}*\\tilde{J}_{11}**(-1)*J_{14}*D_{44}^{-1}*J_{4\\star}]])"
      ]
     },
     "execution_count": 28,
     "metadata": {},
     "output_type": "execute_result"
    }
   ],
   "source": [
    "make_schur(QJ)"
   ]
  },
  {
   "cell_type": "markdown",
   "metadata": {},
   "source": [
    "# Fixed stress"
   ]
  },
  {
   "cell_type": "code",
   "execution_count": 29,
   "metadata": {},
   "outputs": [
    {
     "data": {
      "text/latex": [
       "$\\displaystyle \\left[\\begin{matrix}J_{00} & J_{02} & J_{01} & 0 & J_{05}\\\\J_{20} & J_{22} & 0 & 0 & J_{25}\\\\J_{10} & 0 & J_{11} & 0 & J_{15}\\\\0 & 0 & 0 & J_{44} & J_{45}\\\\J_{50} & J_{52} & J_{51} & J_{54} & J_{55}\\end{matrix}\\right]$"
      ],
      "text/plain": [
       "Matrix([\n",
       "[J_00, J_02, J_01,    0, J_05],\n",
       "[J_20, J_22,    0,    0, J_25],\n",
       "[J_10,    0, J_11,    0, J_15],\n",
       "[   0,    0,    0, J_44, J_45],\n",
       "[J_50, J_52, J_51, J_54, J_55]])"
      ]
     },
     "execution_count": 29,
     "metadata": {},
     "output_type": "execute_result"
    }
   ],
   "source": [
    "import numpy as np\n",
    "j = np.array([sp.symbols(' '.join([f'J_{i}{j}'for j in [0,2,1,4,5]]), commutative=commutative) for i in [0,2,1,4,5]])\n",
    "j[1, 2] = 0\n",
    "j[2, 1] = 0\n",
    "j[3,0] = j[3,1] = j[3,2] = j[0,3] = j[1,3] = j[2,3] = 0\n",
    "J = sp.Matrix(j)\n",
    "J"
   ]
  },
  {
   "cell_type": "code",
   "execution_count": 30,
   "metadata": {},
   "outputs": [
    {
     "ename": "NameError",
     "evalue": "name 'J45' is not defined",
     "output_type": "error",
     "traceback": [
      "\u001b[0;31m---------------------------------------------------------------------------\u001b[0m",
      "\u001b[0;31mNameError\u001b[0m                                 Traceback (most recent call last)",
      "Cell \u001b[0;32mIn[30], line 3\u001b[0m\n\u001b[1;32m      1\u001b[0m Qleft \u001b[38;5;241m=\u001b[39m sp\u001b[38;5;241m.\u001b[39mMatrix(np\u001b[38;5;241m.\u001b[39meye(\u001b[38;5;241m5\u001b[39m, dtype\u001b[38;5;241m=\u001b[39m\u001b[38;5;28mint\u001b[39m))\n\u001b[1;32m      2\u001b[0m Qright \u001b[38;5;241m=\u001b[39m sp\u001b[38;5;241m.\u001b[39mMatrix(np\u001b[38;5;241m.\u001b[39meye(\u001b[38;5;241m5\u001b[39m, dtype\u001b[38;5;241m=\u001b[39m\u001b[38;5;28mint\u001b[39m))\n\u001b[0;32m----> 3\u001b[0m Qleft[\u001b[38;5;241m3\u001b[39m, \u001b[38;5;241m4\u001b[39m] \u001b[38;5;241m=\u001b[39m \u001b[38;5;241m-\u001b[39m\u001b[43mJ45\u001b[49m \u001b[38;5;241m*\u001b[39m J55 \u001b[38;5;241m*\u001b[39m\u001b[38;5;241m*\u001b[39m \u001b[38;5;241m-\u001b[39m\u001b[38;5;241m1\u001b[39m\n\u001b[1;32m      4\u001b[0m Qright[\u001b[38;5;241m4\u001b[39m,\u001b[38;5;241m3\u001b[39m] \u001b[38;5;241m=\u001b[39m \u001b[38;5;241m-\u001b[39mJ55 \u001b[38;5;241m*\u001b[39m\u001b[38;5;241m*\u001b[39m \u001b[38;5;241m-\u001b[39m\u001b[38;5;241m1\u001b[39m \u001b[38;5;241m*\u001b[39m J54\n\u001b[1;32m      6\u001b[0m Qleft\n",
      "\u001b[0;31mNameError\u001b[0m: name 'J45' is not defined"
     ]
    }
   ],
   "source": [
    "Qleft = sp.Matrix(np.eye(5, dtype=int))\n",
    "Qright = sp.Matrix(np.eye(5, dtype=int))\n",
    "Qleft[3, 4] = -J45 * J55 ** -1\n",
    "Qright[4,3] = -J55 ** -1 * J54\n",
    "\n",
    "Qleft"
   ]
  },
  {
   "cell_type": "code",
   "execution_count": null,
   "metadata": {},
   "outputs": [
    {
     "data": {
      "text/latex": [
       "$\\displaystyle \\left[\\begin{matrix}J_{00} & J_{02} & J_{01} & - J_{05} J_{55}^{-1} J_{54} & J_{05}\\\\J_{20} & J_{22} & 0 & - J_{25} J_{55}^{-1} J_{54} & J_{25}\\\\J_{10} & 0 & J_{11} & - J_{15} J_{55}^{-1} J_{54} & J_{15}\\\\0 & 0 & 0 & J_{44} - J_{45} J_{55}^{-1} J_{54} & J_{45}\\\\J_{50} & J_{52} & J_{51} & J_{54} - J_{55} J_{55}^{-1} J_{54} & J_{55}\\end{matrix}\\right]$"
      ],
      "text/plain": [
       "Matrix([\n",
       "[J_00, J_02, J_01,       -J_05*J_{55}**(-1)*J_{54}, J_05],\n",
       "[J_20, J_22,    0,       -J_25*J_{55}**(-1)*J_{54}, J_25],\n",
       "[J_10,    0, J_11,       -J_15*J_{55}**(-1)*J_{54}, J_15],\n",
       "[   0,    0,    0, J_44 - J_45*J_{55}**(-1)*J_{54}, J_45],\n",
       "[J_50, J_52, J_51, J_54 - J_55*J_{55}**(-1)*J_{54}, J_55]])"
      ]
     },
     "execution_count": 19,
     "metadata": {},
     "output_type": "execute_result"
    }
   ],
   "source": [
    "QJ = (J * Qright).subs(J55 ** -1 * J55, 1)\n",
    "QJ"
   ]
  },
  {
   "cell_type": "code",
   "execution_count": null,
   "metadata": {},
   "outputs": [
    {
     "data": {
      "text/latex": [
       "$\\displaystyle \\left[\\begin{matrix}J_{00} & J_{02} & J_{01} & - J_{05} J_{55}^{-1} J_{54} & J_{05}\\\\J_{20} & J_{22} & 0 & - J_{25} J_{55}^{-1} J_{54} & J_{25}\\\\J_{10} & 0 & J_{11} & - J_{15} J_{55}^{-1} J_{54} & J_{15}\\\\0 & 0 & 0 & J_{44} - J_{45} J_{55}^{-1} J_{54} & J_{45}\\\\J_{50} & J_{52} & J_{51} & 0 & J_{55}\\end{matrix}\\right]$"
      ],
      "text/plain": [
       "Matrix([\n",
       "[J_00, J_02, J_01,           -J_05*J_{55}**(-1)*J_{54}, J_05],\n",
       "[J_20, J_22,    0,           -J_25*J_{55}**(-1)*J_{54}, J_25],\n",
       "[J_10,    0, J_11,           -J_15*J_{55}**(-1)*J_{54}, J_15],\n",
       "[   0,    0,    0, J_{44} - J_{45}*J_{55}**(-1)*J_{54}, J_45],\n",
       "[J_50, J_52, J_51,                                   0, J_55]])"
      ]
     },
     "execution_count": 20,
     "metadata": {},
     "output_type": "execute_result"
    }
   ],
   "source": [
    "QJ[3,3]= J44 - J45 * J55 ** -1 * J54\n",
    "QJ[4,3] = 0\n",
    "# QJ[3,4] = 0\n",
    "QJ"
   ]
  },
  {
   "cell_type": "code",
   "execution_count": null,
   "metadata": {},
   "outputs": [
    {
     "data": {
      "text/latex": [
       "$\\displaystyle \\left[\\begin{matrix}J_{00} & J_{02} & J_{01} & K_{04} & J_{05}\\\\J_{20} & J_{22} & 0 & K_{24} & J_{25}\\\\J_{10} & 0 & J_{11} & K_{14} & J_{15}\\\\0 & 0 & 0 & K_{44} & J_{45}\\\\J_{50} & J_{52} & J_{51} & 0 & J_{55}\\end{matrix}\\right]$"
      ],
      "text/plain": [
       "Matrix([\n",
       "[J_00, J_02, J_01, K_{04}, J_05],\n",
       "[J_20, J_22,    0, K_{24}, J_25],\n",
       "[J_10,    0, J_11, K_{14}, J_15],\n",
       "[   0,    0,    0, K_{44}, J_45],\n",
       "[J_50, J_52, J_51,      0, J_55]])"
      ]
     },
     "execution_count": 21,
     "metadata": {},
     "output_type": "execute_result"
    }
   ],
   "source": [
    "# K40 = QJ[3,0]\n",
    "# K42 = QJ[3,1]\n",
    "# K41 = QJ[3,2]\n",
    "K04 = QJ[0,3]\n",
    "K24 = QJ[1,3]\n",
    "K14 = QJ[2,3]\n",
    "K44 = QJ[3,3]\n",
    "\n",
    "# QJ[3,0] = sp.Symbol('K_{40}', commutative=commutative)\n",
    "# QJ[3,1] = sp.Symbol('K_{42}', commutative=commutative)\n",
    "# QJ[3,2] = sp.Symbol('K_{41}', commutative=commutative)\n",
    "QJ[0,3] = sp.Symbol('K_{04}', commutative=commutative)\n",
    "QJ[1,3] = sp.Symbol('K_{24}', commutative=commutative)\n",
    "QJ[2,3] = sp.Symbol('K_{14}', commutative=commutative)\n",
    "QJ[3,3] = sp.Symbol('K_{44}', commutative=commutative)\n",
    "QJ"
   ]
  },
  {
   "cell_type": "code",
   "execution_count": null,
   "metadata": {},
   "outputs": [
    {
     "data": {
      "text/latex": [
       "$\\displaystyle \\left[\\begin{matrix}J_{00} & J_{02} & J_{01} & J_{05} - K_{04} K_{44}^{-1} J_{45}\\\\J_{20} & J_{22} & 0 & J_{25} - K_{24} K_{44}^{-1} J_{45}\\\\J_{10} & 0 & J_{11} & J_{15} - K_{14} K_{44}^{-1} J_{45}\\\\J_{50} & J_{52} & J_{51} & J_{55}\\end{matrix}\\right]$"
      ],
      "text/plain": [
       "Matrix([\n",
       "[J_00, J_02, J_01, J_05 - K_{04}*K_{44}**(-1)*J_45],\n",
       "[J_20, J_22,    0, J_25 - K_{24}*K_{44}**(-1)*J_45],\n",
       "[J_10,    0, J_11, J_15 - K_{14}*K_{44}**(-1)*J_45],\n",
       "[J_50, J_52, J_51,                            J_55]])"
      ]
     },
     "execution_count": 22,
     "metadata": {},
     "output_type": "execute_result"
    }
   ],
   "source": [
    "def make_schur_4(J):\n",
    "    keep = [0,1,2,4]\n",
    "    elim = [3]\n",
    "    Jkk = J[keep, keep]\n",
    "    Jke = J[keep, elim]\n",
    "    Jek = J[elim, keep]\n",
    "    Jee = J[elim, elim]\n",
    "    return Jkk - Jke * (Jee ** -1) * Jek\n",
    "S4 = make_schur_4(QJ)\n",
    "S4"
   ]
  },
  {
   "cell_type": "code",
   "execution_count": null,
   "metadata": {},
   "outputs": [
    {
     "data": {
      "text/latex": [
       "$\\displaystyle 0$"
      ],
      "text/plain": [
       "0"
      ]
     },
     "execution_count": 23,
     "metadata": {},
     "output_type": "execute_result"
    }
   ],
   "source": [
    "K14 * K44 ** -1 * K41"
   ]
  },
  {
   "cell_type": "code",
   "execution_count": null,
   "metadata": {},
   "outputs": [
    {
     "data": {
      "text/latex": [
       "$\\displaystyle \\left[\\begin{matrix}J_{00} & J_{02} & J_{01} & 0 & J_{05}\\\\J_{20} & J_{22} & 0 & 0 & J_{25}\\\\J_{10} & 0 & J_{11} & 0 & J_{15}\\\\0 & 0 & 0 & J_{44} & J_{45}\\\\J_{50} & J_{52} & J_{51} & J_{54} & J_{55}\\end{matrix}\\right]$"
      ],
      "text/plain": [
       "Matrix([\n",
       "[J_00, J_02, J_01,    0, J_05],\n",
       "[J_20, J_22,    0,    0, J_25],\n",
       "[J_10,    0, J_11,    0, J_15],\n",
       "[   0,    0,    0, J_44, J_45],\n",
       "[J_50, J_52, J_51, J_54, J_55]])"
      ]
     },
     "execution_count": 24,
     "metadata": {},
     "output_type": "execute_result"
    }
   ],
   "source": [
    "J"
   ]
  },
  {
   "cell_type": "code",
   "execution_count": null,
   "metadata": {},
   "outputs": [
    {
     "data": {
      "text/latex": [
       "$\\displaystyle \\left[\\begin{matrix}J_{00} & J_{01}\\\\J_{10} & J_{11}\\end{matrix}\\right]$"
      ],
      "text/plain": [
       "Matrix([\n",
       "[J_00, J_01],\n",
       "[J_10, J_11]])"
      ]
     },
     "execution_count": 25,
     "metadata": {},
     "output_type": "execute_result"
    }
   ],
   "source": [
    "j = np.array(\n",
    "    [\n",
    "        sp.symbols(\" \".join([f\"J_{i}{j}\" for j in [0, 1,]]), commutative=False)\n",
    "        for i in [0, 1,]\n",
    "    ]\n",
    ")\n",
    "J = sp.Matrix(j)\n",
    "\n",
    "\n",
    "def make_ldu(mat):\n",
    "    A = mat[0, 0]\n",
    "    B = mat[0, 1]\n",
    "    C = mat[1, 0]\n",
    "    D = mat[1, 1]\n",
    "\n",
    "    l = C * A**-1\n",
    "    d = D - C * A**-1 * B\n",
    "    u = A**-1 * B\n",
    "\n",
    "    L = sp.Matrix(\n",
    "        [\n",
    "            [1, 0],\n",
    "            [l, 1],\n",
    "        ]\n",
    "    )\n",
    "    D = sp.Matrix(\n",
    "        [\n",
    "            [A, 0],\n",
    "            [0, d],\n",
    "        ]\n",
    "    )\n",
    "    U = sp.Matrix(\n",
    "        [\n",
    "            [1, u],\n",
    "            [0, 1,],\n",
    "        ]\n",
    "    )\n",
    "    return L, D, U\n",
    "\n",
    "\n",
    "L, D, U = make_ldu(J)\n",
    "\n",
    "L * D * U"
   ]
  },
  {
   "cell_type": "code",
   "execution_count": null,
   "metadata": {},
   "outputs": [
    {
     "data": {
      "text/latex": [
       "$\\displaystyle \\left[\\begin{matrix}1 & 0\\\\0 & 1\\end{matrix}\\right]$"
      ],
      "text/plain": [
       "Matrix([\n",
       "[1, 0],\n",
       "[0, 1]])"
      ]
     },
     "execution_count": 26,
     "metadata": {},
     "output_type": "execute_result"
    }
   ],
   "source": [
    "L * D * U * U.inv() * D.inv() * L.inv()"
   ]
  },
  {
   "cell_type": "code",
   "execution_count": null,
   "metadata": {},
   "outputs": [
    {
     "data": {
      "text/latex": [
       "$\\displaystyle \\left[\\begin{matrix}1 & J_{00}^{-1} J_{01}\\\\0 & 1\\end{matrix}\\right]$"
      ],
      "text/plain": [
       "Matrix([\n",
       "[1, J_00**(-1)*J_01],\n",
       "[0,               1]])"
      ]
     },
     "execution_count": 27,
     "metadata": {},
     "output_type": "execute_result"
    }
   ],
   "source": [
    "U"
   ]
  },
  {
   "cell_type": "code",
   "execution_count": null,
   "metadata": {},
   "outputs": [
    {
     "data": {
      "text/latex": [
       "$\\displaystyle \\left[\\begin{matrix}1 & - J_{00}^{-1} J_{01}\\\\0 & 1\\end{matrix}\\right]$"
      ],
      "text/plain": [
       "Matrix([\n",
       "[1, -J_00**(-1)*J_01],\n",
       "[0,                1]])"
      ]
     },
     "execution_count": 28,
     "metadata": {},
     "output_type": "execute_result"
    }
   ],
   "source": [
    "U.inv()"
   ]
  },
  {
   "cell_type": "code",
   "execution_count": null,
   "metadata": {},
   "outputs": [
    {
     "data": {
      "text/latex": [
       "$\\displaystyle \\left[\\begin{matrix}J_{00} & 0\\\\0 & - J_{10} J_{00}^{-1} J_{01} + J_{11}\\end{matrix}\\right]$"
      ],
      "text/plain": [
       "Matrix([\n",
       "[J_00,                            0],\n",
       "[   0, -J_10*J_00**(-1)*J_01 + J_11]])"
      ]
     },
     "execution_count": 29,
     "metadata": {},
     "output_type": "execute_result"
    }
   ],
   "source": [
    "D"
   ]
  },
  {
   "cell_type": "markdown",
   "metadata": {},
   "source": [
    "- LD is preferred for left preconditioning\n",
    "- DU is preferred for right preconditioning"
   ]
  },
  {
   "cell_type": "markdown",
   "metadata": {},
   "source": [
    "How to represent the full preconditioner in a matrix form:\n",
    "1. $J_1 = J \\cdot Q_r$"
   ]
  },
  {
   "cell_type": "markdown",
   "metadata": {},
   "source": [
    "$P \\cdot x \\approx J^{-1} \\cdot x$"
   ]
  },
  {
   "cell_type": "markdown",
   "metadata": {},
   "source": [
    "$P = U_0^{-1} \\cdot D_0^{-1} \\cdot L_0^{-1} $\n",
    "\n",
    "$L^{-1} = \\begin{bmatrix} \n",
    "1 & \n",
    "\\\\\n",
    "-C \\cdot A^{-1}&\n",
    "1\n",
    "\\end{bmatrix}$\n",
    "\n",
    "$D^{-1} = \\begin{bmatrix} \n",
    "A^{-1} \\\\\n",
    "&\n",
    "D^{-1}\n",
    " \\end{bmatrix}$\n"
   ]
  },
  {
   "cell_type": "markdown",
   "metadata": {},
   "source": [
    "# Nested Schur complements - only upper"
   ]
  },
  {
   "cell_type": "code",
   "execution_count": null,
   "metadata": {},
   "outputs": [
    {
     "data": {
      "text/latex": [
       "$\\displaystyle \\left[\\begin{matrix}J_{00} & J_{01} & J_{02}\\\\J_{10} & J_{11} & J_{12}\\\\J_{20} & J_{21} & J_{22}\\end{matrix}\\right]$"
      ],
      "text/plain": [
       "Matrix([\n",
       "[J_00, J_01, J_02],\n",
       "[J_10, J_11, J_12],\n",
       "[J_20, J_21, J_22]])"
      ]
     },
     "execution_count": 1,
     "metadata": {},
     "output_type": "execute_result"
    }
   ],
   "source": [
    "import sympy as sp\n",
    "import numpy as np\n",
    "\n",
    "j = np.array(\n",
    "    [\n",
    "        sp.symbols(\" \".join([f\"J_{i}{j}\" for j in [0, 1, 2]]), commutative=False)\n",
    "        for i in [0, 1, 2]\n",
    "    ]\n",
    ")\n",
    "J = sp.Matrix(j)\n",
    "J"
   ]
  },
  {
   "cell_type": "code",
   "execution_count": null,
   "metadata": {},
   "outputs": [
    {
     "data": {
      "text/latex": [
       "$\\displaystyle \\left[\\begin{matrix}J_{00} & J_{01} & J_{02}\\\\J_{10} & J_{11} & J_{12}\\\\J_{20} & J_{21} & J_{22}\\end{matrix}\\right]$"
      ],
      "text/plain": [
       "Matrix([\n",
       "[J_00, J_01, J_02],\n",
       "[J_10, J_11, J_12],\n",
       "[J_20, J_21, J_22]])"
      ]
     },
     "execution_count": 2,
     "metadata": {},
     "output_type": "execute_result"
    }
   ],
   "source": [
    "L0 = sp.Matrix(\n",
    "    [\n",
    "        [1, 0, 0],\n",
    "        [j[1,0] * j[0,0] ** -1, 1, 0],\n",
    "        [j[2,0] * j[0,0] ** -1, 0, 1],\n",
    "    ]\n",
    ")\n",
    "D0 = sp.Matrix([\n",
    "    [j[0,0], 0, 0],\n",
    "    [0, j[1,1] - j[1,0] * j[0,0] ** -1 * j[0, 1], j[1,2] - j[1,0] * j[0,0] ** -1 * j[0, 2]],\n",
    "    [0, j[2,1] - j[2,0] * j[0,0] ** -1 * j[0, 1], j[2,2] - j[2,0] * j[0,0] ** -1 * j[0, 2]]\n",
    "\n",
    "])\n",
    "U0 = sp.Matrix([\n",
    "    [1, j[0,0] ** -1 * j[0, 1], j[0,0] ** -1 * j[0, 2]],\n",
    "    [0, 1, 0],\n",
    "    [0, 0, 1],\n",
    "])\n",
    "L0 * D0 * U0"
   ]
  },
  {
   "cell_type": "code",
   "execution_count": null,
   "metadata": {},
   "outputs": [
    {
     "data": {
      "text/latex": [
       "$\\displaystyle \\left[\\begin{matrix}J_{00} & 0 & 0\\\\0 & - J_{10} J_{00}^{-1} J_{01} + J_{11} & - J_{10} J_{00}^{-1} J_{02} + J_{12}\\\\0 & - J_{20} J_{00}^{-1} J_{01} + J_{21} & - J_{20} J_{00}^{-1} J_{02} + J_{22}\\end{matrix}\\right]$"
      ],
      "text/plain": [
       "Matrix([\n",
       "[J_00,                            0,                            0],\n",
       "[   0, -J_10*J_00**(-1)*J_01 + J_11, -J_10*J_00**(-1)*J_02 + J_12],\n",
       "[   0, -J_20*J_00**(-1)*J_01 + J_21, -J_20*J_00**(-1)*J_02 + J_22]])"
      ]
     },
     "execution_count": 3,
     "metadata": {},
     "output_type": "execute_result"
    }
   ],
   "source": [
    "L1 = sp.Matrix(\n",
    "    [\n",
    "        [1, 0, 0],\n",
    "        [0, 1, 0],\n",
    "        [0, D0[2, 1] * D0[1, 1] ** -1, 1],\n",
    "    ]\n",
    ")\n",
    "D1 = sp.Matrix(\n",
    "    [\n",
    "        [j[0,0], 0, 0],\n",
    "        [0, D0[1, 1], 0],\n",
    "        [0, 0, D0[2, 2] - D0[2, 1] * D0[1, 1] ** -1 * D0[1, 2]],\n",
    "    ]\n",
    ")\n",
    "U1 = sp.Matrix(\n",
    "    [\n",
    "        [1, 0, 0],\n",
    "        [0, 1, D0[1, 1] ** -1 * D0[1, 2]],\n",
    "        [0, 0, 1]\n",
    "    ]\n",
    ")\n",
    "L1 * D1 * U1"
   ]
  },
  {
   "cell_type": "code",
   "execution_count": null,
   "metadata": {},
   "outputs": [
    {
     "data": {
      "text/latex": [
       "$\\displaystyle \\left[\\begin{matrix}J_{00} & J_{01} & J_{02}\\\\J_{10} & J_{11} & J_{12}\\\\J_{20} & J_{21} & J_{22}\\end{matrix}\\right]$"
      ],
      "text/plain": [
       "Matrix([\n",
       "[J_00, J_01, J_02],\n",
       "[J_10, J_11, J_12],\n",
       "[J_20, J_21, J_22]])"
      ]
     },
     "execution_count": 4,
     "metadata": {},
     "output_type": "execute_result"
    }
   ],
   "source": [
    "L0 * L1 * D1 * U1 * U0"
   ]
  },
  {
   "cell_type": "markdown",
   "metadata": {},
   "source": [
    "applying only DU"
   ]
  },
  {
   "cell_type": "code",
   "execution_count": null,
   "metadata": {},
   "outputs": [
    {
     "data": {
      "text/latex": [
       "$\\displaystyle \\left[\\begin{matrix}1 & 0 & 0\\\\J_{10} J_{00}^{-1} & 1 & 0\\\\J_{20} J_{00}^{-1} & \\left(- J_{20} J_{00}^{-1} J_{01} + J_{21}\\right) \\left(- J_{10} J_{00}^{-1} J_{01} + J_{11}\\right)^{-1} & 1\\end{matrix}\\right]$"
      ],
      "text/plain": [
       "Matrix([\n",
       "[              1,                                                                   0, 0],\n",
       "[J_10*J_00**(-1),                                                                   1, 0],\n",
       "[J_20*J_00**(-1), (-J_20*J_00**(-1)*J_01 + J_21)*(-J_10*J_00**(-1)*J_01 + J_11)**(-1), 1]])"
      ]
     },
     "execution_count": 5,
     "metadata": {},
     "output_type": "execute_result"
    }
   ],
   "source": [
    "sp.simplify(L0 * L1 * D1 * U1 * U0 * U0.inv() * U1.inv() * D1.inv())"
   ]
  },
  {
   "cell_type": "code",
   "execution_count": null,
   "metadata": {},
   "outputs": [
    {
     "data": {
      "text/latex": [
       "$\\displaystyle \\left[\\begin{matrix}1 & - J_{00}^{-1} J_{01} & - J_{00}^{-1} J_{01} \\left(\\left(- J_{10} J_{00}^{-1} J_{01} + J_{11}\\right)^{-1} J_{10} J_{00}^{-1} J_{02} - \\left(- J_{10} J_{00}^{-1} J_{01} + J_{11}\\right)^{-1} J_{12}\\right) - J_{00}^{-1} J_{02}\\\\0 & 1 & \\left(- J_{10} J_{00}^{-1} J_{01} + J_{11}\\right)^{-1} J_{10} J_{00}^{-1} J_{02} - \\left(- J_{10} J_{00}^{-1} J_{01} + J_{11}\\right)^{-1} J_{12}\\\\0 & 0 & 1\\end{matrix}\\right]$"
      ],
      "text/plain": [
       "Matrix([\n",
       "[1, -J_00**(-1)*J_01, -J_00**(-1)*J_01*((-J_10*J_00**(-1)*J_01 + J_11)**(-1)*J_10*J_00**(-1)*J_02 - (-J_10*J_00**(-1)*J_01 + J_11)**(-1)*J_12) - J_00**(-1)*J_02],\n",
       "[0,                1,                                      (-J_10*J_00**(-1)*J_01 + J_11)**(-1)*J_10*J_00**(-1)*J_02 - (-J_10*J_00**(-1)*J_01 + J_11)**(-1)*J_12],\n",
       "[0,                0,                                                                                                                                          1]])"
      ]
     },
     "execution_count": 10,
     "metadata": {},
     "output_type": "execute_result"
    }
   ],
   "source": [
    "U0.inv() * U1.inv()"
   ]
  },
  {
   "cell_type": "code",
   "execution_count": null,
   "metadata": {},
   "outputs": [
    {
     "data": {
      "text/latex": [
       "$\\displaystyle \\left[\\begin{matrix}J_{00}^{-1} & - \\left(- J_{10} + J_{11} J_{01}^{-1} J_{00}\\right)^{-1} & - \\left(\\left(- J_{20} J_{00}^{-1} J_{01} \\left(- J_{10} J_{00}^{-1} J_{01} + J_{11}\\right)^{-1} J_{10} J_{00}^{-1} J_{02} + J_{20} J_{00}^{-1} J_{01} \\left(- J_{10} J_{00}^{-1} J_{01} + J_{11}\\right)^{-1} J_{12} - J_{20} J_{00}^{-1} J_{02} + J_{21} \\left(- J_{10} J_{00}^{-1} J_{01} + J_{11}\\right)^{-1} J_{10} J_{00}^{-1} J_{02} - J_{21} \\left(- J_{10} J_{00}^{-1} J_{01} + J_{11}\\right)^{-1} J_{12} + J_{22}\\right) \\left(J_{01} \\left(- J_{10} J_{00}^{-1} J_{01} + J_{11}\\right)^{-1} \\left(J_{10} J_{00}^{-1} J_{02} - J_{12}\\right) + J_{02}\\right)^{-1} J_{00}\\right)^{-1}\\\\0 & \\left(- J_{10} J_{00}^{-1} J_{01} + J_{11}\\right)^{-1} & \\left(\\left(- J_{20} J_{00}^{-1} J_{01} \\left(- J_{10} J_{00}^{-1} J_{01} + J_{11}\\right)^{-1} J_{10} J_{00}^{-1} J_{02} + J_{20} J_{00}^{-1} J_{01} \\left(- J_{10} J_{00}^{-1} J_{01} + J_{11}\\right)^{-1} J_{12} - J_{20} J_{00}^{-1} J_{02} + J_{21} \\left(- J_{10} J_{00}^{-1} J_{01} + J_{11}\\right)^{-1} J_{10} J_{00}^{-1} J_{02} - J_{21} \\left(- J_{10} J_{00}^{-1} J_{01} + J_{11}\\right)^{-1} J_{12} + J_{22}\\right) \\left(J_{10} J_{00}^{-1} J_{02} - J_{12}\\right)^{-1} \\left(- J_{10} J_{00}^{-1} J_{01} + J_{11}\\right)\\right)^{-1}\\\\0 & 0 & \\left(- J_{20} J_{00}^{-1} J_{01} \\left(- J_{10} J_{00}^{-1} J_{01} + J_{11}\\right)^{-1} J_{10} J_{00}^{-1} J_{02} + J_{20} J_{00}^{-1} J_{01} \\left(- J_{10} J_{00}^{-1} J_{01} + J_{11}\\right)^{-1} J_{12} - J_{20} J_{00}^{-1} J_{02} + J_{21} \\left(- J_{10} J_{00}^{-1} J_{01} + J_{11}\\right)^{-1} J_{10} J_{00}^{-1} J_{02} - J_{21} \\left(- J_{10} J_{00}^{-1} J_{01} + J_{11}\\right)^{-1} J_{12} + J_{22}\\right)^{-1}\\end{matrix}\\right]$"
      ],
      "text/plain": [
       "Matrix([\n",
       "[J_00**(-1), -(-J_10 + J_11*J_01**(-1)*J_00)**(-1), -((-J_20*J_00**(-1)*J_01*(-J_10*J_00**(-1)*J_01 + J_11)**(-1)*J_10*J_00**(-1)*J_02 + J_20*J_00**(-1)*J_01*(-J_10*J_00**(-1)*J_01 + J_11)**(-1)*J_12 - J_20*J_00**(-1)*J_02 + J_21*(-J_10*J_00**(-1)*J_01 + J_11)**(-1)*J_10*J_00**(-1)*J_02 - J_21*(-J_10*J_00**(-1)*J_01 + J_11)**(-1)*J_12 + J_22)*(J_01*(-J_10*J_00**(-1)*J_01 + J_11)**(-1)*(J_10*J_00**(-1)*J_02 - J_12) + J_02)**(-1)*J_00)**(-1)],\n",
       "[         0,  (-J_10*J_00**(-1)*J_01 + J_11)**(-1),                           ((-J_20*J_00**(-1)*J_01*(-J_10*J_00**(-1)*J_01 + J_11)**(-1)*J_10*J_00**(-1)*J_02 + J_20*J_00**(-1)*J_01*(-J_10*J_00**(-1)*J_01 + J_11)**(-1)*J_12 - J_20*J_00**(-1)*J_02 + J_21*(-J_10*J_00**(-1)*J_01 + J_11)**(-1)*J_10*J_00**(-1)*J_02 - J_21*(-J_10*J_00**(-1)*J_01 + J_11)**(-1)*J_12 + J_22)*(J_10*J_00**(-1)*J_02 - J_12)**(-1)*(-J_10*J_00**(-1)*J_01 + J_11))**(-1)],\n",
       "[         0,                                     0,                                                                                                (-J_20*J_00**(-1)*J_01*(-J_10*J_00**(-1)*J_01 + J_11)**(-1)*J_10*J_00**(-1)*J_02 + J_20*J_00**(-1)*J_01*(-J_10*J_00**(-1)*J_01 + J_11)**(-1)*J_12 - J_20*J_00**(-1)*J_02 + J_21*(-J_10*J_00**(-1)*J_01 + J_11)**(-1)*J_10*J_00**(-1)*J_02 - J_21*(-J_10*J_00**(-1)*J_01 + J_11)**(-1)*J_12 + J_22)**(-1)]])"
      ]
     },
     "execution_count": 35,
     "metadata": {},
     "output_type": "execute_result"
    }
   ],
   "source": [
    "sp.simplify(U0.inv() * U1.inv() * D1.inv(), )"
   ]
  },
  {
   "cell_type": "markdown",
   "metadata": {},
   "source": [
    "* Full: U D L\n",
    "* Upper: U D\n",
    "* Lower: D L"
   ]
  },
  {
   "cell_type": "markdown",
   "metadata": {},
   "source": []
  },
  {
   "cell_type": "markdown",
   "metadata": {},
   "source": []
  },
  {
   "cell_type": "markdown",
   "metadata": {},
   "source": []
  },
  {
   "cell_type": "code",
   "execution_count": 4,
   "metadata": {},
   "outputs": [],
   "source": [
    "import sympy as sp\n",
    "\n",
    "j00, j01, j10, j11 = sp.symbols(\"J_{00} J_{01} J_{10} J_{11}\", commutative=False)\n",
    "j00 = 0\n",
    "J = sp.Matrix(\n",
    "    [\n",
    "        [j00, j01],\n",
    "        [j10, j11],\n",
    "    ]\n",
    ")\n",
    "\n",
    "\n",
    "def factorize_2x2(J):\n",
    "    L = sp.Matrix([[1, 0], [J[1, 0] * J[0, 0] ** -1, 1]])\n",
    "    D = sp.Matrix([[J[0, 0], 0], [0, J[1, 1] - J[1, 0] * J[0, 0] ** -1 * J[0, 1]]])\n",
    "    U = sp.Matrix([[1, J[0, 0] ** -1 * J[0, 1]], [0, 1]])\n",
    "    return L, D, U\n",
    "\n",
    "\n",
    "L, D, U = factorize_2x2(J)"
   ]
  },
  {
   "cell_type": "code",
   "execution_count": 7,
   "metadata": {},
   "outputs": [
    {
     "data": {
      "text/latex": [
       "$\\displaystyle \\left[\\begin{matrix}1 & \\tilde{\\infty}\\\\0 & 1\\end{matrix}\\right]$"
      ],
      "text/plain": [
       "Matrix([\n",
       "[1, zoo],\n",
       "[0,   1]])"
      ]
     },
     "execution_count": 7,
     "metadata": {},
     "output_type": "execute_result"
    }
   ],
   "source": [
    "U"
   ]
  },
  {
   "cell_type": "code",
   "execution_count": null,
   "metadata": {},
   "outputs": [],
   "source": []
  },
  {
   "cell_type": "code",
   "execution_count": 3,
   "metadata": {},
   "outputs": [
    {
     "data": {
      "text/latex": [
       "$\\displaystyle \\left[\\begin{matrix}1 & 0\\\\J_{10} J_{00}^{-1} - J_{10} J_{00}^{-1} J_{01} \\left(J_{10} J_{00}^{-1} J_{01}\\right)^{-1} J_{10} J_{00}^{-1} & J_{10} J_{00}^{-1} J_{01} \\left(J_{10} J_{00}^{-1} J_{01}\\right)^{-1}\\end{matrix}\\right]$"
      ],
      "text/plain": [
       "Matrix([\n",
       "[                                                                                                      1,                                                             0],\n",
       "[J_{10}*J_{00}**(-1) - J_{10}*J_{00}**(-1)*J_{01}*(J_{10}*J_{00}**(-1)*J_{01})**(-1)*J_{10}*J_{00}**(-1), J_{10}*J_{00}**(-1)*J_{01}*(J_{10}*J_{00}**(-1)*J_{01})**(-1)]])"
      ]
     },
     "execution_count": 3,
     "metadata": {},
     "output_type": "execute_result"
    }
   ],
   "source": [
    "J * U.inv() * D.inv() * L.inv()"
   ]
  },
  {
   "cell_type": "code",
   "execution_count": null,
   "metadata": {},
   "outputs": [
    {
     "data": {
      "text/latex": [
       "$\\displaystyle \\left[\\begin{matrix}1 & 0\\\\- J_{11}^{-1} J_{10} & 1\\end{matrix}\\right]$"
      ],
      "text/plain": [
       "Matrix([\n",
       "[                   1, 0],\n",
       "[-J_{11}**(-1)*J_{10}, 1]])"
      ]
     },
     "execution_count": 69,
     "metadata": {},
     "output_type": "execute_result"
    }
   ],
   "source": [
    "Qr = sp.Matrix([[1, 0], [-j11 ** -1 * j10, 1]])\n",
    "Qr"
   ]
  },
  {
   "cell_type": "code",
   "execution_count": null,
   "metadata": {},
   "outputs": [
    {
     "data": {
      "text/latex": [
       "$\\displaystyle \\left[\\begin{matrix}1 & - J_{01} J_{11}^{-1}\\\\0 & 1\\end{matrix}\\right]$"
      ],
      "text/plain": [
       "Matrix([\n",
       "[1, -J_{01}*J_{11}**(-1)],\n",
       "[0,                    1]])"
      ]
     },
     "execution_count": 75,
     "metadata": {},
     "output_type": "execute_result"
    }
   ],
   "source": [
    "Ql = sp.Matrix([[1, -j01 * j11 ** -1], [0, 1]])\n",
    "Ql"
   ]
  },
  {
   "cell_type": "code",
   "execution_count": null,
   "metadata": {},
   "outputs": [
    {
     "data": {
      "text/latex": [
       "$\\displaystyle \\left[\\begin{matrix}J_{00} - J_{01} J_{11}^{-1} J_{10} & 0\\\\J_{10} & J_{11}\\end{matrix}\\right]$"
      ],
      "text/plain": [
       "Matrix([\n",
       "[J_{00} - J_{01}*J_{11}**(-1)*J_{10},      0],\n",
       "[                             J_{10}, J_{11}]])"
      ]
     },
     "execution_count": 76,
     "metadata": {},
     "output_type": "execute_result"
    }
   ],
   "source": [
    "# Jq = J * Qr\n",
    "Jq = Ql * J\n",
    "Jq"
   ]
  },
  {
   "cell_type": "code",
   "execution_count": null,
   "metadata": {},
   "outputs": [
    {
     "data": {
      "text/latex": [
       "$\\displaystyle \\left[\\begin{matrix}1 & 0\\\\0 & 1\\end{matrix}\\right]$"
      ],
      "text/plain": [
       "Matrix([\n",
       "[1, 0],\n",
       "[0, 1]])"
      ]
     },
     "execution_count": 80,
     "metadata": {},
     "output_type": "execute_result"
    }
   ],
   "source": [
    "Lq, Dq, Uq = factorize_2x2(Jq)\n",
    "Jq * Uq.inv() * Dq.inv() * Lq.inv()"
   ]
  },
  {
   "cell_type": "code",
   "execution_count": null,
   "metadata": {},
   "outputs": [
    {
     "data": {
      "text/latex": [
       "$\\displaystyle \\left[\\begin{matrix}1 & 0\\\\0 & 1\\end{matrix}\\right]$"
      ],
      "text/plain": [
       "Matrix([\n",
       "[1, 0],\n",
       "[0, 1]])"
      ]
     },
     "execution_count": 83,
     "metadata": {},
     "output_type": "execute_result"
    }
   ],
   "source": [
    "Uq"
   ]
  },
  {
   "cell_type": "code",
   "execution_count": null,
   "metadata": {},
   "outputs": [
    {
     "data": {
      "text/latex": [
       "$\\displaystyle \\left[\\begin{matrix}1 & 0\\\\J_{10} \\left(J_{00} - J_{01} J_{11}^{-1} J_{10}\\right)^{-1} & 1\\end{matrix}\\right]$"
      ],
      "text/plain": [
       "Matrix([\n",
       "[                                                 1, 0],\n",
       "[J_{10}*(J_{00} - J_{01}*J_{11}**(-1)*J_{10})**(-1), 1]])"
      ]
     },
     "execution_count": 84,
     "metadata": {},
     "output_type": "execute_result"
    }
   ],
   "source": [
    "Jq * Dq.inv()"
   ]
  },
  {
   "cell_type": "code",
   "execution_count": null,
   "metadata": {},
   "outputs": [
    {
     "data": {
      "text/latex": [
       "$\\displaystyle \\left[\\begin{matrix}1 & - J_{01} J_{11}^{-1}\\\\0 & 1\\end{matrix}\\right]$"
      ],
      "text/plain": [
       "Matrix([\n",
       "[1, -J_{01}*J_{11}**(-1)],\n",
       "[0,                    1]])"
      ]
     },
     "execution_count": 85,
     "metadata": {},
     "output_type": "execute_result"
    }
   ],
   "source": [
    "Ql"
   ]
  },
  {
   "cell_type": "markdown",
   "metadata": {},
   "source": [
    "3x3"
   ]
  },
  {
   "cell_type": "code",
   "execution_count": null,
   "metadata": {},
   "outputs": [
    {
     "data": {
      "text/latex": [
       "$\\displaystyle \\left[\\begin{matrix}J_{00} - J_{01} J_{11}^{-1} J_{10} & 0 & - J_{01} J_{11}^{-1} J_{12} + J_{02}\\\\J_{10} & J_{11} & J_{12}\\\\J_{20} & J_{21} & J_{22}\\end{matrix}\\right]$"
      ],
      "text/plain": [
       "Matrix([\n",
       "[J_00 - J_01*J_11**(-1)*J_10,    0, -J_01*J_11**(-1)*J_12 + J_02],\n",
       "[                       J_10, J_11,                         J_12],\n",
       "[                       J_20, J_21,                         J_22]])"
      ]
     },
     "execution_count": 3,
     "metadata": {},
     "output_type": "execute_result"
    }
   ],
   "source": [
    "import sympy as sp\n",
    "import numpy as np\n",
    "\n",
    "J = sp.Matrix(np.array([sp.symbols(' '.join([f'J_{i}{j}'for j in range(3)]), commutative=False) for i in range(3)]))\n",
    "\n",
    "Ql = sp.Matrix([\n",
    "    [1, -J[0,1] * J[1, 1] ** -1, 0],\n",
    "    [0, 1, 0],\n",
    "    [0, 0, 1]\n",
    "])\n",
    "Jq = Ql * J\n",
    "Jq"
   ]
  },
  {
   "cell_type": "code",
   "execution_count": null,
   "metadata": {},
   "outputs": [
    {
     "data": {
      "text/latex": [
       "$\\displaystyle \\left[\\begin{matrix}J_{00} - J_{01} J_{11}^{-1} J_{10} & 0 & 0\\\\0 & J_{11} & - J_{10} \\left(J_{00} - J_{01} J_{11}^{-1} J_{10}\\right)^{-1} \\left(- J_{01} J_{11}^{-1} J_{12} + J_{02}\\right) + J_{12}\\\\0 & J_{21} & - J_{20} \\left(J_{00} - J_{01} J_{11}^{-1} J_{10}\\right)^{-1} \\left(- J_{01} J_{11}^{-1} J_{12} + J_{02}\\right) + J_{22}\\end{matrix}\\right]$"
      ],
      "text/plain": [
       "Matrix([\n",
       "[J_00 - J_01*J_11**(-1)*J_10,    0,                                                                               0],\n",
       "[                          0, J_11, -J_10*(J_00 - J_01*J_11**(-1)*J_10)**(-1)*(-J_01*J_11**(-1)*J_12 + J_02) + J_12],\n",
       "[                          0, J_21, -J_20*(J_00 - J_01*J_11**(-1)*J_10)**(-1)*(-J_01*J_11**(-1)*J_12 + J_02) + J_22]])"
      ]
     },
     "execution_count": 5,
     "metadata": {},
     "output_type": "execute_result"
    }
   ],
   "source": [
    "\n",
    "def make_ldu_3x3(j):\n",
    "\n",
    "    L0 = sp.Matrix(\n",
    "        [\n",
    "            [1, 0, 0],\n",
    "            [j[1,0] * j[0,0] ** -1, 1, 0],\n",
    "            [j[2,0] * j[0,0] ** -1, 0, 1],\n",
    "        ]\n",
    "    )\n",
    "    D0 = sp.Matrix([\n",
    "        [j[0,0], 0, 0],\n",
    "        [0, j[1,1] - j[1,0] * j[0,0] ** -1 * j[0, 1], j[1,2] - j[1,0] * j[0,0] ** -1 * j[0, 2]],\n",
    "        [0, j[2,1] - j[2,0] * j[0,0] ** -1 * j[0, 1], j[2,2] - j[2,0] * j[0,0] ** -1 * j[0, 2]]\n",
    "\n",
    "    ])\n",
    "    U0 = sp.Matrix([\n",
    "        [1, j[0,0] ** -1 * j[0, 1], j[0,0] ** -1 * j[0, 2]],\n",
    "        [0, 1, 0],\n",
    "        [0, 0, 1],\n",
    "    ])\n",
    "    L1 = sp.Matrix(\n",
    "    [\n",
    "        [1, 0, 0],\n",
    "        [0, 1, 0],\n",
    "        [0, D0[2, 1] * D0[1, 1] ** -1, 1],\n",
    "    ]\n",
    "    )\n",
    "    D1 = sp.Matrix(\n",
    "        [\n",
    "            [j[0,0], 0, 0],\n",
    "            [0, D0[1, 1], 0],\n",
    "            [0, 0, D0[2, 2] - D0[2, 1] * D0[1, 1] ** -1 * D0[1, 2]],\n",
    "        ]\n",
    "    )\n",
    "    U1 = sp.Matrix(\n",
    "        [\n",
    "            [1, 0, 0],\n",
    "            [0, 1, D0[1, 1] ** -1 * D0[1, 2]],\n",
    "            [0, 0, 1]\n",
    "        ]\n",
    "    )\n",
    "    return L0, L1, D1, U1, U0\n",
    "L0, L1, D1, U1, U0 = make_ldu_3x3(Jq)\n",
    "\n",
    "L1 * D1 * U1"
   ]
  },
  {
   "cell_type": "code",
   "execution_count": null,
   "metadata": {},
   "outputs": [
    {
     "data": {
      "text/latex": [
       "$\\displaystyle \\left[\\begin{matrix}1 & 0 & \\left(J_{00} - J_{01} J_{11}^{-1} J_{10}\\right)^{-1} \\left(- J_{01} J_{11}^{-1} J_{12} + J_{02}\\right)\\\\0 & 1 & J_{11}^{-1} \\left(- J_{10} \\left(J_{00} - J_{01} J_{11}^{-1} J_{10}\\right)^{-1} \\left(- J_{01} J_{11}^{-1} J_{12} + J_{02}\\right) + J_{12}\\right)\\\\0 & 0 & 1\\end{matrix}\\right]$"
      ],
      "text/plain": [
       "Matrix([\n",
       "[1, 0,                           (J_00 - J_01*J_11**(-1)*J_10)**(-1)*(-J_01*J_11**(-1)*J_12 + J_02)],\n",
       "[0, 1, J_11**(-1)*(-J_10*(J_00 - J_01*J_11**(-1)*J_10)**(-1)*(-J_01*J_11**(-1)*J_12 + J_02) + J_12)],\n",
       "[0, 0,                                                                                            1]])"
      ]
     },
     "execution_count": 9,
     "metadata": {},
     "output_type": "execute_result"
    }
   ],
   "source": [
    "U = U0 * U1\n",
    "U"
   ]
  },
  {
   "cell_type": "code",
   "execution_count": null,
   "metadata": {},
   "outputs": [
    {
     "data": {
      "text/latex": [
       "$\\displaystyle \\left[\\begin{matrix}1 & 0 & 0\\\\J_{10} \\left(J_{00} - J_{01} J_{11}^{-1} J_{10}\\right)^{-1} & 1 & 0\\\\J_{20} \\left(J_{00} - J_{01} J_{11}^{-1} J_{10}\\right)^{-1} & J_{21} J_{11}^{-1} & 1\\end{matrix}\\right]$"
      ],
      "text/plain": [
       "Matrix([\n",
       "[                                       1,               0, 0],\n",
       "[J_10*(J_00 - J_01*J_11**(-1)*J_10)**(-1),               1, 0],\n",
       "[J_20*(J_00 - J_01*J_11**(-1)*J_10)**(-1), J_21*J_11**(-1), 1]])"
      ]
     },
     "execution_count": 11,
     "metadata": {},
     "output_type": "execute_result"
    }
   ],
   "source": [
    "D = D1\n",
    "L = L0 * L1\n",
    "L"
   ]
  },
  {
   "cell_type": "code",
   "execution_count": null,
   "metadata": {},
   "outputs": [
    {
     "data": {
      "text/latex": [
       "$\\displaystyle \\left[\\begin{matrix}1 & 0 & 0\\\\J_{10} \\left(J_{00} - J_{01} J_{11}^{-1} J_{10}\\right)^{-1} & 1 & 0\\\\J_{20} \\left(J_{00} - J_{01} J_{11}^{-1} J_{10}\\right)^{-1} & J_{21} J_{11}^{-1} & 1\\end{matrix}\\right]$"
      ],
      "text/plain": [
       "Matrix([\n",
       "[                                       1,               0, 0],\n",
       "[J_10*(J_00 - J_01*J_11**(-1)*J_10)**(-1),               1, 0],\n",
       "[J_20*(J_00 - J_01*J_11**(-1)*J_10)**(-1), J_21*J_11**(-1), 1]])"
      ]
     },
     "execution_count": 21,
     "metadata": {},
     "output_type": "execute_result"
    }
   ],
   "source": [
    "sp.simplify(Jq * U0.inv() * U1.inv() * D.inv())"
   ]
  },
  {
   "cell_type": "code",
   "execution_count": null,
   "metadata": {},
   "outputs": [
    {
     "data": {
      "text/latex": [
       "$\\displaystyle \\left[\\begin{matrix}1 & 0 & \\left(J_{00} - J_{01} J_{11}^{-1} J_{10}\\right)^{-1} \\left(- J_{01} J_{11}^{-1} J_{12} + J_{02}\\right)\\\\0 & 1 & 0\\\\0 & 0 & 1\\end{matrix}\\right]$"
      ],
      "text/plain": [
       "Matrix([\n",
       "[1, 0, (J_00 - J_01*J_11**(-1)*J_10)**(-1)*(-J_01*J_11**(-1)*J_12 + J_02)],\n",
       "[0, 1,                                                                  0],\n",
       "[0, 0,                                                                  1]])"
      ]
     },
     "execution_count": 18,
     "metadata": {},
     "output_type": "execute_result"
    }
   ],
   "source": [
    "U0"
   ]
  },
  {
   "cell_type": "code",
   "execution_count": 40,
   "metadata": {},
   "outputs": [
    {
     "data": {
      "text/latex": [
       "$\\displaystyle \\lambda_{t} + c u_{t}$"
      ],
      "text/plain": [
       "\\lambda_t + c*u_t"
      ]
     },
     "execution_count": 40,
     "metadata": {},
     "output_type": "execute_result"
    }
   ],
   "source": [
    "import sympy as sp\n",
    "\n",
    "lambda_t, lambda_n, c, u_t, F = sp.symbols(r\"\\lambda_t {|\\lambda_n|} c u_t F\")\n",
    "# z = sp.Symbol(\"z\")\n",
    "z = sp.Function('z')(lambda_t, u_t)\n",
    "z_expr = lambda_t + c * u_t\n",
    "z_expr"
   ]
  },
  {
   "cell_type": "code",
   "execution_count": 41,
   "metadata": {},
   "outputs": [
    {
     "data": {
      "text/latex": [
       "$\\displaystyle F {|\\lambda_n|} z{\\left(\\lambda_{t},u_{t} \\right)} + \\lambda_{t} \\operatorname{norm}{\\left(z{\\left(\\lambda_{t},u_{t} \\right)} \\right)}$"
      ],
      "text/plain": [
       "F*{|\\lambda_n|}*z(\\lambda_t, u_t) + \\lambda_t*norm(z(\\lambda_t, u_t))"
      ]
     },
     "execution_count": 41,
     "metadata": {},
     "output_type": "execute_result"
    }
   ],
   "source": [
    "norm = sp.Function('norm')\n",
    "# norm = lambda x: sp.sqrt(x ** 2)\n",
    "# norm = lambda x: sp.Symbol(r\"{||\" + str(x) + \"||}\")\n",
    "\n",
    "expr = lambda_t * norm(z) + F * lambda_n * z\n",
    "expr"
   ]
  },
  {
   "cell_type": "code",
   "execution_count": 42,
   "metadata": {},
   "outputs": [
    {
     "data": {
      "text/latex": [
       "$\\displaystyle F {|\\lambda_n|} z{\\left(\\lambda_{t},u_{t} \\right)} + \\lambda_{t} \\operatorname{norm}{\\left(z{\\left(\\lambda_{t},u_{t} \\right)} \\right)}$"
      ],
      "text/plain": [
       "F*{|\\lambda_n|}*z(\\lambda_t, u_t) + \\lambda_t*norm(z(\\lambda_t, u_t))"
      ]
     },
     "execution_count": 42,
     "metadata": {},
     "output_type": "execute_result"
    }
   ],
   "source": [
    "# expr = expr.subs(norm(z), sp.sqrt(z_expr ** 2)).subs(z, z_expr)\n",
    "expr"
   ]
  },
  {
   "cell_type": "code",
   "execution_count": 43,
   "metadata": {},
   "outputs": [
    {
     "data": {
      "text/latex": [
       "$\\displaystyle F {|\\lambda_n|} \\frac{\\partial}{\\partial \\lambda_{t}} z{\\left(\\lambda_{t},u_{t} \\right)} + \\lambda_{t} \\frac{\\partial}{\\partial z{\\left(\\lambda_{t},u_{t} \\right)}} \\operatorname{norm}{\\left(z{\\left(\\lambda_{t},u_{t} \\right)} \\right)} \\frac{\\partial}{\\partial \\lambda_{t}} z{\\left(\\lambda_{t},u_{t} \\right)} + \\operatorname{norm}{\\left(z{\\left(\\lambda_{t},u_{t} \\right)} \\right)}$"
      ],
      "text/plain": [
       "F*{|\\lambda_n|}*Derivative(z(\\lambda_t, u_t), \\lambda_t) + \\lambda_t*Derivative(norm(z(\\lambda_t, u_t)), z(\\lambda_t, u_t))*Derivative(z(\\lambda_t, u_t), \\lambda_t) + norm(z(\\lambda_t, u_t))"
      ]
     },
     "execution_count": 43,
     "metadata": {},
     "output_type": "execute_result"
    }
   ],
   "source": [
    "expr.diff(lambda_t)"
   ]
  },
  {
   "cell_type": "code",
   "execution_count": 44,
   "metadata": {},
   "outputs": [
    {
     "data": {
      "text/latex": [
       "$\\displaystyle F {|\\lambda_n|} + \\lambda_{t} \\left. \\frac{d}{d \\xi} \\operatorname{norm}{\\left(\\xi \\right)} \\right|_{\\substack{ \\xi=\\lambda_{t} + c u_{t} }} + \\operatorname{norm}{\\left(\\lambda_{t} + c u_{t} \\right)}$"
      ],
      "text/plain": [
       "F*{|\\lambda_n|} + \\lambda_t*Subs(Derivative(norm(_xi), _xi), _xi, \\lambda_t + c*u_t) + norm(\\lambda_t + c*u_t)"
      ]
     },
     "execution_count": 44,
     "metadata": {},
     "output_type": "execute_result"
    }
   ],
   "source": [
    "expr.diff(lambda_t).subs(z, z_expr).doit()"
   ]
  },
  {
   "cell_type": "code",
   "execution_count": 39,
   "metadata": {},
   "outputs": [
    {
     "data": {
      "text/latex": [
       "$\\displaystyle F c {|\\lambda_n|} + \\lambda_{t} c \\left. \\frac{d}{d \\xi} \\operatorname{norm}{\\left(\\xi \\right)} \\right|_{\\substack{ \\xi=- \\lambda_{t} + c u_{t} }}$"
      ],
      "text/plain": [
       "F*c*{|\\lambda_n|} + \\lambda_t*c*Subs(Derivative(norm(_xi), _xi), _xi, -\\lambda_t + c*u_t)"
      ]
     },
     "execution_count": 39,
     "metadata": {},
     "output_type": "execute_result"
    }
   ],
   "source": [
    "expr.diff(u_t).subs(z, z_expr).doit()"
   ]
  },
  {
   "cell_type": "code",
   "execution_count": null,
   "metadata": {},
   "outputs": [],
   "source": [
    "expr.diff(u_t)"
   ]
  },
  {
   "cell_type": "code",
   "execution_count": 20,
   "metadata": {},
   "outputs": [
    {
     "data": {
      "text/latex": [
       "$\\displaystyle - F \\left(- \\lambda_{t} + c u_{t}\\right)$"
      ],
      "text/plain": [
       "-F*(-\\lambda_t + c*u_t)"
      ]
     },
     "execution_count": 20,
     "metadata": {},
     "output_type": "execute_result"
    }
   ],
   "source": [
    "expr.diff(lambda_n)"
   ]
  },
  {
   "cell_type": "code",
   "execution_count": 66,
   "metadata": {},
   "outputs": [
    {
     "data": {
      "text/plain": [
       "Text(0.5, 0, '$\\\\lambda$')"
      ]
     },
     "execution_count": 66,
     "metadata": {},
     "output_type": "execute_result"
    },
    {
     "data": {
      "image/png": "[encoded data removed]",
      "text/plain": [
       "<Figure size 640x480 with 1 Axes>"
      ]
     },
     "metadata": {},
     "output_type": "display_data"
    }
   ],
   "source": [
    "import numpy as np\n",
    "from matplotlib import pyplot as plt\n",
    "\n",
    "# g0 = 10\n",
    "for b in [1e-1, 1e0, 1e1]:\n",
    "    a = 0.7\n",
    "    # x = np.linspace(- a * b * 100, a * b / 10, 1000)\n",
    "    lambda_n = np.linspace(-100, 0, 1000)\n",
    "    g = a * lambda_n / (a * b - lambda_n)\n",
    "    # g = a ** 2 * b / (a * b - x) ** 2\n",
    "    # g = abs(g)\n",
    "    # x = abs(x)\n",
    "    plt.plot(lambda_n, g, label=f'{b = }')\n",
    "plt.legend()\n",
    "plt.grid()\n",
    "plt.ylabel('g')\n",
    "plt.xlabel(r'$\\lambda$')\n",
    "# plt.yscale('log')"
   ]
  },
  {
   "cell_type": "code",
   "execution_count": 75,
   "metadata": {},
   "outputs": [
    {
     "data": {
      "image/png": "[encoded data removed]",
      "text/plain": [
       "<Figure size 640x480 with 1 Axes>"
      ]
     },
     "metadata": {},
     "output_type": "display_data"
    }
   ],
   "source": [
    "import numpy as np\n",
    "from matplotlib import pyplot as plt\n",
    "\n",
    "# g0 = 10\n",
    "for lambda_n in [-10, -100, -1000]:\n",
    "    a = 0.7\n",
    "    b = np.logspace(-2, 8, 1000)\n",
    "    g = a ** 2 * b / (a * b - lambda_n) ** 2\n",
    "    plt.plot(b, g, label=fr'$\\lambda$ = {lambda_n}')\n",
    "plt.legend()\n",
    "plt.grid()\n",
    "plt.ylabel(r'$\\zeta$')\n",
    "plt.xlabel('$K_n$')\n",
    "plt.xscale('log')\n",
    "plt.yscale('log')"
   ]
  },
  {
   "cell_type": "code",
   "execution_count": 76,
   "metadata": {},
   "outputs": [
    {
     "data": {
      "text/latex": [
       "$\\displaystyle \\frac{a x}{a b - x} + g_{0}$"
      ],
      "text/plain": [
       "a*x/(a*b - x) + g_0"
      ]
     },
     "execution_count": 76,
     "metadata": {},
     "output_type": "execute_result"
    }
   ],
   "source": [
    "import sympy as sp\n",
    "\n",
    "a, b, lambda_n, g0 = sp.symbols('a b x g_0')\n",
    "u  = g0 + a * lambda_n / (a * b - lambda_n)\n",
    "u"
   ]
  },
  {
   "cell_type": "code",
   "execution_count": 79,
   "metadata": {},
   "outputs": [
    {
     "data": {
      "text/latex": [
       "$\\displaystyle \\frac{a^{2} b}{\\left(a b - x\\right)^{2}}$"
      ],
      "text/plain": [
       "a**2*b/(a*b - x)**2"
      ]
     },
     "execution_count": 79,
     "metadata": {},
     "output_type": "execute_result"
    }
   ],
   "source": [
    "zeta = sp.simplify(u.diff(lambda_n))\n",
    "zeta"
   ]
  },
  {
   "cell_type": "code",
   "execution_count": 82,
   "metadata": {},
   "outputs": [
    {
     "data": {
      "text/latex": [
       "$\\displaystyle \\frac{a^{2} \\left(- a b - x\\right)}{\\left(a b - x\\right)^{3}}$"
      ],
      "text/plain": [
       "a**2*(-a*b - x)/(a*b - x)**3"
      ]
     },
     "execution_count": 82,
     "metadata": {},
     "output_type": "execute_result"
    }
   ],
   "source": [
    "tmp = sp.simplify(zeta.diff(b))\n",
    "tmp"
   ]
  },
  {
   "cell_type": "code",
   "execution_count": 84,
   "metadata": {},
   "outputs": [
    {
     "data": {
      "text/latex": [
       "$\\displaystyle - \\frac{x}{a}$"
      ],
      "text/plain": [
       "-x/a"
      ]
     },
     "execution_count": 84,
     "metadata": {},
     "output_type": "execute_result"
    }
   ],
   "source": [
    "sp.solve(tmp, b)[0]"
   ]
  },
  {
   "cell_type": "code",
   "execution_count": 86,
   "metadata": {},
   "outputs": [
    {
     "data": {
      "text/plain": [
       "[0, -x/b]"
      ]
     },
     "execution_count": 86,
     "metadata": {},
     "output_type": "execute_result"
    }
   ],
   "source": [
    "sp.solve(tmp, a)"
   ]
  },
  {
   "cell_type": "markdown",
   "metadata": {},
   "source": [
    "# Understanding Newton"
   ]
  },
  {
   "cell_type": "code",
   "execution_count": 39,
   "metadata": {},
   "outputs": [
    {
     "data": {
      "image/png": "[encoded data removed]",
      "text/plain": [
       "<Figure size 640x480 with 1 Axes>"
      ]
     },
     "metadata": {},
     "output_type": "display_data"
    }
   ],
   "source": [
    "import numpy as np\n",
    "import sympy as sp\n",
    "from matplotlib import pyplot as plt\n",
    "\n",
    "xsym = sp.Symbol('x')\n",
    "ysym = xsym * sp.cos(xsym) + 10\n",
    "lambda_norm_space = np.linspace(0, 15, 1000)\n",
    "lambda_t = sp.lambdify(xsym, ysym)\n",
    "dy = sp.lambdify(xsym, ysym.diff(xsym))\n",
    "u_t_space = lambda_t(lambda_norm_space)\n",
    "answer = np.argsort(abs(u_t_space))[:2]\n",
    "\n",
    "plt.plot(lambda_norm_space, u_t_space)\n",
    "plt.scatter(lambda_norm_space[answer], u_t_space[answer], color='C1')\n",
    "plt.plot([lambda_norm_space[0], lambda_norm_space[-1]], [0, 0], color='C1')\n",
    "plt.grid()"
   ]
  },
  {
   "cell_type": "code",
   "execution_count": 42,
   "metadata": {},
   "outputs": [],
   "source": [
    "lambda_n = 3\n",
    "eps = 1e-10\n",
    "xlist = [lambda_n]\n",
    "for i in range(1000):\n",
    "    delta_x = lambda_t(lambda_n) / dy(lambda_n)\n",
    "    lambda_n -= delta_x\n",
    "    xlist.append(lambda_n)\n",
    "    if abs(lambda_t(lambda_n)) < eps:\n",
    "        break"
   ]
  },
  {
   "cell_type": "code",
   "execution_count": 43,
   "metadata": {},
   "outputs": [
    {
     "data": {
      "image/png": "[encoded data removed]",
      "text/plain": [
       "<Figure size 640x480 with 1 Axes>"
      ]
     },
     "metadata": {},
     "output_type": "display_data"
    }
   ],
   "source": [
    "plt.scatter(lambda_norm_space[answer], u_t_space[answer])\n",
    "plt.plot([lambda_norm_space[0], lambda_norm_space[-1]], [0, 0])\n",
    "plt.scatter(xlist, lambda_t(xlist))\n",
    "for xstart, xend in zip(xlist[:-1], xlist[1:]):\n",
    "    plt.plot([xstart, xend], [lambda_t(xstart), 0], color='green')\n",
    "    plt.plot([xend, xend], [0, lambda_t(xend)], color='green')\n",
    "\n",
    "plt.plot(lambda_norm_space, u_t_space, color='black')\n",
    "plt.grid()"
   ]
  },
  {
   "cell_type": "markdown",
   "metadata": {},
   "source": []
  },
  {
   "cell_type": "markdown",
   "metadata": {},
   "source": [
    "# Understanding contact relations with Newton"
   ]
  },
  {
   "cell_type": "code",
   "execution_count": 89,
   "metadata": {},
   "outputs": [
    {
     "data": {
      "text/latex": [
       "$\\displaystyle \\frac{\\lambda_{n} a}{- \\lambda_{n} + a b} + g_{0} + tan(\\theta) \\sqrt{\\left(u_{t} - \\frac{\\lambda_{t}}{K_{t}}\\right)^{2} + \\left(- \\frac{\\lambda_{n} a}{- \\lambda_{n} + a b} + u_{n}\\right)^{2}}$"
      ],
      "text/plain": [
       "\\lambda_n*a/(-\\lambda_n + a*b) + g_0 + tan(\\theta)*sqrt((u_t - \\lambda_t/K_t)**2 + (-\\lambda_n*a/(-\\lambda_n + a*b) + u_n)**2)"
      ]
     },
     "execution_count": 89,
     "metadata": {},
     "output_type": "execute_result"
    }
   ],
   "source": [
    "import sympy as sp\n",
    "\n",
    "u_t, u_n, lambda_t, lambda_n, c, zeta, F = sp.symbols(r'u_t u_n \\lambda_t \\lambda_n c \\zeta F', real=True)\n",
    "\n",
    "a, b, K_t, g_0, theta = sp.symbols(r'a b K_t g_0, tan(\\theta)', real=True)\n",
    "\n",
    "\n",
    "g = g_0 + a * lambda_n / (a * b - lambda_n) + theta * sp.sqrt((u_t - lambda_t / K_t) ** 2 + (u_n - a * lambda_n / (a * b - lambda_n)) ** 2)\n",
    "g"
   ]
  },
  {
   "cell_type": "code",
   "execution_count": 92,
   "metadata": {},
   "outputs": [
    {
     "data": {
      "text/latex": [
       "$\\displaystyle \\frac{\\lambda_{n} a}{\\left(\\lambda_{n} - a b\\right)^{2}} - \\frac{a}{\\lambda_{n} - a b} - \\frac{tan(\\theta) \\left(\\frac{2 \\lambda_{n} a}{\\left(\\lambda_{n} - a b\\right)^{2}} - \\frac{2 a}{\\lambda_{n} - a b}\\right) \\left(\\frac{\\lambda_{n} a}{\\lambda_{n} - a b} + u_{n}\\right)}{2 \\sqrt{\\left(u_{t} - \\frac{\\lambda_{t}}{K_{t}}\\right)^{2} + \\left(\\frac{\\lambda_{n} a}{\\lambda_{n} - a b} + u_{n}\\right)^{2}}}$"
      ],
      "text/plain": [
       "\\lambda_n*a/(\\lambda_n - a*b)**2 - a/(\\lambda_n - a*b) - tan(\\theta)*(2*\\lambda_n*a/(\\lambda_n - a*b)**2 - 2*a/(\\lambda_n - a*b))*(\\lambda_n*a/(\\lambda_n - a*b) + u_n)/(2*sqrt((u_t - \\lambda_t/K_t)**2 + (\\lambda_n*a/(\\lambda_n - a*b) + u_n)**2))"
      ]
     },
     "execution_count": 92,
     "metadata": {},
     "output_type": "execute_result"
    }
   ],
   "source": [
    "sp.simplify(g.diff(lambda_n))"
   ]
  },
  {
   "cell_type": "code",
   "execution_count": 85,
   "metadata": {},
   "outputs": [
    {
     "data": {
      "text/latex": [
       "$\\displaystyle \\lambda_{n} + \\max\\left(0, - \\lambda_{n} - c \\left(- \\lambda_{n} \\zeta + u_{n}\\right)\\right)$"
      ],
      "text/plain": [
       "\\lambda_n + Max(0, -\\lambda_n - c*(-\\lambda_n*\\zeta + u_n))"
      ]
     },
     "execution_count": 85,
     "metadata": {},
     "output_type": "execute_result"
    }
   ],
   "source": [
    "normal = lambda_n + sp.Max(0, -lambda_n - c * (u_n - zeta * lambda_n))\n",
    "normal"
   ]
  },
  {
   "cell_type": "code",
   "execution_count": 71,
   "metadata": {},
   "outputs": [
    {
     "data": {
      "text/latex": [
       "$\\displaystyle - \\lambda_{t} \\max\\left(- F \\lambda_{n}, \\left|{\\lambda_{t} + c u_{t}}\\right|\\right) + \\left(\\lambda_{t} + c u_{t}\\right) \\max\\left(0, - F \\lambda_{n}\\right)$"
      ],
      "text/plain": [
       "-\\lambda_t*Max(-F*\\lambda_n, Abs(\\lambda_t + c*u_t)) + (\\lambda_t + c*u_t)*Max(0, -F*\\lambda_n)"
      ]
     },
     "execution_count": 71,
     "metadata": {},
     "output_type": "execute_result"
    }
   ],
   "source": [
    "z = lambda_t + c * u_t\n",
    "b = - F * lambda_n\n",
    "tangential = -lambda_t * sp.Max(b, sp.Abs(z)) + sp.Max(b, 0) * z\n",
    "tangential"
   ]
  },
  {
   "cell_type": "code",
   "execution_count": 75,
   "metadata": {},
   "outputs": [
    {
     "data": {
      "text/latex": [
       "$\\displaystyle \\left[\\begin{matrix}\\lambda_{n} + \\max\\left(0, \\lambda_{n}\\right)\\\\\\lambda_{t} \\max\\left(0, - \\lambda_{n}\\right) - \\lambda_{t} \\max\\left(- \\lambda_{n}, \\left|{\\lambda_{t}}\\right|\\right)\\end{matrix}\\right]$"
      ],
      "text/plain": [
       "Matrix([\n",
       "[                                           \\lambda_n + Max(0, \\lambda_n)],\n",
       "[\\lambda_t*Max(0, -\\lambda_n) - \\lambda_t*Max(-\\lambda_n, Abs(\\lambda_t))]])"
      ]
     },
     "execution_count": 75,
     "metadata": {},
     "output_type": "execute_result"
    }
   ],
   "source": [
    "var = sp.Matrix([lambda_n, lambda_t])\n",
    "eq = sp.Matrix([[normal], [tangential]]).subs({F: 1, c: 1, zeta: 2, u_n: 0, u_t: 0})\n",
    "eq"
   ]
  },
  {
   "cell_type": "code",
   "execution_count": 76,
   "metadata": {},
   "outputs": [
    {
     "data": {
      "text/latex": [
       "$\\displaystyle \\left[\\begin{matrix}\\theta\\left(\\lambda_{n}\\right) + 1 & 0\\\\- \\lambda_{t} \\theta\\left(- \\lambda_{n}\\right) + \\lambda_{t} \\theta\\left(- \\lambda_{n} - \\left|{\\lambda_{t}}\\right|\\right) & - \\lambda_{t} \\theta\\left(\\lambda_{n} + \\left|{\\lambda_{t}}\\right|\\right) \\operatorname{sign}{\\left(\\lambda_{t} \\right)} + \\max\\left(0, - \\lambda_{n}\\right) - \\max\\left(- \\lambda_{n}, \\left|{\\lambda_{t}}\\right|\\right)\\end{matrix}\\right]$"
      ],
      "text/plain": [
       "[[Heaviside(\\lambda_n) + 1, 0], [-\\lambda_t*Heaviside(-\\lambda_n) + \\lambda_t*Heaviside(-\\lambda_n - Abs(\\lambda_t)), -\\lambda_t*Heaviside(\\lambda_n + Abs(\\lambda_t))*sign(\\lambda_t) + Max(0, -\\lambda_n) - Max(-\\lambda_n, Abs(\\lambda_t))]]"
      ]
     },
     "execution_count": 76,
     "metadata": {},
     "output_type": "execute_result"
    }
   ],
   "source": [
    "jac = eq.diff(var).reshape(2, 2).transpose().as_immutable()\n",
    "jac"
   ]
  },
  {
   "cell_type": "code",
   "execution_count": 77,
   "metadata": {},
   "outputs": [
    {
     "data": {
      "text/latex": [
       "$\\displaystyle \\left[\\begin{matrix}\\theta\\left(\\lambda_{n}\\right) + 1 & 0\\\\- \\lambda_{t} \\theta\\left(- \\lambda_{n}\\right) + \\lambda_{t} \\theta\\left(- \\lambda_{n} - \\left|{\\lambda_{t}}\\right|\\right) & - \\lambda_{t} \\theta\\left(\\lambda_{n} + \\left|{\\lambda_{t}}\\right|\\right) \\operatorname{sign}{\\left(\\lambda_{t} \\right)} + \\max\\left(0, - \\lambda_{n}\\right) - \\max\\left(- \\lambda_{n}, \\left|{\\lambda_{t}}\\right|\\right)\\end{matrix}\\right]$"
      ],
      "text/plain": [
       "[[Heaviside(\\lambda_n) + 1, 0], [-\\lambda_t*Heaviside(-\\lambda_n) + \\lambda_t*Heaviside(-\\lambda_n - Abs(\\lambda_t)), -\\lambda_t*Heaviside(\\lambda_n + Abs(\\lambda_t))*sign(\\lambda_t) + Max(0, -\\lambda_n) - Max(-\\lambda_n, Abs(\\lambda_t))]]"
      ]
     },
     "execution_count": 77,
     "metadata": {},
     "output_type": "execute_result"
    }
   ],
   "source": [
    "jac"
   ]
  },
  {
   "cell_type": "code",
   "execution_count": 84,
   "metadata": {},
   "outputs": [
    {
     "data": {
      "text/plain": [
       "array([[   1.,    0.],\n",
       "       [ 100., -199.]])"
      ]
     },
     "execution_count": 84,
     "metadata": {},
     "output_type": "execute_result"
    }
   ],
   "source": [
    "import numpy as np\n",
    "\n",
    "initial_guess = [-1, -100]\n",
    "\n",
    "def newton_iter(x):\n",
    "    rhs = np.array(eq.subs({lambda_n: x[0], lambda_t: x[1]}, dtype=float))\n",
    "    mat = np.array(jac.subs({lambda_n: x[0], lambda_t: x[1]}), dtype=float)\n",
    "\n",
    "\n",
    "lambda_n = initial_guess\n"
   ]
  },
  {
   "cell_type": "code",
   "execution_count": 96,
   "metadata": {},
   "outputs": [
    {
     "data": {
      "text/plain": [
       "array([9.53674316e-05, 9.53674316e-05])"
      ]
     },
     "execution_count": 96,
     "metadata": {},
     "output_type": "execute_result"
    }
   ],
   "source": [
    "import numpy as np\n",
    "\n",
    "def func(x, y):\n",
    "    return np.array([x * y, x - y])\n",
    "\n",
    "\n",
    "\n",
    "def jac(x, y):\n",
    "    return np.array([[y, x], [-1, 1]])\n",
    "\n",
    "\n",
    "sol = np.array([100, 100], dtype=float)\n",
    "\n",
    "for i in range(50):\n",
    "    J = jac(*sol)\n",
    "    rhs = func(*sol)\n",
    "    if (np.linalg.norm(rhs) < 1e-8):\n",
    "        break\n",
    "    sol += np.linalg.solve(J, -rhs)\n",
    "\n",
    "sol"
   ]
  },
  {
   "cell_type": "code",
   "execution_count": 400,
   "metadata": {},
   "outputs": [],
   "source": [
    "import sympy as sp\n",
    "import numpy as np\n",
    "from matplotlib import pyplot as plt\n",
    "\n",
    "lambda_n, lambda_t, u_n, u_t = sp.symbols(\"x y u_n u_t\", real=True)\n",
    "\n",
    "c = 6\n",
    "\n",
    "# barton_bandis = 6 * lambda_n / (6 * 3 - lambda_n)\n",
    "barton_bandis = 0\n",
    "\n",
    "eq = sp.Matrix(\n",
    "    [\n",
    "        lambda_n + sp.Max(0, -lambda_n - c * (u_n - 10 - barton_bandis)),\n",
    "        -lambda_t * sp.Max(-lambda_n, sp.Abs(lambda_t + c * u_t)) + sp.Max(-lambda_n, 0) * (lambda_t + c * u_t),\n",
    "        lambda_n + 10,\n",
    "        lambda_t + 4,\n",
    "    ]\n",
    ")\n",
    "eq\n",
    "\n",
    "eq_func = sp.lambdify((lambda_n, lambda_t, u_n, u_t), eq)"
   ]
  },
  {
   "cell_type": "code",
   "execution_count": 401,
   "metadata": {},
   "outputs": [],
   "source": [
    "jac = sp.Matrix([eq.diff(lambda_n).transpose(), eq.diff(lambda_t).transpose(), eq.diff(u_n).transpose(), eq.diff(u_t).transpose()]).transpose()\n",
    "jac\n",
    "\n",
    "jac_func = sp.lambdify((lambda_n, lambda_t, u_n, u_t), jac)"
   ]
  },
  {
   "cell_type": "code",
   "execution_count": 421,
   "metadata": {},
   "outputs": [
    {
     "name": "stdout",
     "output_type": "stream",
     "text": [
      "3\n"
     ]
    },
    {
     "data": {
      "text/plain": [
       "array([-10.,  -4.,  10.,   0.])"
      ]
     },
     "execution_count": 421,
     "metadata": {},
     "output_type": "execute_result"
    }
   ],
   "source": [
    "def func(vals):\n",
    "    return eq_func(*vals).ravel()\n",
    "\n",
    "\n",
    "def dfunc(vals):\n",
    "    return jac_func(*vals)\n",
    "\n",
    "\n",
    "sol = np.array([-5, -8, 4, -12], dtype=float)\n",
    "\n",
    "sol_list = [sol.copy()]\n",
    "\n",
    "for i in range(50):\n",
    "    J = dfunc(sol)\n",
    "    rhs = func(sol)\n",
    "    if (np.linalg.norm(rhs) < 1e-8):\n",
    "        break\n",
    "    sol += np.linalg.solve(J, -rhs)\n",
    "    sol_list.append(sol.copy())\n",
    "\n",
    "print(i)\n",
    "sol"
   ]
  },
  {
   "cell_type": "code",
   "execution_count": 428,
   "metadata": {},
   "outputs": [],
   "source": [
    "lambda_norm_space =np.linspace(-20, 10, 100)\n",
    "u_t_space = np.linspace(-50, 10, 100)\n",
    "LAMBDA_NORM, U_T = np.meshgrid(lambda_norm_space, u_t_space, indexing='ij')\n",
    "vals = np.array([func([x_, 0, 10, u_t_]) for [x_, u_t_] in zip(LAMBDA_NORM.ravel(), U_T.ravel())]).reshape(100, 100, 4)"
   ]
  },
  {
   "cell_type": "code",
   "execution_count": 429,
   "metadata": {},
   "outputs": [],
   "source": [
    "sticking = sp.Abs(lambda_t + c * u_t) - -lambda_n\n",
    "sticking = sp.lambdify((lambda_n, lambda_t, u_n, u_t), sticking)\n",
    "sticking = np.array([sticking(x_, 0, 10, y_) for [x_, y_] in zip(LAMBDA_NORM.ravel(), U_T.ravel())]).reshape(100, 100)\n",
    "sticking = sticking <= 0"
   ]
  },
  {
   "cell_type": "code",
   "execution_count": 432,
   "metadata": {},
   "outputs": [
    {
     "data": {
      "image/png": "[encoded data removed]",
      "text/plain": [
       "<Figure size 1800x400 with 4 Axes>"
      ]
     },
     "metadata": {},
     "output_type": "display_data"
    }
   ],
   "source": [
    "plt.figure(figsize=(18, 4))\n",
    "\n",
    "for i in range(4):\n",
    "    plt.subplot(1, 4, i+1)\n",
    "\n",
    "    # loss = np.log(abs(vals[:, :, i] + 1e-10))\n",
    "    loss = vals[:, :, i] ** 2\n",
    "    plt.pcolormesh(LAMBDA_NORM, U_T, loss)\n",
    "    # plt.pcolormesh(LAMBDA_NORM, U_T, sticking)\n",
    "    plt.contour(LAMBDA_NORM, U_T, loss, levels=10, colors='black', norm='log')\n",
    "\n",
    "\n",
    "    sol_list = np.array(sol_list)\n",
    "\n",
    "    for [x0, _, _, y0], [x1, _, _, y1] in zip(sol_list[:-1], sol_list[1:]):\n",
    "        plt.plot([x0, x1], [y0, y1], color='red', marker='.')"
   ]
  },
  {
   "cell_type": "code",
   "execution_count": null,
   "metadata": {},
   "outputs": [],
   "source": []
  },
  {
   "cell_type": "markdown",
   "metadata": {},
   "source": [
    "# Inconsistency in contact laws"
   ]
  },
  {
   "cell_type": "code",
   "execution_count": 61,
   "metadata": {},
   "outputs": [
    {
     "name": "stderr",
     "output_type": "stream",
     "text": [
      "/tmp/ipykernel_2303674/8929468.py:34: MatplotlibDeprecationWarning: The get_cmap function was deprecated in Matplotlib 3.7 and will be removed two minor releases later. Use ``matplotlib.colormaps[name]`` or ``matplotlib.colormaps.get_cmap(obj)`` instead.\n",
      "  cmap = plt.cm.get_cmap(\"Set1\", np.max(encoded_values) + 1)\n"
     ]
    },
    {
     "data": {
      "text/plain": [
       "Text(0, 0.5, '$u_n$')"
      ]
     },
     "execution_count": 61,
     "metadata": {},
     "output_type": "execute_result"
    },
    {
     "data": {
      "image/png": "[encoded data removed]",
      "text/plain": [
       "<Figure size 640x480 with 1 Axes>"
      ]
     },
     "metadata": {},
     "output_type": "display_data"
    }
   ],
   "source": [
    "import numpy as np\n",
    "from matplotlib import pyplot as plt\n",
    "import matplotlib.patches as mpatches\n",
    "\n",
    "\n",
    "c = 5e-1\n",
    "F = 0.9\n",
    "eps = 1e-1\n",
    "u_t = 1\n",
    "lambda_t = 1\n",
    "\n",
    "\n",
    "def normal(lambda_n, u_n):\n",
    "    return -lambda_n - c * u_n\n",
    "\n",
    "\n",
    "def tang(lambda_n):\n",
    "    return -lambda_n * F - eps\n",
    "\n",
    "\n",
    "lambda_n_space = np.linspace(-10, 10, 300)\n",
    "u_n_space = np.linspace(-10, 10, 300)\n",
    "\n",
    "lambda_sliding = -abs(lambda_t + c * u_t) / F\n",
    "\n",
    "LAMBDA_N, U_N = np.meshgrid(lambda_n_space, u_n_space)\n",
    "\n",
    "normal_open = normal(LAMBDA_N, U_N) < 0\n",
    "tang_open = tang(LAMBDA_N) < 0\n",
    "\n",
    "bool_stack = np.stack([normal_open, tang_open], axis=-1)\n",
    "encoded_values = np.sum(bool_stack * (2 ** np.arange(bool_stack.shape[-1])), axis=-1)\n",
    "\n",
    "cmap = plt.cm.get_cmap(\"Set1\", np.max(encoded_values) + 1)\n",
    "\n",
    "# Plot the grid\n",
    "plt.plot([lambda_sliding, lambda_sliding], [-10, 10], color='black', label='Sticking / sliding')\n",
    "legend = plt.legend()\n",
    "plt.pcolormesh(LAMBDA_N, U_N, encoded_values, cmap=cmap, shading=\"auto\")\n",
    "labels = [\n",
    "    \"N closed, T closed\",\n",
    "    \"N open, T closed\",\n",
    "    \"N closed, T open\",\n",
    "    \"N open, T open\",\n",
    "]\n",
    "\n",
    "handles = [mpatches.Patch(color=cmap(i), label=labels[i]) for i in range(len(labels))] + legend.legend_handles\n",
    "plt.legend(\n",
    "    handles=handles,\n",
    "    title=\"Boolean Combinations\",\n",
    "    bbox_to_anchor=(1.05, 1),\n",
    "    loc=\"upper left\",\n",
    ")\n",
    "plt.xlabel(r\"$\\lambda_n$\")\n",
    "plt.ylabel(\"$u_n$\")\n",
    "# plt.tight_layout()"
   ]
  },
  {
   "cell_type": "code",
   "execution_count": null,
   "metadata": {},
   "outputs": [],
   "source": []
  }
 ],
 "metadata": {
  "kernelspec": {
   "display_name": "Python 3",
   "language": "python",
   "name": "python3"
  },
  "language_info": {
   "codemirror_mode": {
    "name": "ipython",
    "version": 3
   },
   "file_extension": ".py",
   "mimetype": "text/x-python",
   "name": "python",
   "nbconvert_exporter": "python",
   "pygments_lexer": "ipython3",
   "version": "3.11.7"
  }
 },
 "nbformat": 4,
 "nbformat_minor": 2
}
