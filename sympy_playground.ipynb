{
 "cells": [
  {
   "cell_type": "code",
   "execution_count": 17,
   "metadata": {},
   "outputs": [
    {
     "data": {
      "text/latex": [
       "$\\displaystyle \\left[\\begin{matrix}0 & 0 & 0 & J_{14} & 0\\\\0 & J_{22} & 0 & J_{24} & J_{25}\\\\0 & 0 & J_{33} & J_{34} & J_{35}\\\\J_{41} & 0 & J_{43} & J_{44} & J_{45}\\\\0 & J_{52} & J_{53} & J_{54} & J_{55}\\end{matrix}\\right]$"
      ],
      "text/plain": [
       "Matrix([\n",
       "[   0,    0,    0, J_14,    0],\n",
       "[   0, J_22,    0, J_24, J_25],\n",
       "[   0,    0, J_33, J_34, J_35],\n",
       "[J_41,    0, J_43, J_44, J_45],\n",
       "[   0, J_52, J_53, J_54, J_55]])"
      ]
     },
     "execution_count": 17,
     "metadata": {},
     "output_type": "execute_result"
    }
   ],
   "source": [
    "import numpy as np\n",
    "import sympy as sp\n",
    "\n",
    "commutative = False\n",
    "j = np.array([sp.symbols(' '.join([f'J_{i}{j}'for j in [1,2,3,4,5]]), commutative=commutative) for i in [1,2,3,4,5]])\n",
    "j[0, 1] = j[0, 2] = j[0,4] = j[1,0] = j[1,2] = j[2,0] = j[2,1] = j[3,1] = j[4,0] = 0\n",
    "j[0, 0] = 0\n",
    "J = sp.Matrix(j)\n",
    "J"
   ]
  },
  {
   "cell_type": "code",
   "execution_count": 18,
   "metadata": {},
   "outputs": [
    {
     "data": {
      "text/latex": [
       "$\\displaystyle \\left[\\begin{matrix}1 & 0 & 0 & 0 & 0\\\\0 & 1 & 0 & 0 & 0\\\\0 & 0 & 1 & 0 & 0\\\\- J_{44}^{-1} J_{41} & 0 & 0 & 1 & 0\\\\0 & 0 & 0 & 0 & 1\\end{matrix}\\right]$"
      ],
      "text/plain": [
       "Matrix([\n",
       "[               1, 0, 0, 0, 0],\n",
       "[               0, 1, 0, 0, 0],\n",
       "[               0, 0, 1, 0, 0],\n",
       "[-J_44**(-1)*J_41, 0, 0, 1, 0],\n",
       "[               0, 0, 0, 0, 1]])"
      ]
     },
     "execution_count": 18,
     "metadata": {},
     "output_type": "execute_result"
    }
   ],
   "source": [
    "Qright = sp.Matrix(np.eye(5, dtype=int))\n",
    "Qright[3,0] = -j[3,3] ** -1 * j[3,0]\n",
    "Qright"
   ]
  },
  {
   "cell_type": "code",
   "execution_count": 19,
   "metadata": {},
   "outputs": [
    {
     "data": {
      "text/latex": [
       "$\\displaystyle \\left[\\begin{matrix}0 & 0 & 0 & J_{14} & 0\\\\0 & J_{22} & 0 & J_{24} & J_{25}\\\\0 & 0 & J_{33} & J_{34} & J_{35}\\\\J_{41} & 0 & J_{43} & J_{44} & J_{45}\\\\0 & 0 & 0 & 0 & S_{55}\\end{matrix}\\right]$"
      ],
      "text/plain": [
       "Matrix([\n",
       "[   0,    0,    0, J_14,      0],\n",
       "[   0, J_22,    0, J_24,   J_25],\n",
       "[   0,    0, J_33, J_34,   J_35],\n",
       "[J_41,    0, J_43, J_44,   J_45],\n",
       "[   0,    0,    0,    0, S_{55}]])"
      ]
     },
     "execution_count": 19,
     "metadata": {},
     "output_type": "execute_result"
    }
   ],
   "source": [
    "F = J.copy()\n",
    "F[4, 1] = F[4, 2] = F[4,3] = 0\n",
    "F[4, 4] = sp.Symbol(\"S_{55}\", commutative=commutative)\n",
    "F"
   ]
  },
  {
   "cell_type": "code",
   "execution_count": 20,
   "metadata": {},
   "outputs": [
    {
     "data": {
      "text/latex": [
       "$\\displaystyle \\left[\\begin{matrix}- J_{14} J_{44}^{-1} J_{41} & 0 & 0 & J_{14} & 0\\\\- J_{24} J_{44}^{-1} J_{41} & J_{22} & 0 & J_{24} & J_{25}\\\\- J_{34} J_{44}^{-1} J_{41} & 0 & J_{33} & J_{34} & J_{35}\\\\0 & 0 & J_{43} & J_{44} & J_{45}\\\\0 & 0 & 0 & 0 & S_{55}\\end{matrix}\\right]$"
      ],
      "text/plain": [
       "Matrix([\n",
       "[-J_14*J_44**(-1)*J_41,    0,    0, J_14,      0],\n",
       "[-J_24*J_44**(-1)*J_41, J_22,    0, J_24,   J_25],\n",
       "[-J_34*J_44**(-1)*J_41,    0, J_33, J_34,   J_35],\n",
       "[                    0,    0, J_43, J_44,   J_45],\n",
       "[                    0,    0,    0,    0, S_{55}]])"
      ]
     },
     "execution_count": 20,
     "metadata": {},
     "output_type": "execute_result"
    }
   ],
   "source": [
    "F @ Qright"
   ]
  },
  {
   "cell_type": "code",
   "execution_count": null,
   "metadata": {},
   "outputs": [],
   "source": []
  },
  {
   "cell_type": "code",
   "execution_count": 60,
   "metadata": {},
   "outputs": [
    {
     "data": {
      "text/latex": [
       "$\\displaystyle \\delta^{2} + u \\left(\\sigma - y\\right)$"
      ],
      "text/plain": [
       "\\delta**2 + u*(\\sigma - y)"
      ]
     },
     "execution_count": 60,
     "metadata": {},
     "output_type": "execute_result"
    }
   ],
   "source": [
    "import sympy as sp\n",
    "\n",
    "u = sp.Symbol('u', nonpositive=True)\n",
    "sigma = sp.Symbol(r'\\sigma', nonpostive=True)\n",
    "y, x = sp.symbols('y x', nonnegative=True)\n",
    "delta = sp.Symbol(r'\\delta')\n",
    "x = 0\n",
    "eq = (u + x) * (sigma - y) + delta ** 2\n",
    "eq"
   ]
  },
  {
   "cell_type": "code",
   "execution_count": 61,
   "metadata": {},
   "outputs": [
    {
     "data": {
      "text/latex": [
       "$\\displaystyle \\frac{\\delta^{2}}{u} + \\sigma$"
      ],
      "text/plain": [
       "\\delta**2/u + \\sigma"
      ]
     },
     "execution_count": 61,
     "metadata": {},
     "output_type": "execute_result"
    }
   ],
   "source": [
    "sp.solve(eq, y)[0]"
   ]
  },
  {
   "cell_type": "code",
   "execution_count": 3,
   "metadata": {},
   "outputs": [
    {
     "data": {
      "text/latex": [
       "$\\displaystyle - x_{1} y_{1} + x_{1} y_{2} + x_{2} y_{1} - x_{2} y_{2}$"
      ],
      "text/plain": [
       "-x1*y1 + x1*y2 + x2*y1 - x2*y2"
      ]
     },
     "execution_count": 3,
     "metadata": {},
     "output_type": "execute_result"
    }
   ],
   "source": [
    "import sympy as sp\n",
    "\n",
    "x1, x2, y1, y2 = sp.symbols('x1 x2 y1 y2')\n",
    "x2 * y1 + x1 * y2 - x1 * y1 - x2 * y2"
   ]
  },
  {
   "cell_type": "code",
   "execution_count": null,
   "metadata": {},
   "outputs": [],
   "source": []
  }
 ],
 "metadata": {
  "kernelspec": {
   "display_name": "Python 3",
   "language": "python",
   "name": "python3"
  },
  "language_info": {
   "codemirror_mode": {
    "name": "ipython",
    "version": 3
   },
   "file_extension": ".py",
   "mimetype": "text/x-python",
   "name": "python",
   "nbconvert_exporter": "python",
   "pygments_lexer": "ipython3",
   "version": "3.11.7"
  }
 },
 "nbformat": 4,
 "nbformat_minor": 2
}
