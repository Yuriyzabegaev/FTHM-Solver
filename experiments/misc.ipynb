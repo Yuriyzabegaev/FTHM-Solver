{
 "cells": [
  {
   "cell_type": "markdown",
   "metadata": {},
   "source": [
    "# Source schedule"
   ]
  },
  {
   "cell_type": "code",
   "execution_count": 5,
   "metadata": {},
   "outputs": [
    {
     "name": "stdout",
     "output_type": "stream",
     "text": [
      "\n"
     ]
    },
    {
     "data": {
      "image/png": "[encoded data removed]",
      "text/plain": [
       "<Figure size 300x200 with 1 Axes>"
      ]
     },
     "metadata": {},
     "output_type": "display_data"
    }
   ],
   "source": [
    "import latex_header\n",
    "import numpy as np\n",
    "from matplotlib import pyplot as plt\n",
    "from models import make_model, SETUP_REFERENCE\n",
    "\n",
    "\n",
    "model = make_model(SETUP_REFERENCE)\n",
    "model.prepare_simulation()\n",
    "\n",
    "t = np.linspace(0, 6, 1000)\n",
    "plt.figure(figsize=(3, 2))\n",
    "plt.plot(t, [model.get_source_intensity(t) for t in t], color='black')\n",
    "plt.xlabel(\"Simulation time, s\")\n",
    "plt.ylabel(\"Source rate, $m^3 s^{-1}$\")\n",
    "plt.yticks([0, 0.001], [0, '$10^{-3}$'])\n",
    "plt.tight_layout()\n",
    "plt.savefig('tmp.pdf')"
   ]
  },
  {
   "cell_type": "markdown",
   "metadata": {},
   "source": [
    "Material parameters"
   ]
  },
  {
   "cell_type": "code",
   "execution_count": 107,
   "metadata": {},
   "outputs": [
    {
     "data": {
      "text/html": [
       "<div>\n",
       "<style scoped>\n",
       "    .dataframe tbody tr th:only-of-type {\n",
       "        vertical-align: middle;\n",
       "    }\n",
       "\n",
       "    .dataframe tbody tr th {\n",
       "        vertical-align: top;\n",
       "    }\n",
       "\n",
       "    .dataframe thead th {\n",
       "        text-align: right;\n",
       "    }\n",
       "</style>\n",
       "<table border=\"1\" class=\"dataframe\">\n",
       "  <thead>\n",
       "    <tr style=\"text-align: right;\">\n",
       "      <th></th>\n",
       "      <th>$G$, [Pa]</th>\n",
       "      <th>$\\Lame$, [Pa]</th>\n",
       "      <th>$\\theta$, [$^{\\circ}$]</th>\n",
       "      <th>$F$, [-]</th>\n",
       "      <th>$a^0$, [m]</th>\n",
       "      <th>$\\mathcal{K}_j$, [?]</th>\n",
       "    </tr>\n",
       "  </thead>\n",
       "  <tbody>\n",
       "    <tr>\n",
       "      <th>0</th>\n",
       "      <td>1.20E+10</td>\n",
       "      <td>1.20E+10</td>\n",
       "      <td>5</td>\n",
       "      <td>0.577</td>\n",
       "      <td>1.00E-04</td>\n",
       "      <td>1.00E-04</td>\n",
       "    </tr>\n",
       "    <tr>\n",
       "      <th>1</th>\n",
       "      <td>$\\perm$, [m$^2$]</td>\n",
       "      <td>$\\alpha$, [-]\"</td>\n",
       "      <td>$\\varphi^0$</td>\n",
       "      <td>$1 / M$, [Pa$^{-1}$]</td>\n",
       "      <td>$g^0$, [m]</td>\n",
       "      <td>$\\lambda_n$, [Pa]</td>\n",
       "    </tr>\n",
       "    <tr>\n",
       "      <th>2</th>\n",
       "      <td>1.00E-14</td>\n",
       "      <td>0.47</td>\n",
       "      <td>1.30E-02</td>\n",
       "      <td>4.74E-10</td>\n",
       "      <td>1.00E-04</td>\n",
       "      <td>1.20E+09</td>\n",
       "    </tr>\n",
       "    <tr>\n",
       "      <th>3</th>\n",
       "      <td>$\\Delta u_\\text{max}$, [m]</td>\n",
       "      <td>$c_f$, [Pa$^{-1}$]</td>\n",
       "      <td>$\\rhoRef$, [kg m$^{-3}$]</td>\n",
       "      <td>$\\visc$, [Pa s]</td>\n",
       "      <td>NaN</td>\n",
       "      <td>NaN</td>\n",
       "    </tr>\n",
       "    <tr>\n",
       "      <th>4</th>\n",
       "      <td>5.00E-05</td>\n",
       "      <td>4.56E-10</td>\n",
       "      <td>998.2</td>\n",
       "      <td>1.00E-03</td>\n",
       "      <td>NaN</td>\n",
       "      <td>NaN</td>\n",
       "    </tr>\n",
       "  </tbody>\n",
       "</table>\n",
       "</div>"
      ],
      "text/plain": [
       "                    $G$, [Pa]       $\\Lame$, [Pa]    $\\theta$, [$^{\\circ}$]  \\\n",
       "0                    1.20E+10            1.20E+10                         5   \n",
       "1            $\\perm$, [m$^2$]      $\\alpha$, [-]\"               $\\varphi^0$   \n",
       "2                    1.00E-14                0.47                  1.30E-02   \n",
       "3  $\\Delta u_\\text{max}$, [m]  $c_f$, [Pa$^{-1}$]  $\\rhoRef$, [kg m$^{-3}$]   \n",
       "4                    5.00E-05            4.56E-10                     998.2   \n",
       "\n",
       "               $F$, [-]  $a^0$, [m] $\\mathcal{K}_j$, [?]  \n",
       "0                 0.577    1.00E-04             1.00E-04  \n",
       "1  $1 / M$, [Pa$^{-1}$]  $g^0$, [m]    $\\lambda_n$, [Pa]  \n",
       "2              4.74E-10    1.00E-04             1.20E+09  \n",
       "3       $\\visc$, [Pa s]         NaN                  NaN  \n",
       "4              1.00E-03         NaN                  NaN  "
      ]
     },
     "execution_count": 107,
     "metadata": {},
     "output_type": "execute_result"
    }
   ],
   "source": [
    "import pandas as pd\n",
    "table = pd.read_csv('material_constants.csv')\n",
    "table"
   ]
  },
  {
   "cell_type": "code",
   "execution_count": 108,
   "metadata": {},
   "outputs": [
    {
     "name": "stdout",
     "output_type": "stream",
     "text": [
      "\\begin{tabular}{llllll}\n",
      "\\toprule\n",
      "$G$, [Pa] & $\\Lame$, [Pa] & $\\theta$, [$^{\\circ}$] & $F$, [-] & $a^0$, [m] & $\\mathcal{K}_j$, [?] \\\\\n",
      "\\midrule\n",
      "1.20E+10 & 1.20E+10 & 5 & 0.577 & 1.00E-04 & 1.00E-04 \\\\\n",
      "$\\perm$, [m$^2$] & $\\alpha$, [-]\" & $\\varphi^0$ & $1 / M$, [Pa$^{-1}$] & $g^0$, [m] & $\\lambda_n$, [Pa] \\\\\n",
      "1.00E-14 & 0.47 & 1.30E-02 & 4.74E-10 & 1.00E-04 & 1.20E+09 \\\\\n",
      "$\\Delta u_\\text{max}$, [m] & $c_f$, [Pa$^{-1}$] & $\\rhoRef$, [kg m$^{-3}$] & $\\visc$, [Pa s] & NaN & NaN \\\\\n",
      "5.00E-05 & 4.56E-10 & 998.2 & 1.00E-03 & NaN & NaN \\\\\n",
      "\\bottomrule\n",
      "\\end{tabular}\n",
      "\n"
     ]
    }
   ],
   "source": [
    "print(table.to_latex(index=False))"
   ]
  }
 ],
 "metadata": {
  "kernelspec": {
   "display_name": "Python 3",
   "language": "python",
   "name": "python3"
  },
  "language_info": {
   "codemirror_mode": {
    "name": "ipython",
    "version": 3
   },
   "file_extension": ".py",
   "mimetype": "text/x-python",
   "name": "python",
   "nbconvert_exporter": "python",
   "pygments_lexer": "ipython3",
   "version": "3.11.7"
  }
 },
 "nbformat": 4,
 "nbformat_minor": 2
}
